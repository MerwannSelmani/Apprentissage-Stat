{
 "cells": [
  {
   "cell_type": "markdown",
   "metadata": {},
   "source": [
    "\n",
    "\n",
    "<center>\n",
    "<a href=\"http://www.insa-toulouse.fr/\" ><img src=\"http://www.math.univ-toulouse.fr/~besse/Wikistat/Images/logo-insa.jpg\" style=\"float:left; max-width: 120px; display: inline\" alt=\"INSA\"/></a> \n",
    "\n",
    "\n",
    "\n",
    "<a href=\"http://wikistat.fr/\" ><img src=\"http://www.math.univ-toulouse.fr/~besse/Wikistat/Images/wikistat.jpg\" style=\"float:right; max-width: 250px; display: inline\"  alt=\"Wikistat\"/></a>\n",
    "</center>\n",
    "\n",
    "<div align=\"center\"> <b>UF: APPRENTISSAGE STATISTIQUE </b></div>\n",
    "<div align=\"center\"> SELMANI Merwann, LEGER Benjamin </div>\n",
    "<div align=\"center\"> <i> 5 GMM-MMS </i> </div>\n",
    "\n"
   ]
  },
  {
   "cell_type": "markdown",
   "metadata": {},
   "source": [
    "# Projet Apprentissage Statistique:  Score d’appétence de la carte visa premier"
   ]
  },
  {
   "cell_type": "markdown",
   "metadata": {},
   "source": [
    "## Introduction\n",
    "\n",
    "Ce calepin fait suite à l'étude exploratoire de données bancaires effectuée dans le cadre de la 4ème année GMM, présente et téléchargable [ici](https://github.com/wikistat/Exploration/blob/master/GRC-carte_Visa/Explo-Python-Visa.ipynb).\n",
    "\n",
    "Cette première étape avait entre autre permis de **mettre en forme ces données**, notamment via une étude uni et bivariée de celles-ci, mais également de mieux **définir les structures de liens entre les différentes variables**, et enfin de **definir les caractéristiques propres des possesseurs de la carte Visa Premier**.\n",
    "\n",
    "L'objet de l'étude que nous mènerons ici est d'appliquer différentes méthodes d'**apprentissage statistique** à nos données afin de tenter de prédire la probabilité de possession d’une carte visa premier pour des clients donnés (on parle de **score d'appétence**). \n",
    "\n",
    "Ce callepin s'articule autour de la démarche classique de l'apprentissage statistique: \n",
    "* Nous débuterons en effet par un **rappel des principales transformations opérées dans le scénario précédent**\n",
    "* Puis nous séparerons notre **échantillon total en un échantillon de test et un échantillon d'apprentissage** \n",
    "* Nous appliquerons plusieurs familles de modèles pour lesquelles nous **optimiserons divers paramètres de complexité** par cross-validation sur l'échantillon test pour ensuite calculer les **erreurs de prévision sur l'échantillon test** pour les meilleurs modèles de chaque famille.\n",
    "* Enfin une **comparaisons de modèles** sera effectuée.\n",
    "\n",
    "En ce qui concerne les méthodes utilisées, nous étudierons:\n",
    "\n",
    "* **La regression logistique**\n",
    "* **L'analyse discriminante décisionelle**\n",
    "* **Les arbres binaires de décisions **\n",
    "* **Trois méthodes d'aggrégation de modèle (Bagging, Boosting, Random-Forests)**\n",
    "* **Les SVM**\n",
    "\n",
    "\n",
    "Ce callepin est réalisé en langage  <a href=\"https://www.python.org/\"><img src=\"https://upload.wikimedia.org/wikipedia/commons/thumb/f/f8/Python_logo_and_wordmark.svg/390px-Python_logo_and_wordmark.svg.png\" style=\"max-width: 120px; display: inline\" alt=\"R\"/></a> et se base sur l'étude réalisée en <a href=\"https://cran.r-project.org/\"><img src=\"https://cran.r-project.org/Rlogo.svg\" style=\"max-width: 40px; display: inline\" alt=\"R\"/></a> disponible [ici](https://www.math.univ-toulouse.fr/~besse/Wikistat/pdf/st-scenar-app-visa.pdf).\n",
    "\n",
    "Une **comparaison des fonctionalités, avantages/incovenients associés à chaque langage** sera d'ailleurs réalisée tout au long de ce \"notebook\".\n"
   ]
  },
  {
   "cell_type": "markdown",
   "metadata": {},
   "source": [
    "## Lecture et premiers traitements sur les données: \n",
    "\n",
    "Dans un premier temps reprenons le travail réalisé en 4ème année de mise en forme de ces données. Pour cela nous nous basons sur le code [disponible ici](https://github.com/wikistat/Exploration/tree/master/GRC-carte_Visa).\n",
    "\n",
    "Le but est ici de réaliser différentes opérations de **mise en forme**, **restructuration** et **transformation** des **données brutes** (\"visa_raw\") fournies [ici](https://www.math.univ-toulouse.fr/~besse/Wikistat/data/).\n",
    "\n",
    "Nous ne revenons pas ici en détail sur ces opérations déjà bien décrites lors d'un travail antérieur. "
   ]
  },
  {
   "cell_type": "code",
   "execution_count": 2,
   "metadata": {
    "collapsed": true
   },
   "outputs": [],
   "source": [
    "#-- Importation des librairies --# \n",
    "%matplotlib inline\n",
    "import pylab as P\n",
    "import pandas as pd\n",
    "import numpy as np\n",
    "import matplotlib.pyplot as plt\n",
    "pd.options.mode.chained_assignment = None"
   ]
  },
  {
   "cell_type": "markdown",
   "metadata": {},
   "source": [
    "On importe dans un premier temps les données."
   ]
  },
  {
   "cell_type": "code",
   "execution_count": 3,
   "metadata": {
    "collapsed": false
   },
   "outputs": [],
   "source": [
    "#-- Lecture des données --#\n",
    "listeVar=['MATRIC','DEPTS','PVS','SEXEQ','AGER','FAMIQ', \n",
    " 'RELAT','PCSPQ','QUALS','G03G04S','G25G26S', \n",
    " 'G29G30S','G35G36S','G37G38S','G45G46S','G47G48S',\n",
    " 'IMPNBS','REJETS','OPGNB','MOYRV','TAVEP','ENDET','GAGET',\n",
    " 'GAGEC','GAGEM','KVUNB','QSMOY','QCRED','DMVTP','BOPPN',\n",
    " 'FACAN','LGAGT','VIENB','VIEMT','UEMNB','UEMMTS','XLGNB',\n",
    " 'XLGMT','YLVNB','YLVMT','NBELTS','MTELTS','NBCATS','MTCATS',\n",
    " 'NBBECS','MTBECS','ZOCNB','NTCAS','NPTAG','SEGV2S','ITAVC',\n",
    " 'HAVEF','JNBJD1S','JNBJD2S','JNBJD3S','CARVP']\n",
    "\n",
    "path=\"http://www.math.univ-toulouse.fr/~besse/Wikistat/data/\"\n",
    "visaraw = pd.read_table(path+'visa_raw_sas.dat',\n",
    "                        sep=';',header=None, index_col=0, names=listeVar)\n"
   ]
  },
  {
   "cell_type": "markdown",
   "metadata": {},
   "source": [
    "On **redéfini le type** des variables qualitatives et on **recode** certaines."
   ]
  },
  {
   "cell_type": "code",
   "execution_count": 4,
   "metadata": {
    "collapsed": true
   },
   "outputs": [],
   "source": [
    "#-- Fonction pour définir le bon type \"categorical\" des variables qualitatives --#\n",
    "#-- avec dictionnaire des modalités pour le recodage --#\n",
    "def create_categorical_data(df,column_name, cat_name_dic):\n",
    "    cat_columns = pd.Categorical(df[column_name],ordered=False)\n",
    "    new_categorie = [cat_name_dic[old_name] for old_name in cat_columns.categories]\n",
    "    return cat_columns.rename_categories(new_categorie)"
   ]
  },
  {
   "cell_type": "code",
   "execution_count": 5,
   "metadata": {
    "collapsed": false
   },
   "outputs": [],
   "source": [
    "#FAMIQ\n",
    "cat_name_dic = {'C':'Fcel','D':'Fdiv','M':'Fmar','S':'Fsep','U':'Fuli','V':'Fveu','inc':'Finc'}\n",
    "visaraw[\"FAMIQ\"]=create_categorical_data(visaraw,\"FAMIQ\", cat_name_dic)\n",
    "#SEXEQ\n",
    "cat_name_dic = {'1':'Shom','2':'Sfem','inc':'Sinc'}\n",
    "visaraw[\"SEXEQ\"]=create_categorical_data(visaraw,\"SEXEQ\", cat_name_dic)\n",
    "#CARVP\n",
    "cat_name_dic = {'non':'Cnon','oui':'Coui'}\n",
    "visaraw[\"CARVP\"]=create_categorical_data(visaraw,\"CARVP\", cat_name_dic)\n",
    "#PCSPQ\n",
    "visaraw[\"PCSPQ\"] = visaraw[\"PCSPQ\"].str.get(0).replace(\"0\",\"i\")\n",
    "cat_name_dic = {'1':'Pagr', '2':'Part', '3':'Pcad', '4':'Pint', '5':'Pemp','6':'Pouv',\n",
    "                '7':'Pret', '8':'Psan', 'i':'Pinc'}\n",
    "visaraw[\"PCSPQ\"]=create_categorical_data(visaraw,\"PCSPQ\", cat_name_dic)"
   ]
  },
  {
   "cell_type": "markdown",
   "metadata": {},
   "source": [
    "Certaines observations et variables sont **supprimées**."
   ]
  },
  {
   "cell_type": "code",
   "execution_count": 6,
   "metadata": {
    "collapsed": false
   },
   "outputs": [],
   "source": [
    "#-- Suppression d'observations non pertinentes --#\n",
    "visaraw= visaraw[np.logical_not(visaraw.G29G30S.isin(['B','X']))] \n",
    "visaraw= visaraw[np.logical_not(visaraw.G03G04S.isin(['B','X']))] \n",
    "visaraw= visaraw[np.logical_not(visaraw.G45G46S.isin(['A','B','X']))] \n",
    "visaraw= visaraw[np.logical_not(visaraw.G37G38S.isin(['A']))] \n",
    "visaraw= visaraw[np.logical_not(visaraw.G25G26S.isin(['A','B','X']))] \n",
    "visaraw= visaraw[np.logical_not(visaraw.G47G48S.isin(['B']))] "
   ]
  },
  {
   "cell_type": "code",
   "execution_count": 7,
   "metadata": {
    "collapsed": false
   },
   "outputs": [],
   "source": [
    "#-- Suppression de données manquantes --#\n",
    "visaraw = visaraw[visaraw.AGER!='.']\n",
    "#-- Seulement les clients de 18 à 65 ans --#\n",
    "visaraw[\"AGER\"]=visaraw[\"AGER\"].astype(int)\n",
    "visaraw=visaraw[np.logical_and(visaraw[\"AGER\"]<66,visaraw[\"AGER\"]>17)]\n",
    "\n",
    "visaraw[\"ZOCNB\"]=visaraw[\"ZOCNB\"].replace(\".\",np.nan)\n",
    "visaraw[\"DMVTP\"]=visaraw[\"DMVTP\"].replace(\".\",np.nan)"
   ]
  },
  {
   "cell_type": "code",
   "execution_count": 8,
   "metadata": {
    "collapsed": true
   },
   "outputs": [],
   "source": [
    "# interdits bancaires, comptes professionnels\n",
    "visaraw = visaraw[visaraw.NBCATS.astype(int)!= 1]\n",
    "visaraw = visaraw[visaraw.NBBECS.astype(int)!= 1]"
   ]
  },
  {
   "cell_type": "code",
   "execution_count": 9,
   "metadata": {
    "collapsed": false
   },
   "outputs": [],
   "source": [
    "# Modificaton des types des variables \n",
    "listeVarFl=['RELAT','IMPNBS','REJETS','OPGNB','MOYRV',\n",
    "'TAVEP','ENDET','GAGET','GAGEC','GAGEM','KVUNB','QSMOY','QCRED',\n",
    "'DMVTP','BOPPN','FACAN','LGAGT','VIENB','VIEMT','UEMNB','UEMMTS','XLGNB',\n",
    " 'XLGMT','YLVNB','YLVMT','NBELTS','MTELTS','NBCATS','MTCATS',\n",
    " 'NBBECS','MTBECS','ZOCNB','NTCAS','NPTAG','ITAVC',\n",
    " 'HAVEF','JNBJD1S','JNBJD2S','JNBJD3S']\n",
    "visaraw[listeVarFl]=visaraw[listeVarFl].astype(float)"
   ]
  },
  {
   "cell_type": "code",
   "execution_count": 10,
   "metadata": {
    "collapsed": false
   },
   "outputs": [],
   "source": [
    "# Un seule variable nombre de jours de débit\n",
    "visaraw[\"JNBJD\"]=visaraw[\"JNBJD1S\"]+visaraw[\"JNBJD2S\"]+visaraw[\"JNBJD3S\"] "
   ]
  },
  {
   "cell_type": "code",
   "execution_count": 11,
   "metadata": {
    "collapsed": false
   },
   "outputs": [],
   "source": [
    "# suppression des variables devenues inutiles\n",
    "listeVarSup=[\"DEPTS\",\"QUALS\",\"G03G04S\",\"G25G26S\",\"G29G30S\",\"G35G36S\",\n",
    "            \"G37G38S\",\"G45G46S\",\"G47G48S\",\"SEGV2S\",\"PVS\",\"JNBJD1S\",\"JNBJD2S\",\"JNBJD3S\"]\n",
    "visaraw.drop(listeVarSup,inplace=True,axis=1)"
   ]
  },
  {
   "cell_type": "code",
   "execution_count": 12,
   "metadata": {
    "collapsed": false
   },
   "outputs": [],
   "source": [
    "# mise à jour de la liste\n",
    "listeVar = [x for x in listeVar if x not in listeVarSup]"
   ]
  },
  {
   "cell_type": "markdown",
   "metadata": {},
   "source": [
    "Résumons le jeu de données que nous avons maintenant à disposition: "
   ]
  },
  {
   "cell_type": "code",
   "execution_count": 13,
   "metadata": {
    "collapsed": false
   },
   "outputs": [
    {
     "name": "stdout",
     "output_type": "stream",
     "text": [
      "Noms des variables à disposition: ['SEXEQ' 'AGER' 'FAMIQ' 'RELAT' 'PCSPQ' 'IMPNBS' 'REJETS' 'OPGNB' 'MOYRV'\n",
      " 'TAVEP' 'ENDET' 'GAGET' 'GAGEC' 'GAGEM' 'KVUNB' 'QSMOY' 'QCRED' 'DMVTP'\n",
      " 'BOPPN' 'FACAN' 'LGAGT' 'VIENB' 'VIEMT' 'UEMNB' 'UEMMTS' 'XLGNB' 'XLGMT'\n",
      " 'YLVNB' 'YLVMT' 'NBELTS' 'MTELTS' 'NBCATS' 'MTCATS' 'NBBECS' 'MTBECS'\n",
      " 'ZOCNB' 'NTCAS' 'NPTAG' 'ITAVC' 'HAVEF' 'CARVP' 'JNBJD']\n",
      "Dimensions de la table: (1069, 42)\n"
     ]
    }
   ],
   "source": [
    "print(\"Noms des variables à disposition: {var}\".format(var=visaraw.columns.values))\n",
    "print(\"Dimensions de la table: {taille}\".format(taille=visaraw.shape))"
   ]
  },
  {
   "cell_type": "code",
   "execution_count": 14,
   "metadata": {
    "collapsed": false
   },
   "outputs": [],
   "source": [
    "cols = visaraw.columns.tolist()\n",
    "cols[40], cols[41] = cols[41], cols[40]\n",
    "\n",
    "visaraw = visaraw[cols]"
   ]
  },
  {
   "cell_type": "markdown",
   "metadata": {},
   "source": [
    "Nous obtenons donc à cet etape un jeu de données similaire à celui obtenu à l'issue de l'exécution du script R **\"visa_lec\"** (table **`visprem`**). "
   ]
  },
  {
   "cell_type": "markdown",
   "metadata": {},
   "source": [
    "## Exploration\n",
    "\n",
    "Une étude exploratoire est ensuite nécessaire afin de les \"apprivoiser\" (notamment analyser leur structure de corrélation, entre autres), de s'assurer de la cohérence des données (et d'éventuellement effectuer des transformations). \n",
    "\n",
    "La majeure partie de cette étude est détaillée dans le callepin d'exploration associé à ces données. Nous en reprenons ici quelques parties importantes, justifiant notamment les transformations nécessaires à l'obtention d'un jeu de données exploitable pour la suite de cette étude. \n",
    "\n",
    "**Remarque:** Le code suivant correspond simplement à une opération executée dans la réalisation de cette étude exploratoire, il n'est pas nécessaire d'y préter une attention particulière."
   ]
  },
  {
   "cell_type": "code",
   "execution_count": 15,
   "metadata": {
    "collapsed": false
   },
   "outputs": [],
   "source": [
    "visaprem=visaraw"
   ]
  },
  {
   "cell_type": "code",
   "execution_count": 16,
   "metadata": {
    "collapsed": false
   },
   "outputs": [],
   "source": [
    "#-- Supression de modalités inutlisée sur la variable SEXEQ --#\n",
    "from statsmodels.graphics.mosaicplot import mosaic\n",
    "visaprem[\"SEXEQ\"]=visaprem[\"SEXEQ\"].cat.remove_unused_categories()"
   ]
  },
  {
   "cell_type": "markdown",
   "metadata": {},
   "source": [
    "### Etudes uni-bivariées et transformations induites: \n",
    "\n",
    "Dans une premier temps rappelons les principales conclusions faites à l'issue de la phase d'exploration uni et bivariée de ces données: \n",
    "\n",
    "On a notamment pu mettre en évidence certaines irrégularités, incohérences ou transformations potentielles dans les données avec notamment : \n",
    "\n",
    "* Certaines variables presentaient des distributions très dissymétriques. \n",
    "* Un problème avait été détécté sur la variables RELAT qui correspondait à l'ancienneté dans la banque (du à unz erreur sur certaines dates (bug de l'an 2000))\n",
    "* Certaines variables qualitatives possédaient des modalités très peu représentées\n",
    "* Des problèmes de variables manquantes ont été repérés"
   ]
  },
  {
   "cell_type": "markdown",
   "metadata": {},
   "source": [
    "Pour résoudre ces points les transformations suivantes ont été réalisées: \n",
    "\n",
    "On **regroupe ou recode des modalités** de certaines variables qualitatives."
   ]
  },
  {
   "cell_type": "code",
   "execution_count": 17,
   "metadata": {
    "collapsed": true
   },
   "outputs": [],
   "source": [
    "#-- Transformations des variables --#\n",
    "## regroupements de modalités\n",
    "visatrans=visaprem\n",
    "FAMIQ_DIC = {\"Fmar\":'Fcou',\"Fuli\":'Fcou',\"Fdiv\":'Fseu','Fveu':'Fseu',\n",
    "                        \"Fsep\":'Fseu',\"Fcel\":'Fseu'}\n",
    "PCSPQ_DIC = {\"Pagr\":\"Pint\",'Part':\"Pint\",\"Pret\":\"Psan\",\"Pinc\":\"Psan\"}\n",
    "\n",
    "visatrans[\"PCSPQ\"]=visatrans[\"PCSPQ\"].astype(str).replace(PCSPQ_DIC)\n",
    "visatrans[\"FAMIQ\"]=visatrans[\"FAMIQ\"].astype(str).replace(FAMIQ_DIC)"
   ]
  },
  {
   "cell_type": "markdown",
   "metadata": {},
   "source": [
    "On gère les **problèmes de \"NA\"** et on **corrige l'incohérence détéctée sur RELAT**:"
   ]
  },
  {
   "cell_type": "code",
   "execution_count": 18,
   "metadata": {
    "collapsed": false
   },
   "outputs": [],
   "source": [
    "#-- complétion de valeurs --#\n",
    "visatrans[\"ZOCNB\"].fillna(0, inplace=True)\n",
    "visatrans[\"ZOCNB\"]\n",
    "visatrans = visatrans[visatrans.DMVTP.notnull()]\n",
    "# Correction ancienneté relation\n",
    "visatrans[\"RELAT\"]= [x-720 if x>600 else x for x in visatrans[\"RELAT\"]]\n"
   ]
  },
  {
   "cell_type": "markdown",
   "metadata": {},
   "source": [
    "On effectue des **transformations** sur les variables aux distributions jugées dissymétriques. "
   ]
  },
  {
   "cell_type": "code",
   "execution_count": 19,
   "metadata": {
    "collapsed": false
   },
   "outputs": [],
   "source": [
    "# log des variables de distribution dissymétrique \n",
    "def log1(x):\n",
    "    return np.log(1+x)\n",
    "\n",
    "listeVarLog=['OPGNB','MOYRV','TAVEP','ENDET','GAGET','GAGEC',\n",
    "'GAGEM','QCRED','DMVTP','BOPPN','FACAN','LGAGT',\n",
    "'VIEMT','XLGMT','YLVMT','ITAVC','HAVEF','JNBJD']\n",
    "visatrans[listeVarLog]=log1(visatrans[listeVarLog])\n",
    "visatrans[\"ZOCNB\"]=np.sqrt(visatrans[\"ZOCNB\"])"
   ]
  },
  {
   "cell_type": "markdown",
   "metadata": {},
   "source": [
    "Nous obtenons la table suivante (5 première lignes):"
   ]
  },
  {
   "cell_type": "code",
   "execution_count": 20,
   "metadata": {
    "collapsed": false
   },
   "outputs": [
    {
     "data": {
      "text/html": [
       "<div>\n",
       "<table border=\"1\" class=\"dataframe\">\n",
       "  <thead>\n",
       "    <tr style=\"text-align: right;\">\n",
       "      <th></th>\n",
       "      <th>SEXEQ</th>\n",
       "      <th>AGER</th>\n",
       "      <th>FAMIQ</th>\n",
       "      <th>RELAT</th>\n",
       "      <th>PCSPQ</th>\n",
       "      <th>OPGNB</th>\n",
       "      <th>MOYRV</th>\n",
       "      <th>TAVEP</th>\n",
       "      <th>ENDET</th>\n",
       "      <th>GAGET</th>\n",
       "      <th>...</th>\n",
       "      <th>XLGNB</th>\n",
       "      <th>XLGMT</th>\n",
       "      <th>YLVNB</th>\n",
       "      <th>YLVMT</th>\n",
       "      <th>ZOCNB</th>\n",
       "      <th>NPTAG</th>\n",
       "      <th>ITAVC</th>\n",
       "      <th>HAVEF</th>\n",
       "      <th>JNBJD</th>\n",
       "      <th>CARVP</th>\n",
       "    </tr>\n",
       "    <tr>\n",
       "      <th>MATRIC</th>\n",
       "      <th></th>\n",
       "      <th></th>\n",
       "      <th></th>\n",
       "      <th></th>\n",
       "      <th></th>\n",
       "      <th></th>\n",
       "      <th></th>\n",
       "      <th></th>\n",
       "      <th></th>\n",
       "      <th></th>\n",
       "      <th></th>\n",
       "      <th></th>\n",
       "      <th></th>\n",
       "      <th></th>\n",
       "      <th></th>\n",
       "      <th></th>\n",
       "      <th></th>\n",
       "      <th></th>\n",
       "      <th></th>\n",
       "      <th></th>\n",
       "      <th></th>\n",
       "    </tr>\n",
       "  </thead>\n",
       "  <tbody>\n",
       "    <tr>\n",
       "      <th>148009</th>\n",
       "      <td>Shom</td>\n",
       "      <td>51</td>\n",
       "      <td>Fcou</td>\n",
       "      <td>238.0</td>\n",
       "      <td>Pcad</td>\n",
       "      <td>0.000000</td>\n",
       "      <td>4.753590</td>\n",
       "      <td>13.461603</td>\n",
       "      <td>1.609438</td>\n",
       "      <td>11.688701</td>\n",
       "      <td>...</td>\n",
       "      <td>2.0</td>\n",
       "      <td>13.161865</td>\n",
       "      <td>2.0</td>\n",
       "      <td>12.110635</td>\n",
       "      <td>3.741657</td>\n",
       "      <td>0.0</td>\n",
       "      <td>14.080718</td>\n",
       "      <td>13.230263</td>\n",
       "      <td>0.693147</td>\n",
       "      <td>Coui</td>\n",
       "    </tr>\n",
       "    <tr>\n",
       "      <th>552427</th>\n",
       "      <td>Shom</td>\n",
       "      <td>58</td>\n",
       "      <td>Fcou</td>\n",
       "      <td>139.0</td>\n",
       "      <td>Pcad</td>\n",
       "      <td>0.000000</td>\n",
       "      <td>3.713572</td>\n",
       "      <td>8.132413</td>\n",
       "      <td>0.000000</td>\n",
       "      <td>0.000000</td>\n",
       "      <td>...</td>\n",
       "      <td>0.0</td>\n",
       "      <td>0.000000</td>\n",
       "      <td>1.0</td>\n",
       "      <td>8.132413</td>\n",
       "      <td>0.000000</td>\n",
       "      <td>0.0</td>\n",
       "      <td>11.717872</td>\n",
       "      <td>0.000000</td>\n",
       "      <td>0.000000</td>\n",
       "      <td>Coui</td>\n",
       "    </tr>\n",
       "    <tr>\n",
       "      <th>556005</th>\n",
       "      <td>Shom</td>\n",
       "      <td>27</td>\n",
       "      <td>Fseu</td>\n",
       "      <td>99.0</td>\n",
       "      <td>Psan</td>\n",
       "      <td>0.000000</td>\n",
       "      <td>2.890372</td>\n",
       "      <td>11.242717</td>\n",
       "      <td>0.000000</td>\n",
       "      <td>0.000000</td>\n",
       "      <td>...</td>\n",
       "      <td>1.0</td>\n",
       "      <td>10.743178</td>\n",
       "      <td>2.0</td>\n",
       "      <td>10.309286</td>\n",
       "      <td>3.741657</td>\n",
       "      <td>0.0</td>\n",
       "      <td>11.329303</td>\n",
       "      <td>0.000000</td>\n",
       "      <td>0.000000</td>\n",
       "      <td>Coui</td>\n",
       "    </tr>\n",
       "    <tr>\n",
       "      <th>556686</th>\n",
       "      <td>Shom</td>\n",
       "      <td>49</td>\n",
       "      <td>Fseu</td>\n",
       "      <td>89.0</td>\n",
       "      <td>Pemp</td>\n",
       "      <td>0.000000</td>\n",
       "      <td>5.926926</td>\n",
       "      <td>13.067592</td>\n",
       "      <td>0.000000</td>\n",
       "      <td>12.250391</td>\n",
       "      <td>...</td>\n",
       "      <td>3.0</td>\n",
       "      <td>12.899220</td>\n",
       "      <td>2.0</td>\n",
       "      <td>11.203025</td>\n",
       "      <td>3.316625</td>\n",
       "      <td>1.0</td>\n",
       "      <td>13.111856</td>\n",
       "      <td>9.972267</td>\n",
       "      <td>2.772589</td>\n",
       "      <td>Coui</td>\n",
       "    </tr>\n",
       "    <tr>\n",
       "      <th>642680</th>\n",
       "      <td>Shom</td>\n",
       "      <td>64</td>\n",
       "      <td>Fcou</td>\n",
       "      <td>216.0</td>\n",
       "      <td>Pcad</td>\n",
       "      <td>1.791759</td>\n",
       "      <td>3.218876</td>\n",
       "      <td>11.270382</td>\n",
       "      <td>0.000000</td>\n",
       "      <td>0.000000</td>\n",
       "      <td>...</td>\n",
       "      <td>1.0</td>\n",
       "      <td>10.457976</td>\n",
       "      <td>2.0</td>\n",
       "      <td>9.190546</td>\n",
       "      <td>5.196152</td>\n",
       "      <td>0.0</td>\n",
       "      <td>11.304904</td>\n",
       "      <td>0.000000</td>\n",
       "      <td>1.386294</td>\n",
       "      <td>Coui</td>\n",
       "    </tr>\n",
       "  </tbody>\n",
       "</table>\n",
       "<p>5 rows × 32 columns</p>\n",
       "</div>"
      ],
      "text/plain": [
       "       SEXEQ  AGER FAMIQ  RELAT PCSPQ     OPGNB     MOYRV      TAVEP  \\\n",
       "MATRIC                                                                 \n",
       "148009  Shom    51  Fcou  238.0  Pcad  0.000000  4.753590  13.461603   \n",
       "552427  Shom    58  Fcou  139.0  Pcad  0.000000  3.713572   8.132413   \n",
       "556005  Shom    27  Fseu   99.0  Psan  0.000000  2.890372  11.242717   \n",
       "556686  Shom    49  Fseu   89.0  Pemp  0.000000  5.926926  13.067592   \n",
       "642680  Shom    64  Fcou  216.0  Pcad  1.791759  3.218876  11.270382   \n",
       "\n",
       "           ENDET      GAGET  ...    XLGNB      XLGMT  YLVNB      YLVMT  \\\n",
       "MATRIC                       ...                                         \n",
       "148009  1.609438  11.688701  ...      2.0  13.161865    2.0  12.110635   \n",
       "552427  0.000000   0.000000  ...      0.0   0.000000    1.0   8.132413   \n",
       "556005  0.000000   0.000000  ...      1.0  10.743178    2.0  10.309286   \n",
       "556686  0.000000  12.250391  ...      3.0  12.899220    2.0  11.203025   \n",
       "642680  0.000000   0.000000  ...      1.0  10.457976    2.0   9.190546   \n",
       "\n",
       "           ZOCNB  NPTAG      ITAVC      HAVEF     JNBJD  CARVP  \n",
       "MATRIC                                                          \n",
       "148009  3.741657    0.0  14.080718  13.230263  0.693147   Coui  \n",
       "552427  0.000000    0.0  11.717872   0.000000  0.000000   Coui  \n",
       "556005  3.741657    0.0  11.329303   0.000000  0.000000   Coui  \n",
       "556686  3.316625    1.0  13.111856   9.972267  2.772589   Coui  \n",
       "642680  5.196152    0.0  11.304904   0.000000  1.386294   Coui  \n",
       "\n",
       "[5 rows x 32 columns]"
      ]
     },
     "execution_count": 20,
     "metadata": {},
     "output_type": "execute_result"
    }
   ],
   "source": [
    "visatrans2 = visatrans[[\"SEXEQ\",\"AGER\",\"FAMIQ\",\"RELAT\",\"PCSPQ\",\"OPGNB\", \"MOYRV\",\"TAVEP\", \"ENDET\", \"GAGET\",\"GAGEC\", \"GAGEM\", \"KVUNB\",\"QSMOY\", \"QCRED\", \"DMVTP\",\"BOPPN\", \"FACAN\", \"LGAGT\",\"VIENB\", \"VIEMT\", \"UEMNB\",\"XLGNB\", \"XLGMT\", \"YLVNB\",\"YLVMT\", \"ZOCNB\", \"NPTAG\",\"ITAVC\", \"HAVEF\",\"JNBJD\", \"CARVP\"]]\n",
    "visatrans2.head()"
   ]
  },
  {
   "cell_type": "code",
   "execution_count": 21,
   "metadata": {
    "collapsed": false
   },
   "outputs": [],
   "source": [
    "# avec le même ordre que dans le script R \n",
    "visatrans3 = visatrans[[\"SEXEQ\",\"FAMIQ\",\"PCSPQ\",\"RELAT\",\"AGER\",\"OPGNB\",\"MOYRV\",\"TAVEP\",\"ENDET\",\"GAGET\",\"GAGEC\",\"GAGEM\",\"KVUNB\",\"QSMOY\",\"QCRED\",\"DMVTP\",\"BOPPN\",\"FACAN\",\"LGAGT\",\"VIENB\",\"VIEMT\",\"UEMNB\",\"XLGNB\",\"XLGMT\",\"YLVNB\",\"YLVMT\",\"ZOCNB\",\"NPTAG\",\"ITAVC\",\"HAVEF\",\"JNBJD\",\"CARVP\"]]"
   ]
  },
  {
   "cell_type": "markdown",
   "metadata": {},
   "source": [
    "On donne ses dimensions:"
   ]
  },
  {
   "cell_type": "code",
   "execution_count": 22,
   "metadata": {
    "collapsed": false
   },
   "outputs": [
    {
     "name": "stdout",
     "output_type": "stream",
     "text": [
      "Dimensions de la table: (1063, 32)\n"
     ]
    }
   ],
   "source": [
    "print(\"Dimensions de la table: {taille}\".format(taille=visatrans3.shape))\n"
   ]
  },
  {
   "cell_type": "markdown",
   "metadata": {},
   "source": [
    "Cette table `visatrans2` est alors l'équivalent de celle obetnue en sortie du script R **`visa_trans.R`** (table **`vispremt`**).\n"
   ]
  },
  {
   "cell_type": "markdown",
   "metadata": {},
   "source": [
    "### Exploration multivariée\n",
    "\n",
    "On rappelle et présente rapidement deux des grandes étapes de l'exploration multivariée réalisée dans le cadre du cours d'exploration 4ème année:\n",
    "\n",
    "* l'Analyse en Composantes Principales, pour l'étude des structures de corrélation entre les variables quantitatives \n",
    "* l'Analyse Factorielle des Correspondances Multiples qui permet la projection dans un sous-espace des variables qualitatives.\n",
    "\n",
    "Notons que cette deuxième étape a entrainé le recodage en \"version qualitative\" des prédicteurs quantitatifs. \n",
    "\n",
    "#### Etape ACP:"
   ]
  },
  {
   "cell_type": "code",
   "execution_count": 23,
   "metadata": {
    "collapsed": true
   },
   "outputs": [],
   "source": [
    "from sklearn.decomposition import PCA\n",
    "import matplotlib.pyplot as plt\n",
    "# définition de la commande\n",
    "pca = PCA()\n",
    "# Sélection des variables quantitatives\n",
    "dat=visatrans[[\"AGER\",\"RELAT\",\"KVUNB\", \"OPGNB\", \"MOYRV\",\"TAVEP\",\"ENDET\",\"GAGET\",\"GAGEC\",\"GAGEM\",\"QCRED\",\"DMVTP\",\"BOPPN\",\"FACAN\",\"LGAGT\",\"VIEMT\",\"XLGMT\",\"YLVMT\",\"ITAVC\",\"HAVEF\",\"JNBJD\",\"ZOCNB\"]]\n",
    "data = (dat - dat.mean()) / dat.std()\n",
    "# composantes principales\n",
    "C = pca.fit(data).transform(data)"
   ]
  },
  {
   "cell_type": "markdown",
   "metadata": {},
   "source": [
    "On observe tout d'abord la représentation des individus dans le premier plan principal."
   ]
  },
  {
   "cell_type": "code",
   "execution_count": 24,
   "metadata": {
    "collapsed": false
   },
   "outputs": [
    {
     "data": {
      "image/png": "[encoded data removed]",
      "text/plain": [
       "<matplotlib.figure.Figure at 0x7f074c1fe410>"
      ]
     },
     "metadata": {},
     "output_type": "display_data"
    }
   ],
   "source": [
    "plt.figure(figsize=(10,8))\n",
    "for i, j, nom in zip(C[:,0], C[:,1], visatrans['CARVP']):\n",
    "    color = \"red\" if nom == \"Coui\" else \"blue\"\n",
    "    plt.text(i, j, nom, color=color)\n",
    "plt.axis((-6,7.5,-5,6))  \n",
    "P.show()"
   ]
  },
  {
   "cell_type": "markdown",
   "metadata": {},
   "source": [
    "Puis la représentation des variables:"
   ]
  },
  {
   "cell_type": "code",
   "execution_count": 25,
   "metadata": {
    "collapsed": false
   },
   "outputs": [
    {
     "data": {
      "image/png": "[encoded data removed]",
      "text/plain": [
       "<matplotlib.figure.Figure at 0x7f0727d9a890>"
      ]
     },
     "metadata": {},
     "output_type": "display_data"
    }
   ],
   "source": [
    "# coordonnées des variables\n",
    "coord1=pca.components_[0]*np.sqrt(pca.explained_variance_[0])\n",
    "coord2=pca.components_[1]*np.sqrt(pca.explained_variance_[1])\n",
    "fig = plt.figure(figsize=(8,8))\n",
    "ax = fig.add_subplot(1, 1, 1)\n",
    "for i, j, nom in zip(coord1,coord2, data.columns):\n",
    "    plt.text(i, j, nom)\n",
    "    plt.arrow(0,0,i,j,color='r')\n",
    "plt.axis((-1.2,1.2,-1.2,1.2))\n",
    "# cercle\n",
    "c=plt.Circle((0,0), radius=1, color='b', fill=False)\n",
    "ax.add_patch(c)\n",
    "P.show()"
   ]
  },
  {
   "cell_type": "markdown",
   "metadata": {},
   "source": [
    "Nous ne revenons pas ici sur ces résultats et leur interprétation détaillées dans les travaux de 4ème année."
   ]
  },
  {
   "cell_type": "markdown",
   "metadata": {},
   "source": [
    "#### Etape AFCM:\n",
    "\n"
   ]
  },
  {
   "cell_type": "code",
   "execution_count": 26,
   "metadata": {
    "collapsed": true
   },
   "outputs": [],
   "source": [
    "#Recodage des variables \n",
    "import random\n",
    "#visapremv=visatrans2\n",
    "visapremv=visatrans3"
   ]
  },
  {
   "cell_type": "markdown",
   "metadata": {},
   "source": [
    "Tout d'abord on **recode** les **variables qualitatives** avec notamment des **problèmes de fréquence par modalité**."
   ]
  },
  {
   "cell_type": "code",
   "execution_count": 27,
   "metadata": {
    "collapsed": false
   },
   "outputs": [],
   "source": [
    "#-- Regroupement de classes et recodages --#\n",
    "# Remplacement de la modalité Finc aléatoirement par les deux autres modalité de FAMIQ (Fseu et Fcou) \n",
    "def rep_fami(x):\n",
    "    if random.random()<0.45:\n",
    "        x=\"Fseu\"\n",
    "    else:\n",
    "        x=\"Fcou\"\n",
    "    return x\n",
    "visapremv[\"FAMIQ\"]=[x if x!=\"Finc\" else rep_fami(x) for x in visapremv[\"FAMIQ\"]]"
   ]
  },
  {
   "cell_type": "markdown",
   "metadata": {},
   "source": [
    "On rend qualitatives des variables quantitatives d'intérêt: "
   ]
  },
  {
   "cell_type": "code",
   "execution_count": 28,
   "metadata": {
    "collapsed": false
   },
   "outputs": [],
   "source": [
    "kvunbq = [\"K0\" if x in [0,1] else \"K1\" for x in visapremv[\"KVUNB\"] ]\n",
    "visapremv[\"KVUNBQ\"]=pd.Categorical(kvunbq,ordered=False)\n",
    "\n",
    "vienbq = [\"V0\" if x==0 else \"V1\" for x in visapremv[\"VIENB\"]]\n",
    "visapremv[\"VIENBQ\"]=pd.Categorical(vienbq,ordered=False)\n",
    "\n",
    "uemnbq = [\"U0\" if x==0 else \"U1\" if x==1 else \"U2\" for x in visapremv[\"UEMNB\"] ]\n",
    "visapremv[\"UEMNBQ\"]=pd.Categorical(uemnbq,ordered=False)\n",
    "\n",
    "xlgnbq = [\"X0\" if x==0 else \"X1\" if x==1 else \"X2\" for x in visapremv[\"XLGNB\"] ]\n",
    "visapremv[\"XLGNBQ\"]=pd.Categorical(xlgnbq,ordered=False)\n",
    "\n",
    "ylvnbq = [\"Y0\" if x==0 else \"Y1\" if x==1 else \"Y2\" for x in visapremv[\"YLVNB\"] ]\n",
    "visapremv[\"YLVNBQ\"]=pd.Categorical(ylvnbq,ordered=False)\n",
    "\n",
    "zocnbq = [\"Z0\" if x ==0 else \"Z1\" for x in visapremv[\"ZOCNB\"] ]\n",
    "visapremv[\"ZOCNBQ\"]=pd.Categorical(zocnbq,ordered=False)\n",
    "\n",
    "nptagq = [\"N0\" if x ==0 else \"N1\" for x in visapremv[\"NPTAG\"] ]\n",
    "visapremv[\"NPTAGQ\"]=pd.Categorical(nptagq,ordered=False)"
   ]
  },
  {
   "cell_type": "code",
   "execution_count": 29,
   "metadata": {
    "collapsed": false
   },
   "outputs": [],
   "source": [
    "def rec(df,col_name,a,b):\n",
    "    colq = [b if x>0 else a for x in df[col_name]]\n",
    "    return colq\n",
    "\n",
    "visapremv[\"ENDETQ\"]=pd.Categorical(rec(visapremv,\"ENDET\",\"E0\",\"E1\"),ordered=False)\n",
    "visapremv[\"GAGETQ\"]=pd.Categorical(rec(visapremv,\"GAGET\",\"G0\",\"G1\"),ordered=False)\n",
    "visapremv[\"FACANQ\"]=pd.Categorical(rec(visapremv,\"FACAN\",\"F0\",\"F1\"),ordered=False)\n",
    "visapremv[\"LGAGTQ\"]=pd.Categorical(rec(visapremv,\"LGAGT\",\"L0\",\"L1\"),ordered=False)\n",
    "visapremv[\"HAVEFQ\"]=pd.Categorical(rec(visapremv,\"HAVEF\",\"H0\",\"H1\"),ordered=False)"
   ]
  },
  {
   "cell_type": "code",
   "execution_count": 30,
   "metadata": {
    "collapsed": true
   },
   "outputs": [],
   "source": [
    "# On passe les variables quantitatives continues  en qualitatif en coupant aux quantiles \n",
    "# on prend de côté les variable quantitative continues à \"qualitatifier\"\n",
    "visapremw=visapremv[[\"AGER\",\"RELAT\",\"QSMOY\",\"OPGNB\",\"MOYRV\",\"TAVEP\",\"DMVTP\",\"BOPPN\",\"ITAVC\",\"JNBJD\"]]"
   ]
  },
  {
   "cell_type": "code",
   "execution_count": 31,
   "metadata": {
    "collapsed": false
   },
   "outputs": [],
   "source": [
    "visapremw[\"AGEQ\"]=pd.qcut(visapremw.AGER,3,labels=[\"A0\",\"A1\",\"A2\"])\n",
    "visapremw[\"RELATQ\"]=pd.qcut(visapremw.RELAT,3,labels=[\"R0\",\"R1\",\"R2\"])\n",
    "visapremw[\"QSMOYQ\"]=pd.qcut(visapremw.QSMOY,3,labels=[\"Q0\",\"Q1\",\"Q2\"])\n",
    "visapremw[\"MOYRVQ\"]=pd.qcut(visapremw.MOYRV,3,labels=[\"M0\",\"M1\",\"M2\"])\n",
    "visapremw[\"TAVEPQ\"]=pd.qcut(visapremw.TAVEP,3,labels=[\"T0\",\"T1\",\"T2\"])\n",
    "visapremw[\"DMVTPQ\"]=pd.qcut(visapremw.DMVTP,3,labels=[\"D0\",\"D1\",\"D2\"])\n",
    "visapremw[\"BOPPNQ\"]=pd.qcut(visapremw.BOPPN,3,labels=[\"B0\",\"B1\",\"B2\"])\n",
    "visapremw[\"ITAVCQ\"]=pd.qcut(visapremw.ITAVC,3,labels=[\"I0\",\"I1\",\"I2\"])\n",
    "\n",
    "# suppression des variables devenues inutiles\n",
    "listeVarSup=[\"AGER\",\"RELAT\",\"QSMOY\",\"MOYRV\",\"TAVEP\",\"DMVTP\",\"BOPPN\",\"ITAVC\"]\n",
    "visapremw.drop(listeVarSup,inplace=True,axis=1)"
   ]
  },
  {
   "cell_type": "code",
   "execution_count": 32,
   "metadata": {
    "collapsed": false
   },
   "outputs": [],
   "source": [
    "# Problème pour deux variables avec beaucoup de 0\n",
    "#Source : http://stackoverflow.com/questions/20158597/how-to-qcut-with-non-unique-bin-edges\n",
    "import pandas.core.algorithms as algos\n",
    "mx = np.ma.masked_equal(visapremw.JNBJD.as_matrix(), 0, copy=True)\n",
    "bina = algos.quantile(visapremw.JNBJD.as_matrix()[~mx.mask], np.linspace(0, 1, 3))\n",
    "bina = np.insert(bina, 0, 0)\n",
    "bina[1] = bina[1]-(bina[1]/2)\n",
    "result = pd.tools.tile._bins_to_cuts(visapremw.JNBJD.as_matrix(), bina, include_lowest=True)\n",
    "visapremw[\"JNBJDQ\"]=pd.cut(visapremw.JNBJD,bins=bina,labels=[\"J0\",\"J1\",\"J2\"])\n",
    "visapremw[\"JNBJDQ\"]=visapremw[\"JNBJDQ\"].fillna('J0')\n",
    "\n",
    "mx = np.ma.masked_equal(visapremw.OPGNB.as_matrix(), 0, copy=True)\n",
    "bina = algos.quantile(visapremw.OPGNB.as_matrix()[~mx.mask], np.linspace(0, 1, 3))\n",
    "bina = np.insert(bina, 0, 0)\n",
    "bina[1] = bina[1]-(bina[1]/2)\n",
    "result = pd.tools.tile._bins_to_cuts(visapremw.JNBJD.as_matrix(), bina, include_lowest=True)\n",
    "visapremw[\"OPGNBQ\"]=pd.cut(visapremw.OPGNB,bins=bina,labels=[\"O0\",\"O1\",\"O2\"])\n",
    "visapremw[\"OPGNBQ\"]=visapremw[\"OPGNBQ\"].fillna('O0')\n",
    "\n",
    "del visapremw[\"OPGNB\"]\n",
    "del visapremw[\"JNBJD\"]"
   ]
  },
  {
   "cell_type": "code",
   "execution_count": 33,
   "metadata": {
    "collapsed": true
   },
   "outputs": [],
   "source": [
    "fram=[visapremv,visapremw]\n",
    "visapremvw=pd.concat(fram,1)"
   ]
  },
  {
   "cell_type": "markdown",
   "metadata": {},
   "source": [
    "On obtient donc le jeu de données correspondant à celui résultant de l'execution du script R **`visa_code.R`** avec pour seul différence l'absence des deux variables \"sexer\" et \"familr\" qui correspondent à la version \"quantitative\" du sexe et du statut familial (dont nous ne nous intéressons bien entendu pas à cette étape, et que nous intégrerons utltérieurement).\n",
    "\n",
    "On donne ses dimensions et le nom des variables considérées: à noter que les variables quantitatives recodées en facteurs qualitatifs se voient imputées d'un \"Q\"."
   ]
  },
  {
   "cell_type": "code",
   "execution_count": 34,
   "metadata": {
    "collapsed": false
   },
   "outputs": [
    {
     "name": "stdout",
     "output_type": "stream",
     "text": [
      "Noms des variables à disposition: ['SEXEQ' 'FAMIQ' 'PCSPQ' 'RELAT' 'AGER' 'OPGNB' 'MOYRV' 'TAVEP' 'ENDET'\n",
      " 'GAGET' 'GAGEC' 'GAGEM' 'KVUNB' 'QSMOY' 'QCRED' 'DMVTP' 'BOPPN' 'FACAN'\n",
      " 'LGAGT' 'VIENB' 'VIEMT' 'UEMNB' 'XLGNB' 'XLGMT' 'YLVNB' 'YLVMT' 'ZOCNB'\n",
      " 'NPTAG' 'ITAVC' 'HAVEF' 'JNBJD' 'CARVP' 'KVUNBQ' 'VIENBQ' 'UEMNBQ'\n",
      " 'XLGNBQ' 'YLVNBQ' 'ZOCNBQ' 'NPTAGQ' 'ENDETQ' 'GAGETQ' 'FACANQ' 'LGAGTQ'\n",
      " 'HAVEFQ' 'AGEQ' 'RELATQ' 'QSMOYQ' 'MOYRVQ' 'TAVEPQ' 'DMVTPQ' 'BOPPNQ'\n",
      " 'ITAVCQ' 'JNBJDQ' 'OPGNBQ']\n",
      "Dimensions de la table: (1063, 54)\n"
     ]
    }
   ],
   "source": [
    "print(\"Noms des variables à disposition: {var}\".format(var=visapremvw.columns.values))\n",
    "print(\"Dimensions de la table: {taille}\".format(taille=visapremvw.shape))"
   ]
  },
  {
   "cell_type": "code",
   "execution_count": 34,
   "metadata": {
    "collapsed": false
   },
   "outputs": [
    {
     "ename": "ImportError",
     "evalue": "No module named mca",
     "output_type": "error",
     "traceback": [
      "\u001b[1;31m---------------------------------------------------------------------------\u001b[0m",
      "\u001b[1;31mImportError\u001b[0m                               Traceback (most recent call last)",
      "\u001b[1;32m<ipython-input-34-970b358fbdfd>\u001b[0m in \u001b[0;36m<module>\u001b[1;34m()\u001b[0m\n\u001b[1;32m----> 1\u001b[1;33m \u001b[1;32mimport\u001b[0m \u001b[0mmca\u001b[0m\u001b[1;33m\u001b[0m\u001b[0m\n\u001b[0m\u001b[0;32m      2\u001b[0m \u001b[1;31m#-- tableau disjonctif complet des variables qualitatives --#\u001b[0m\u001b[1;33m\u001b[0m\u001b[1;33m\u001b[0m\u001b[0m\n\u001b[0;32m      3\u001b[0m \u001b[0mD\u001b[0m\u001b[1;33m=\u001b[0m\u001b[0mmca\u001b[0m\u001b[1;33m.\u001b[0m\u001b[0mdummy\u001b[0m\u001b[1;33m(\u001b[0m\u001b[0mvisapremvw\u001b[0m\u001b[1;33m.\u001b[0m\u001b[0mselect_dtypes\u001b[0m\u001b[1;33m(\u001b[0m\u001b[0minclude\u001b[0m\u001b[1;33m=\u001b[0m\u001b[1;33m[\u001b[0m\u001b[0mpd\u001b[0m\u001b[1;33m.\u001b[0m\u001b[0mCategorical\u001b[0m\u001b[1;33m,\u001b[0m\u001b[1;34m\"object\"\u001b[0m\u001b[1;33m]\u001b[0m\u001b[1;33m)\u001b[0m\u001b[1;33m)\u001b[0m\u001b[1;33m\u001b[0m\u001b[0m\n\u001b[0;32m      4\u001b[0m \u001b[0mmct\u001b[0m\u001b[1;33m=\u001b[0m\u001b[0mmca\u001b[0m\u001b[1;33m.\u001b[0m\u001b[0mmca\u001b[0m\u001b[1;33m(\u001b[0m\u001b[0mD\u001b[0m\u001b[1;33m,\u001b[0m\u001b[0mcols\u001b[0m\u001b[1;33m=\u001b[0m\u001b[1;33m[\u001b[0m\u001b[1;34m\"FAMIQ\"\u001b[0m\u001b[1;33m,\u001b[0m\u001b[1;34m\"SEXEQ\"\u001b[0m\u001b[1;33m,\u001b[0m\u001b[1;34m\"PCSPQ\"\u001b[0m\u001b[1;33m,\u001b[0m\u001b[1;34m\"AGEQ\"\u001b[0m\u001b[1;33m,\u001b[0m\u001b[1;34m\"RELATQ\"\u001b[0m\u001b[1;33m]\u001b[0m\u001b[1;33m,\u001b[0m\u001b[0mbenzecri\u001b[0m\u001b[1;33m=\u001b[0m\u001b[0mFalse\u001b[0m\u001b[1;33m)\u001b[0m\u001b[1;33m\u001b[0m\u001b[0m\n\u001b[0;32m      5\u001b[0m \u001b[0mDD\u001b[0m\u001b[1;33m=\u001b[0m\u001b[0mD\u001b[0m\u001b[1;33m.\u001b[0m\u001b[0mdrop\u001b[0m\u001b[1;33m(\u001b[0m\u001b[1;33m[\u001b[0m\u001b[1;34m\"FAMIQ\"\u001b[0m\u001b[1;33m,\u001b[0m\u001b[1;34m\"SEXEQ\"\u001b[0m\u001b[1;33m,\u001b[0m\u001b[1;34m\"PCSPQ\"\u001b[0m\u001b[1;33m,\u001b[0m\u001b[1;34m\"AGEQ\"\u001b[0m\u001b[1;33m,\u001b[0m\u001b[1;34m\"RELATQ\"\u001b[0m\u001b[1;33m]\u001b[0m\u001b[1;33m,\u001b[0m\u001b[0maxis\u001b[0m\u001b[1;33m=\u001b[0m\u001b[1;36m1\u001b[0m\u001b[1;33m)\u001b[0m\u001b[1;33m\u001b[0m\u001b[0m\n",
      "\u001b[1;31mImportError\u001b[0m: No module named mca"
     ]
    }
   ],
   "source": [
    "import mca\n",
    "#-- tableau disjonctif complet des variables qualitatives --#\n",
    "D=mca.dummy(visapremvw.select_dtypes(include=[pd.Categorical,\"object\"]))\n",
    "mct=mca.mca(D,cols=[\"FAMIQ\",\"SEXEQ\",\"PCSPQ\",\"AGEQ\",\"RELATQ\"],benzecri=False)\n",
    "DD=D.drop([\"FAMIQ\",\"SEXEQ\",\"PCSPQ\",\"AGEQ\",\"RELATQ\"],axis=1)"
   ]
  },
  {
   "cell_type": "markdown",
   "metadata": {},
   "source": [
    "On représente toutes ces variables (qualitatives, et \"quantitatives\" recodée en qualitatives) dans le premier plan de l'AFCM avec les individus:"
   ]
  },
  {
   "cell_type": "code",
   "execution_count": 3,
   "metadata": {
    "collapsed": false
   },
   "outputs": [
    {
     "ename": "NameError",
     "evalue": "name 'mca' is not defined",
     "output_type": "error",
     "traceback": [
      "\u001b[1;31m---------------------------------------------------------------------------\u001b[0m",
      "\u001b[1;31mNameError\u001b[0m                                 Traceback (most recent call last)",
      "\u001b[1;32m<ipython-input-3-0d5a3dc9cd17>\u001b[0m in \u001b[0;36m<module>\u001b[1;34m()\u001b[0m\n\u001b[0;32m      1\u001b[0m \u001b[1;31m#-- AFCM de toutes les variables qualitatives --#\u001b[0m\u001b[1;33m\u001b[0m\u001b[1;33m\u001b[0m\u001b[0m\n\u001b[1;32m----> 2\u001b[1;33m \u001b[0mmca_comp\u001b[0m\u001b[1;33m=\u001b[0m\u001b[0mmca\u001b[0m\u001b[1;33m.\u001b[0m\u001b[0mmca\u001b[0m\u001b[1;33m(\u001b[0m\u001b[0mD\u001b[0m\u001b[1;33m,\u001b[0m\u001b[0mbenzecri\u001b[0m\u001b[1;33m=\u001b[0m\u001b[0mFalse\u001b[0m\u001b[1;33m)\u001b[0m\u001b[1;33m\u001b[0m\u001b[0m\n\u001b[0m\u001b[0;32m      3\u001b[0m \u001b[0mfig\u001b[0m \u001b[1;33m=\u001b[0m \u001b[0mplt\u001b[0m\u001b[1;33m.\u001b[0m\u001b[0mfigure\u001b[0m\u001b[1;33m(\u001b[0m\u001b[1;36m1\u001b[0m\u001b[1;33m,\u001b[0m \u001b[0mfigsize\u001b[0m\u001b[1;33m=\u001b[0m\u001b[1;33m(\u001b[0m\u001b[1;36m15\u001b[0m\u001b[1;33m,\u001b[0m \u001b[1;36m13\u001b[0m\u001b[1;33m)\u001b[0m\u001b[1;33m)\u001b[0m\u001b[1;33m\u001b[0m\u001b[0m\n\u001b[0;32m      4\u001b[0m \u001b[1;31m# graphe des individus et des modalités\u001b[0m\u001b[1;33m\u001b[0m\u001b[1;33m\u001b[0m\u001b[0m\n\u001b[0;32m      5\u001b[0m \u001b[1;32mfor\u001b[0m \u001b[0mi\u001b[0m\u001b[1;33m,\u001b[0m \u001b[0mj\u001b[0m\u001b[1;33m,\u001b[0m \u001b[0mnom\u001b[0m \u001b[1;32min\u001b[0m \u001b[0mzip\u001b[0m\u001b[1;33m(\u001b[0m\u001b[0mmca_comp\u001b[0m\u001b[1;33m.\u001b[0m\u001b[0mfs_c\u001b[0m\u001b[1;33m(\u001b[0m\u001b[1;33m)\u001b[0m\u001b[1;33m[\u001b[0m\u001b[1;33m:\u001b[0m\u001b[1;33m,\u001b[0m \u001b[1;36m0\u001b[0m\u001b[1;33m]\u001b[0m\u001b[1;33m,\u001b[0m\u001b[1;33m-\u001b[0m\u001b[0mmca_comp\u001b[0m\u001b[1;33m.\u001b[0m\u001b[0mfs_c\u001b[0m\u001b[1;33m(\u001b[0m\u001b[1;33m)\u001b[0m\u001b[1;33m[\u001b[0m\u001b[1;33m:\u001b[0m\u001b[1;33m,\u001b[0m \u001b[1;36m1\u001b[0m\u001b[1;33m]\u001b[0m\u001b[1;33m,\u001b[0m\u001b[0mD\u001b[0m\u001b[1;33m.\u001b[0m\u001b[0mcolumns\u001b[0m\u001b[1;33m.\u001b[0m\u001b[0mget_level_values\u001b[0m\u001b[1;33m(\u001b[0m\u001b[1;36m1\u001b[0m\u001b[1;33m)\u001b[0m\u001b[1;33m)\u001b[0m\u001b[1;33m:\u001b[0m\u001b[1;33m\u001b[0m\u001b[0m\n",
      "\u001b[1;31mNameError\u001b[0m: name 'mca' is not defined"
     ]
    }
   ],
   "source": [
    "#-- AFCM de toutes les variables qualitatives --#\n",
    "mca_comp=mca.mca(D,benzecri=False)\n",
    "fig = plt.figure(1, figsize=(15, 13))\n",
    "# graphe des individus et des modalités\n",
    "for i, j, nom in zip(mca_comp.fs_c()[:, 0],-mca_comp.fs_c()[:, 1],D.columns.get_level_values(1)):\n",
    "    #print(nom,i,j)\n",
    "    plt.text(i, j, nom,color='g')\n",
    "plt.scatter(mca_comp.fs_c()[:, 0],-mca_comp.fs_c()[:, 1],marker='1',c='g')\n",
    "plt.scatter(mca_comp.fs_r()[:, 0],-mca_comp.fs_r()[:, 1],marker='+',c='b')\n",
    "P.show()"
   ]
  },
  {
   "cell_type": "markdown",
   "metadata": {},
   "source": [
    "## Réarangement final des variables:\n",
    "\n",
    "Pour obtenir des tables similaires à celles utilisées dans le scénario R (pour pouvoir ensuite mener une comparaison assez \"rigoureuse\" des deux langages), nous faisons ici quelques dernières retouches à nos jeux de données.\n",
    "\n",
    "La table **`vispremv`** de R contient:\n",
    "* les variables quantitatives\n",
    "* les variables qualitatives (d'origine ET transformées)\n",
    "* la variable cible CARVP\n",
    "\n",
    "On effectue donc les dernières modifications:"
   ]
  },
  {
   "cell_type": "code",
   "execution_count": 35,
   "metadata": {
    "collapsed": false
   },
   "outputs": [],
   "source": [
    "quant=visapremvw.select_dtypes(include=[\"int32\",\"float\",\"int64\"]).columns.values\n",
    "qual1=visapremvw[[\"SEXEQ\",  \"FAMIQ\", \"PCSPQ\"]]\n",
    "vari=[\"KVUNBQ\", \"VIENBQ\",\"UEMNBQ\",\"XLGNBQ\", \"YLVNBQ\", \"ZOCNBQ\", \"NPTAGQ\", \"ENDETQ\", \"GAGETQ\",\"FACANQ\", \"LGAGTQ\", \"HAVEFQ\", \"AGEQ\", \"RELATQ\", \"QSMOYQ\", \"MOYRVQ\",\"TAVEPQ\", \"DMVTPQ\", \"BOPPNQ\", \"ITAVCQ\", \"JNBJDQ\", \"OPGNBQ\"]\n",
    "\n",
    "nomcolonnes=np.concatenate((quant, [\"SEXEQ\",  \"FAMIQ\", \"PCSPQ\"]))\n",
    "nomcolonnes=np.concatenate((nomcolonnes, vari))\n",
    "nomcolonnes=np.concatenate((nomcolonnes, [\"CARVP\"]))\n",
    "\n",
    "visapremvfinale=visapremvw[nomcolonnes]"
   ]
  },
  {
   "cell_type": "markdown",
   "metadata": {},
   "source": [
    "On donne les dimensions et noms de variable de cette table équivalente à  **`vispremv`**."
   ]
  },
  {
   "cell_type": "code",
   "execution_count": 36,
   "metadata": {
    "collapsed": false
   },
   "outputs": [
    {
     "name": "stdout",
     "output_type": "stream",
     "text": [
      "Noms des variables à disposition: ['RELAT' 'AGER' 'OPGNB' 'MOYRV' 'TAVEP' 'ENDET' 'GAGET' 'GAGEC' 'GAGEM'\n",
      " 'KVUNB' 'QSMOY' 'QCRED' 'DMVTP' 'BOPPN' 'FACAN' 'LGAGT' 'VIENB' 'VIEMT'\n",
      " 'UEMNB' 'XLGNB' 'XLGMT' 'YLVNB' 'YLVMT' 'ZOCNB' 'NPTAG' 'ITAVC' 'HAVEF'\n",
      " 'JNBJD' 'SEXEQ' 'FAMIQ' 'PCSPQ' 'KVUNBQ' 'VIENBQ' 'UEMNBQ' 'XLGNBQ'\n",
      " 'YLVNBQ' 'ZOCNBQ' 'NPTAGQ' 'ENDETQ' 'GAGETQ' 'FACANQ' 'LGAGTQ' 'HAVEFQ'\n",
      " 'AGEQ' 'RELATQ' 'QSMOYQ' 'MOYRVQ' 'TAVEPQ' 'DMVTPQ' 'BOPPNQ' 'ITAVCQ'\n",
      " 'JNBJDQ' 'OPGNBQ' 'CARVP']\n",
      "Dimensions de la table: (1063, 54)\n"
     ]
    }
   ],
   "source": [
    "print(\"Noms des variables à disposition: {var}\".format(var=visapremvfinale.columns.values))\n",
    "print(\"Dimensions de la table: {taille}\".format(taille=visapremvfinale.shape))"
   ]
  },
  {
   "cell_type": "markdown",
   "metadata": {},
   "source": [
    "## Construction des échantillon d'apprentissage et de test\n",
    "\n",
    "Maintenant que nos données sont à la forme souhaitée, découpons maintenant nos données en deux échantillon: \n",
    "\n",
    "* un **échantillon d'apprentissage**, qui sera utilisé, comme son nom l'indique, pour \"apprendre\" les différents modèles que nous étudierons\n",
    "* un **échantillon test**, qui sera utilisé afin de pouvoir comparer les performances des différentes familles de modèle. Ce dernier sera composé de **200** individus. "
   ]
  },
  {
   "cell_type": "code",
   "execution_count": 37,
   "metadata": {
    "collapsed": false
   },
   "outputs": [],
   "source": [
    "from sklearn.model_selection import train_test_split\n",
    "X = visapremvfinale[np.arange(53)]\n",
    "Y = visapremvfinale.CARVP\n",
    "X_train_tot,X_test_tot,Y_train,Y_test=train_test_split(X,Y,test_size=200,random_state=157)"
   ]
  },
  {
   "cell_type": "markdown",
   "metadata": {},
   "source": [
    "Les dimensions de chaque échantillon (en distanguant la réponse CARVP des prédicteurs):"
   ]
  },
  {
   "cell_type": "code",
   "execution_count": 38,
   "metadata": {
    "collapsed": false
   },
   "outputs": [
    {
     "name": "stdout",
     "output_type": "stream",
     "text": [
      "Dimension ech. app. (predicteurs) : (863, 53)\n",
      "Dimension ech. test (predicteurs) : (200, 53)\n",
      "Dimension ech. app. (réponse) : (863,)\n",
      "Dimension ech. test (réponse) : (200,)\n"
     ]
    }
   ],
   "source": [
    "print(\"Dimension ech. app. (predicteurs) : {taille}\".format(taille=X_train_tot.shape))\n",
    "print(\"Dimension ech. test (predicteurs) : {taille}\".format(taille=X_test_tot.shape))\n",
    "print(\"Dimension ech. app. (réponse) : {taille}\".format(taille=Y_train.shape))\n",
    "print(\"Dimension ech. test (réponse) : {taille}\".format(taille=Y_test.shape))"
   ]
  },
  {
   "cell_type": "markdown",
   "metadata": {},
   "source": [
    "Les dimensions semblent correctes."
   ]
  },
  {
   "cell_type": "markdown",
   "metadata": {},
   "source": [
    "Nous allons en réalité créer deux jeux de données concernant les prédicteurs, un premier composé des **prédicteurs quantitatifs**, et un second composé des **prédicteur qualitatifs**. "
   ]
  },
  {
   "cell_type": "code",
   "execution_count": 39,
   "metadata": {
    "collapsed": false
   },
   "outputs": [],
   "source": [
    "#-- les variables qualitatives --#\n",
    "var = X_train_tot.columns.values\n",
    "varqual = var[28:53]\n",
    "#-- Extraction du premier jeu de données composé des var. qualitatives --#\n",
    "X_train_1 = X_train_tot[varqual]\n",
    "X_test_1 = X_test_tot[varqual]"
   ]
  },
  {
   "cell_type": "code",
   "execution_count": 40,
   "metadata": {
    "collapsed": false
   },
   "outputs": [
    {
     "name": "stdout",
     "output_type": "stream",
     "text": [
      "Dimension ech. app. (predicteurs qualitatifs) : (863, 25)\n",
      "Dimension ech. test (predicteurs qualitatifs) : (200, 25)\n"
     ]
    }
   ],
   "source": [
    "print(\"Dimension ech. app. (predicteurs qualitatifs) : {taille}\".format(taille=X_train_1.shape))\n",
    "print(\"Dimension ech. test (predicteurs qualitatifs) : {taille}\".format(taille=X_test_1.shape))"
   ]
  },
  {
   "cell_type": "markdown",
   "metadata": {},
   "source": [
    "Les fonction de scikit-learn **n'acceptant pas les variables avec des modalités codées en string**, nous recodons donc ces variables en considérons les indicatrices liées à chacune des modalités:"
   ]
  },
  {
   "cell_type": "code",
   "execution_count": 41,
   "metadata": {
    "collapsed": true
   },
   "outputs": [],
   "source": [
    "#-- obtention des indicatrices associées à chacunes des modalités \n",
    "X_train = pd.get_dummies(X_train_1)\n",
    "X_test = pd.get_dummies(X_test_1)"
   ]
  },
  {
   "cell_type": "code",
   "execution_count": 42,
   "metadata": {
    "collapsed": false
   },
   "outputs": [
    {
     "name": "stdout",
     "output_type": "stream",
     "text": [
      "Dimension ech. app. (predicteurs qualitatifs) recodé : (863, 66)\n",
      "Dimension ech. test (predicteurs qualitatifs) recodé : (200, 66)\n"
     ]
    }
   ],
   "source": [
    "print(\"Dimension ech. app. (predicteurs qualitatifs) recodé : {taille}\".format(taille=X_train.shape))\n",
    "print(\"Dimension ech. test (predicteurs qualitatifs) recodé : {taille}\".format(taille=X_test.shape))"
   ]
  },
  {
   "cell_type": "markdown",
   "metadata": {},
   "source": [
    "Ce jeu de données est maintenant fin prêt. \n",
    "Construisons à présent celui comportant les prédicteurs quantitatifs.\n",
    "\n",
    "Recondons tout d'abord les variables **SEXEQ** et **FAMIQ**, qui peuvent être également considérées comme des variables quantitatives."
   ]
  },
  {
   "cell_type": "code",
   "execution_count": 43,
   "metadata": {
    "collapsed": false
   },
   "outputs": [],
   "source": [
    "from sklearn import preprocessing\n",
    "from sklearn.preprocessing import OneHotEncoder\n",
    "le = preprocessing.LabelEncoder()\n",
    "\n",
    "#-- Recodage pour éch. d'app. --#\n",
    "sexer =   le.fit_transform(X_train_tot.SEXEQ) \n",
    "familr = le.fit_transform(X_train_tot.FAMIQ)\n",
    "\n",
    "#-- Recodage pour éch. de test. --#\n",
    "sexer_t = le.fit_transform(X_test_tot.SEXEQ) #axis = 0\n",
    "familr_t = le.fit_transform(X_test_tot.FAMIQ)"
   ]
  },
  {
   "cell_type": "code",
   "execution_count": 44,
   "metadata": {
    "collapsed": true
   },
   "outputs": [],
   "source": [
    "#-- Les variables quantitatives --#\n",
    "varquant=var[0:27]\n",
    "#-On extrait le jeu de données qui nous interesse --#\n",
    "X_trainqn=X_train_tot[varquant]\n",
    "X_testqn=X_test_tot[varquant]\n",
    "#-- On rajoute les deux variables sexer et familr --#\n",
    "X_trainqn[\"sexer\"] = sexer\n",
    "X_trainqn[\"familr\"] = familr\n",
    "X_testqn[\"sexer\"] = sexer_t\n",
    "X_testqn[\"familr\"] = familr_t"
   ]
  },
  {
   "cell_type": "code",
   "execution_count": 45,
   "metadata": {
    "collapsed": false
   },
   "outputs": [
    {
     "name": "stdout",
     "output_type": "stream",
     "text": [
      "Dimension ech. app. (predicteurs quantitatifs) recodé : (863, 29)\n",
      "Dimension ech. test (predicteurs quantitatifs) recodé : (200, 29)\n"
     ]
    }
   ],
   "source": [
    "print(\"Dimension ech. app. (predicteurs quantitatifs) recodé : {taille}\".format(taille=X_trainqn.shape))\n",
    "print(\"Dimension ech. test (predicteurs quantitatifs) recodé : {taille}\".format(taille=X_testqn.shape))"
   ]
  },
  {
   "cell_type": "markdown",
   "metadata": {},
   "source": [
    "Nous avons donc obtenu nos deux jeux de données:\n",
    "\n",
    "* ** X_train** composé de **25** prédicteurs qualitatifs (en réalité de 66 indicatrices correspondant aux modalités)\n",
    "* **X_trainqn** composé de **29** prédicteurs quantitatifs \n",
    "\n",
    "Et suivant les même notation on obtient les échantillons de test **X_test** et **X_testqn**. \n",
    "\n",
    "Les échantillons de d'apprentissage et de test pour la variables réponses sont nommé **Y_train** et **Y_test** respectivement."
   ]
  },
  {
   "cell_type": "markdown",
   "metadata": {},
   "source": [
    "## Regression logistique \n",
    "\n",
    "La première famille de modèles que nous allons étudier ici sera la **régression logistique**.\n",
    "\n",
    "A l'instar du code réalisé sous R, nous utiliserons ici dans un premier temps **uniquement nos prédicteurs qualitatifs** (ie. le jeu de données \"X_train\"). Cette étude sera ensuite testée sur les prédicteurs quantitatifs.\n",
    "A noter que le découpage en classes des variables quantitatives du jeu de données X_train entraine une réduction du nombre de degrés de liberté du modèle. Celui-ci restera toute fois linéaire.\n",
    "\n",
    "Nous utiliserons ici la fonction de lien $logit(\\pi)=\\frac{\\pi}{1 - \\pi}$ (ou $\\pi$ est la probabilité d'apparition de la modilité \"COUI\"), et l'on considère donc le modèle:\n",
    "\n",
    "$\\frac{\\pi}{1 - \\pi} = X \\beta $ ou X est la matrice composée de nos prédicteurs."
   ]
  },
  {
   "cell_type": "markdown",
   "metadata": {},
   "source": [
    "### Estimation"
   ]
  },
  {
   "cell_type": "markdown",
   "metadata": {},
   "source": [
    "#### Estimation du modèle complet sans interactions:\n",
    "\n",
    "Condidérons tout d'abord le **modèle complet sans interactions** (ie. toutes les variables considérées sont prises en compte): \n",
    "\n",
    "Pour cela, afin d'obtenir des sorties similaires à celles de R, nous utiliserons dans ce cas le package statmodels dans un premier temps."
   ]
  },
  {
   "cell_type": "code",
   "execution_count": 46,
   "metadata": {
    "collapsed": false
   },
   "outputs": [],
   "source": [
    "import statsmodels.api as sm"
   ]
  },
  {
   "cell_type": "markdown",
   "metadata": {},
   "source": [
    "Les packages utilisé nécessite un **codage en 0 et 1** de la réponse CARVP: "
   ]
  },
  {
   "cell_type": "code",
   "execution_count": 47,
   "metadata": {
    "collapsed": false
   },
   "outputs": [],
   "source": [
    "#-- On crée une version integer de Y_train et Y_test --#\n",
    "Yb_train = le.fit_transform(Y_train)\n",
    "Yb_test = le.fit_transform(Y_test)"
   ]
  },
  {
   "cell_type": "code",
   "execution_count": 48,
   "metadata": {
    "collapsed": false
   },
   "outputs": [],
   "source": [
    "monModel = sm.GLM(Yb_train, sm.tools.tools.add_constant(X_train), family=sm.families.Binomial(sm.genmod.families.links.logit))\n",
    "monModel_results = monModel.fit() "
   ]
  },
  {
   "cell_type": "markdown",
   "metadata": {},
   "source": [
    "On peut donc obtenir un tableau donnant entre autre les coefficients $\\beta_i$ **estimés du modèle** et leur significativité:"
   ]
  },
  {
   "cell_type": "code",
   "execution_count": 49,
   "metadata": {
    "collapsed": false
   },
   "outputs": [
    {
     "name": "stdout",
     "output_type": "stream",
     "text": [
      "                 Generalized Linear Model Regression Results                  \n",
      "==============================================================================\n",
      "Dep. Variable:                      y   No. Observations:                  863\n",
      "Model:                            GLM   Df Residuals:                      821\n",
      "Model Family:                Binomial   Df Model:                           41\n",
      "Link Function:                  logit   Scale:                             1.0\n",
      "Method:                          IRLS   Log-Likelihood:                -300.27\n",
      "Date:                Wed, 14 Dec 2016   Deviance:                       600.54\n",
      "Time:                        16:11:33   Pearson chi2:                     873.\n",
      "No. Iterations:                     8                                         \n",
      "==============================================================================\n",
      "                 coef    std err          z      P>|z|      [95.0% Conf. Int.]\n",
      "------------------------------------------------------------------------------\n",
      "const         -0.1218      0.034     -3.621      0.000        -0.188    -0.056\n",
      "SEXEQ_Shom     0.6008      0.125      4.818      0.000         0.356     0.845\n",
      "SEXEQ_Sfem    -0.7226      0.131     -5.529      0.000        -0.979    -0.466\n",
      "FAMIQ_Fcou    -0.1804      0.126     -1.434      0.152        -0.427     0.066\n",
      "FAMIQ_Fseu     0.0585      0.127      0.460      0.646        -0.191     0.308\n",
      "PCSPQ_Pcad     0.9032      0.212      4.257      0.000         0.487     1.319\n",
      "PCSPQ_Pemp    -0.1703      0.220     -0.773      0.439        -0.602     0.262\n",
      "PCSPQ_Pint     1.2483      0.229      5.448      0.000         0.799     1.697\n",
      "PCSPQ_Pouv    -1.7406      0.471     -3.697      0.000        -2.663    -0.818\n",
      "PCSPQ_Psan    -0.3625      0.284     -1.277      0.202        -0.919     0.194\n",
      "KVUNBQ_K0     -0.6620      0.168     -3.940      0.000        -0.991    -0.333\n",
      "KVUNBQ_K1      0.5401      0.178      3.029      0.002         0.191     0.890\n",
      "VIENBQ_V0     -0.2378      0.181     -1.313      0.189        -0.593     0.117\n",
      "VIENBQ_V1      0.1159      0.188      0.615      0.538        -0.253     0.485\n",
      "UEMNBQ_U0     -0.5745      0.447     -1.286      0.198        -1.450     0.301\n",
      "UEMNBQ_U1     -0.2122      0.202     -1.051      0.293        -0.608     0.184\n",
      "UEMNBQ_U2      0.6649      0.396      1.680      0.093        -0.111     1.440\n",
      "XLGNBQ_X0      0.0577      0.274      0.211      0.833        -0.480     0.595\n",
      "XLGNBQ_X1      0.0688      0.181      0.379      0.704        -0.287     0.424\n",
      "XLGNBQ_X2     -0.2484      0.261     -0.952      0.341        -0.760     0.263\n",
      "YLVNBQ_Y0      0.4244      0.289      1.470      0.142        -0.142     0.990\n",
      "YLVNBQ_Y1     -0.3038      0.176     -1.723      0.085        -0.649     0.042\n",
      "YLVNBQ_Y2     -0.2424      0.274     -0.885      0.376        -0.779     0.295\n",
      "ZOCNBQ_Z0     -0.2213      0.163     -1.359      0.174        -0.540     0.098\n",
      "ZOCNBQ_Z1      0.0994      0.162      0.615      0.539        -0.218     0.416\n",
      "NPTAGQ_N0      0.4114      0.179      2.296      0.022         0.060     0.762\n",
      "NPTAGQ_N1     -0.5332      0.192     -2.775      0.006        -0.910    -0.157\n",
      "ENDETQ_E0      0.3696      0.200      1.848      0.065        -0.022     0.761\n",
      "ENDETQ_E1     -0.4914      0.202     -2.428      0.015        -0.888    -0.095\n",
      "GAGETQ_G0     -0.4909      0.193     -2.539      0.011        -0.870    -0.112\n",
      "GAGETQ_G1      0.3691      0.189      1.954      0.051        -0.001     0.739\n",
      "FACANQ_F0     -0.3865      0.123     -3.153      0.002        -0.627    -0.146\n",
      "FACANQ_F1      0.2646      0.126      2.101      0.036         0.018     0.512\n",
      "LGAGTQ_L0     -0.0409      0.167     -0.245      0.807        -0.368     0.287\n",
      "LGAGTQ_L1     -0.0809      0.176     -0.460      0.645        -0.426     0.264\n",
      "HAVEFQ_H0     -0.1647      0.157     -1.047      0.295        -0.473     0.144\n",
      "HAVEFQ_H1      0.0428      0.156      0.275      0.783        -0.262     0.348\n",
      "AGEQ_A0       -0.1133      0.187     -0.606      0.545        -0.480     0.253\n",
      "AGEQ_A1        0.1098      0.157      0.702      0.483        -0.197     0.417\n",
      "AGEQ_A2       -0.1184      0.168     -0.704      0.482        -0.448     0.211\n",
      "RELATQ_R0      0.6872      0.182      3.766      0.000         0.330     1.045\n",
      "RELATQ_R1     -0.2708      0.162     -1.670      0.095        -0.589     0.047\n",
      "RELATQ_R2     -0.5382      0.173     -3.111      0.002        -0.877    -0.199\n",
      "QSMOYQ_Q0      0.2738      0.237      1.156      0.248        -0.190     0.738\n",
      "QSMOYQ_Q1     -0.5023      0.170     -2.955      0.003        -0.836    -0.169\n",
      "QSMOYQ_Q2      0.1067      0.194      0.551      0.582        -0.273     0.486\n",
      "MOYRVQ_M0     -1.1780      0.287     -4.103      0.000        -1.741    -0.615\n",
      "MOYRVQ_M1     -0.3954      0.184     -2.149      0.032        -0.756    -0.035\n",
      "MOYRVQ_M2      1.4516      0.220      6.605      0.000         1.021     1.882\n",
      "TAVEPQ_T0      0.4323      0.315      1.374      0.169        -0.184     1.049\n",
      "TAVEPQ_T1     -0.3471      0.213     -1.633      0.102        -0.764     0.069\n",
      "TAVEPQ_T2     -0.2070      0.257     -0.807      0.420        -0.710     0.296\n",
      "DMVTPQ_D0     -0.5087      0.153     -3.324      0.001        -0.809    -0.209\n",
      "DMVTPQ_D1     -0.4374      0.202     -2.168      0.030        -0.833    -0.042\n",
      "DMVTPQ_D2      0.8242      0.196      4.212      0.000         0.441     1.208\n",
      "BOPPNQ_B0      0.6158      0.274      2.248      0.025         0.079     1.153\n",
      "BOPPNQ_B1     -0.2701      0.177     -1.523      0.128        -0.618     0.077\n",
      "BOPPNQ_B2     -0.4675      0.219     -2.139      0.032        -0.896    -0.039\n",
      "ITAVCQ_I0     -0.7354      0.250     -2.936      0.003        -1.226    -0.245\n",
      "ITAVCQ_I1      0.2591      0.170      1.521      0.128        -0.075     0.593\n",
      "ITAVCQ_I2      0.3545      0.239      1.483      0.138        -0.114     0.823\n",
      "JNBJDQ_J0     -0.2849      0.177     -1.611      0.107        -0.632     0.062\n",
      "JNBJDQ_J1      0.0274      0.182      0.151      0.880        -0.330     0.385\n",
      "JNBJDQ_J2      0.1356      0.222      0.611      0.541        -0.299     0.571\n",
      "OPGNBQ_O0     -0.4423      0.159     -2.776      0.006        -0.755    -0.130\n",
      "OPGNBQ_O1      0.0663      0.152      0.437      0.662        -0.231     0.364\n",
      "OPGNBQ_O2      0.2542      0.193      1.320      0.187        -0.123     0.632\n",
      "==============================================================================\n"
     ]
    }
   ],
   "source": [
    "print(monModel_results.summary())"
   ]
  },
  {
   "cell_type": "markdown",
   "metadata": {},
   "source": [
    "La colonne `coef` nous donne la valeur des coefficients estimmé par maximisation de la log-vraisemblance par l'algorithme de Newton-Raphson et la colonne `Pr>|z|` la p-valeur du test de Wald de significativité de chaqun des paramètres (`Z` étant la statistique de test associée).\n",
    "\n",
    "\n",
    "\n",
    "Cependant **l'intreprétation est ici compliquée** du fait que nous utilisons les indicatrices de chaque modalité de chaque variable. \n",
    "\n",
    "Estimons à titre indicatif **l'erreur de prévision sur l'échantillon test** de ce modèle complet:  "
   ]
  },
  {
   "cell_type": "code",
   "execution_count": 50,
   "metadata": {
    "collapsed": false
   },
   "outputs": [
    {
     "data": {
      "text/html": [
       "<div>\n",
       "<table border=\"1\" class=\"dataframe\">\n",
       "  <thead>\n",
       "    <tr style=\"text-align: right;\">\n",
       "      <th>Prédit</th>\n",
       "      <th>0</th>\n",
       "      <th>1</th>\n",
       "    </tr>\n",
       "    <tr>\n",
       "      <th>Observés</th>\n",
       "      <th></th>\n",
       "      <th></th>\n",
       "    </tr>\n",
       "  </thead>\n",
       "  <tbody>\n",
       "    <tr>\n",
       "      <th>0</th>\n",
       "      <td>118</td>\n",
       "      <td>14</td>\n",
       "    </tr>\n",
       "    <tr>\n",
       "      <th>1</th>\n",
       "      <td>22</td>\n",
       "      <td>46</td>\n",
       "    </tr>\n",
       "  </tbody>\n",
       "</table>\n",
       "</div>"
      ],
      "text/plain": [
       "Prédit     0   1\n",
       "Observés         \n",
       "0         118  14\n",
       "1          22  46"
      ]
     },
     "execution_count": 50,
     "metadata": {},
     "output_type": "execute_result"
    }
   ],
   "source": [
    "pred=monModel_results.predict(sm.tools.tools.add_constant(X_test))\n",
    "pred = le.fit_transform(pred>0.5) # On prédit 1 quand l'estimation de pi_i est >0.5 (0 sinon)\n",
    "pd.crosstab(Yb_test, pred, rownames=['Observés'], colnames=['Prédit'])"
   ]
  },
  {
   "cell_type": "markdown",
   "metadata": {},
   "source": [
    "#### Recherche du paramètre optimal:\n",
    "\n",
    "Comme il est impossible avec <a href=\"http://scikit-learn.org/stable/#\"><img src=\"http://scikit-learn.org/stable/_static/scikit-learn-logo-small.png\" style=\"max-width: 100px; display: inline\" alt=\"R\"/></a> (que nous allons désormais utiliser) de faire de la sélection de modèles via le critère d'Akkaïke nous allons considèrer des modèles pénalisés:\n",
    "\n",
    "* Des modèles de regression Lasso (pénalité de type L1)\n",
    "* Des modèles de regression ridge (pénalité de type L2)\n",
    "\n",
    "La **pénalisation Lasso** tout d'abord donc: \n",
    "\n",
    "Nous cherchons le coefficient de pénalisation $\\lambda$ (ici $C= \\frac{1}{\\lambda})$ optimal par validation croisée:"
   ]
  },
  {
   "cell_type": "code",
   "execution_count": 51,
   "metadata": {
    "collapsed": false
   },
   "outputs": [],
   "source": [
    "#-- Importation des librairies --#\n",
    "from sklearn import linear_model\n",
    "from sklearn.linear_model import LogisticRegression\n",
    "from sklearn import model_selection\n",
    "from sklearn.model_selection import GridSearchCV"
   ]
  },
  {
   "cell_type": "code",
   "execution_count": 52,
   "metadata": {
    "collapsed": false
   },
   "outputs": [
    {
     "data": {
      "text/plain": [
       "8"
      ]
     },
     "execution_count": 52,
     "metadata": {},
     "output_type": "execute_result"
    }
   ],
   "source": [
    "#-- Notre grille de paramètres --#\n",
    "param=[{\"C\":[0.01, 0.5, 5, 7, 8,  10, 15, 20]}]\n",
    "#-- Recherche du \"C\" optimal par validation croisée sur la grille --#\n",
    "logit = GridSearchCV(LogisticRegression(penalty=\"l1\"), param,cv=5,n_jobs=-1)\n",
    "logitOpt = logit.fit(X_train, le.fit_transform(Y_train))\n",
    "#-- parametre optimal de complexite --#\n",
    "logitOpt.best_params_[\"C\"]"
   ]
  },
  {
   "cell_type": "markdown",
   "metadata": {},
   "source": [
    "Estimons donc maintenant notre modèle optimal, observons ses coefficients et estimons son erreur sur l'échantillon test."
   ]
  },
  {
   "cell_type": "code",
   "execution_count": 53,
   "metadata": {
    "collapsed": false
   },
   "outputs": [],
   "source": [
    "#-- Estimation du modèle optimal et erreur sur l'échantillon test --#\n",
    "coefPenal = logitOpt.best_params_[\"C\"]\n",
    "logit = LogisticRegression(C=coefPenal, penalty=\"l1\")\n",
    "\n",
    "\n",
    "#-- On fit le modèle --#\n",
    "logitFit = logit.fit(X_train, Yb_train)"
   ]
  },
  {
   "cell_type": "markdown",
   "metadata": {},
   "source": [
    "Les coefficients du modèle:"
   ]
  },
  {
   "cell_type": "code",
   "execution_count": 54,
   "metadata": {
    "collapsed": false
   },
   "outputs": [
    {
     "data": {
      "text/plain": [
       "array([[ 0.08217281, -1.22681033, -0.22550905,  0.        ,  1.06534485,\n",
       "         0.        ,  1.4067708 , -1.51489013, -0.17247602, -0.37262887,\n",
       "         0.80895212, -0.33881978,  0.        , -0.2673802 ,  0.        ,\n",
       "         0.8035818 ,  0.        ,  0.05481075, -0.22879337,  0.57985985,\n",
       "        -0.07897183,  0.        , -0.29821424,  0.        ,  0.        ,\n",
       "        -0.92384691,  0.        , -0.83397242, -0.83687648,  0.        ,\n",
       "        -0.63849158,  0.        ,  0.        , -0.02941018, -0.20725026,\n",
       "         0.        ,  0.        ,  0.22047714, -0.00470474,  0.94718571,\n",
       "         0.        , -0.25868241,  0.13851614, -0.61480602,  0.        ,\n",
       "        -0.74625623,  0.        ,  1.82483414,  0.58211965, -0.1374453 ,\n",
       "         0.        , -0.07593698,  0.        ,  1.23772845,  0.85463676,\n",
       "         0.        , -0.18392605, -0.97043761,  0.        ,  0.08742743,\n",
       "        -0.3144421 ,  0.        ,  0.10723398, -0.50077421,  0.        ,\n",
       "         0.17198302]])"
      ]
     },
     "execution_count": 54,
     "metadata": {},
     "output_type": "execute_result"
    }
   ],
   "source": [
    "logitFit.coef_ "
   ]
  },
  {
   "cell_type": "markdown",
   "metadata": {},
   "source": [
    "On remarque la présence de \"0\": le modèle est bien plus parcimonieux et une selection de variables a eu lieu.\n",
    "\n",
    "Et enfin on détermine l'erreur de prévision sur l'échantillon test "
   ]
  },
  {
   "cell_type": "code",
   "execution_count": 55,
   "metadata": {
    "collapsed": false
   },
   "outputs": [
    {
     "name": "stdout",
     "output_type": "stream",
     "text": [
      "Err. de test 0.185\n"
     ]
    }
   ],
   "source": [
    "#-- Erreur de test --#\n",
    "print(\"Err. de test {Err}\".format(Err=(1-logitFit.score(X_test, Yb_test))))\n"
   ]
  },
  {
   "cell_type": "code",
   "execution_count": 56,
   "metadata": {
    "collapsed": false
   },
   "outputs": [
    {
     "data": {
      "text/html": [
       "<div>\n",
       "<table border=\"1\" class=\"dataframe\">\n",
       "  <thead>\n",
       "    <tr style=\"text-align: right;\">\n",
       "      <th>Prédit</th>\n",
       "      <th>0</th>\n",
       "      <th>1</th>\n",
       "    </tr>\n",
       "    <tr>\n",
       "      <th>Observés</th>\n",
       "      <th></th>\n",
       "      <th></th>\n",
       "    </tr>\n",
       "  </thead>\n",
       "  <tbody>\n",
       "    <tr>\n",
       "      <th>0</th>\n",
       "      <td>118</td>\n",
       "      <td>14</td>\n",
       "    </tr>\n",
       "    <tr>\n",
       "      <th>1</th>\n",
       "      <td>23</td>\n",
       "      <td>45</td>\n",
       "    </tr>\n",
       "  </tbody>\n",
       "</table>\n",
       "</div>"
      ],
      "text/plain": [
       "Prédit     0   1\n",
       "Observés         \n",
       "0         118  14\n",
       "1          23  45"
      ]
     },
     "execution_count": 56,
     "metadata": {},
     "output_type": "execute_result"
    }
   ],
   "source": [
    "pred=logitFit.predict(X_test)\n",
    "pd.crosstab(Yb_test, pred, rownames=['Observés'], colnames=['Prédit']) "
   ]
  },
  {
   "cell_type": "markdown",
   "metadata": {},
   "source": [
    "Notre modèle nous donne environ **18%** d'erreur après apprentissage sur l'échantillon test (soit **36 mal classés**). Ce qui est légérement mieux que précédement avec le modèle complet.\n",
    "\n",
    "Explorons maintenant des modèles de **pénalisation Ridge** (pénalisation de type L2) en suivant la même démarche que précedemment: "
   ]
  },
  {
   "cell_type": "code",
   "execution_count": 57,
   "metadata": {
    "collapsed": false
   },
   "outputs": [
    {
     "data": {
      "text/plain": [
       "5"
      ]
     },
     "execution_count": 57,
     "metadata": {},
     "output_type": "execute_result"
    }
   ],
   "source": [
    "#-- Notre grille de paramètres --#\n",
    "param=[{\"C\":[0.01, 0.1, 0.5, 1, 3, 5, 7, 8,  10, 15]}]\n",
    "#-- Recherche du \"C\" optimal par validation croisée sur la grille --#\n",
    "logitRidge = GridSearchCV(LogisticRegression(penalty=\"l2\"), param,cv=5,n_jobs=-1)\n",
    "logitRidgeOpt = logitRidge.fit(X_train, Yb_train)\n",
    "#-- parametre optimal de complexite --#\n",
    "logitRidgeOpt.best_params_[\"C\"]"
   ]
  },
  {
   "cell_type": "code",
   "execution_count": 58,
   "metadata": {
    "collapsed": false
   },
   "outputs": [],
   "source": [
    "#-- Estimation du modèle optimal et erreur sur l'échantillon test --#\n",
    "coefPenal = logitOpt.best_params_[\"C\"]\n",
    "typePenal=\"l2\"\n",
    "nproc=-1\n",
    "logitRidge = LogisticRegression(C=coefPenal, penalty=\"l2\")\n",
    "\n",
    "\n",
    "#-- On fit le modèle --#\n",
    "logitRidgeFit = logitRidge.fit(X_train, Yb_train)"
   ]
  },
  {
   "cell_type": "markdown",
   "metadata": {},
   "source": [
    "Les coefficients: l'**interprétation sera plus difficile dans le cadre de la pénalisation de type L1** car contrairement à la regression Lasso on a pas de \"séléction\" de variables."
   ]
  },
  {
   "cell_type": "code",
   "execution_count": 59,
   "metadata": {
    "collapsed": false
   },
   "outputs": [
    {
     "name": "stdout",
     "output_type": "stream",
     "text": [
      "[[ 0.59730118 -0.71518213 -0.17521033  0.05732938  0.88499418 -0.18310424\n",
      "   1.22450155 -1.67778533 -0.36648711 -0.65386088  0.53597993 -0.23303071\n",
      "   0.11514976 -0.52102873 -0.21322577  0.61637355  0.03505387  0.0741234\n",
      "  -0.22705822  0.39340628 -0.29197795 -0.21930928 -0.21659142  0.09871047\n",
      "   0.40702243 -0.52490339  0.36269605 -0.480577   -0.48348391  0.36560296\n",
      "  -0.38178541  0.26390446 -0.03905875 -0.0788222  -0.16244614  0.04456519\n",
      "  -0.11285084  0.11233048 -0.1173606   0.68065953 -0.26763709 -0.5309034\n",
      "   0.26373915 -0.49725436  0.11563425 -1.14809073 -0.39830037  1.42851015\n",
      "   0.41183761 -0.33500067 -0.19471789 -0.50436653 -0.42913787  0.81562344\n",
      "   0.60164909 -0.26447926 -0.45505078 -0.72414867  0.25573993  0.35052778\n",
      "  -0.28505196  0.02882551  0.1383455  -0.43613002  0.0674964   0.25075267]]\n"
     ]
    }
   ],
   "source": [
    "print(logitRidgeFit.coef_)"
   ]
  },
  {
   "cell_type": "code",
   "execution_count": 60,
   "metadata": {
    "collapsed": false
   },
   "outputs": [
    {
     "name": "stdout",
     "output_type": "stream",
     "text": [
      "Err. de test 0.185\n"
     ]
    }
   ],
   "source": [
    "#-- Erreur de test --#\n",
    "print(\"Err. de test {Err}\".format(Err=(1-logitRidgeFit.score(X_test, Yb_test))))"
   ]
  },
  {
   "cell_type": "code",
   "execution_count": 61,
   "metadata": {
    "collapsed": false
   },
   "outputs": [
    {
     "data": {
      "text/html": [
       "<div>\n",
       "<table border=\"1\" class=\"dataframe\">\n",
       "  <thead>\n",
       "    <tr style=\"text-align: right;\">\n",
       "      <th>Prédit</th>\n",
       "      <th>0</th>\n",
       "      <th>1</th>\n",
       "    </tr>\n",
       "    <tr>\n",
       "      <th>Observés</th>\n",
       "      <th></th>\n",
       "      <th></th>\n",
       "    </tr>\n",
       "  </thead>\n",
       "  <tbody>\n",
       "    <tr>\n",
       "      <th>0</th>\n",
       "      <td>118</td>\n",
       "      <td>14</td>\n",
       "    </tr>\n",
       "    <tr>\n",
       "      <th>1</th>\n",
       "      <td>23</td>\n",
       "      <td>45</td>\n",
       "    </tr>\n",
       "  </tbody>\n",
       "</table>\n",
       "</div>"
      ],
      "text/plain": [
       "Prédit     0   1\n",
       "Observés         \n",
       "0         118  14\n",
       "1          23  45"
      ]
     },
     "execution_count": 61,
     "metadata": {},
     "output_type": "execute_result"
    }
   ],
   "source": [
    "vp_pred=logitRidgeFit.predict(X_test)\n",
    "table=pd.crosstab(Yb_test, pred, rownames=['Observés'], colnames=['Prédit'])\n",
    "table"
   ]
  },
  {
   "cell_type": "markdown",
   "metadata": {},
   "source": [
    "Nous obtenons à nouveau une erreur de prévision sur l'échantillon test de **18.5 %** (37 mals classés) , soit un résultat totalement identique à celui obtenu pour le modèle complet et très similaire à ceux de la pénalisation Lasso. \n",
    "\n",
    "En comparaison, (à titre indicatif) à ce stade, nous obtenons 41 mal classé avec le meilleurs modèle obtenu avec le code R par minimisation du score d'Akkaike (backward choisi)."
   ]
  },
  {
   "cell_type": "markdown",
   "metadata": {},
   "source": [
    "### Avec les prédicteurs quantitatifs\n",
    "\n",
    "On reprend la même étude sur les prédicteurs quantitatifs avec la pénalisation Lasso:"
   ]
  },
  {
   "cell_type": "code",
   "execution_count": 62,
   "metadata": {
    "collapsed": false
   },
   "outputs": [
    {
     "data": {
      "text/plain": [
       "5"
      ]
     },
     "execution_count": 62,
     "metadata": {},
     "output_type": "execute_result"
    }
   ],
   "source": [
    "#-- Notre grille de paramètres --#\n",
    "param=[{\"C\":[0.01, 0.5, 5, 7, 8,  10, 15, 20]}]\n",
    "#-- Recherche du \"C\" optimal par validation croisée sur la grille --#\n",
    "logit = GridSearchCV(LogisticRegression(penalty=\"l1\"), param,cv=5,n_jobs=-1)\n",
    "logitOpt = logit.fit(X_trainqn, le.fit_transform(Y_train))\n",
    "#-- parametre optimal de complexite --#\n",
    "logitOpt.best_params_[\"C\"]"
   ]
  },
  {
   "cell_type": "code",
   "execution_count": 63,
   "metadata": {
    "collapsed": true
   },
   "outputs": [],
   "source": [
    "#-- Estimation du modèle optimal et erreur sur l'échantillon test --#\n",
    "coefPenal = logitOpt.best_params_[\"C\"]\n",
    "logit = LogisticRegression(C=coefPenal, penalty=\"l1\")\n",
    "\n",
    "\n",
    "#-- On fit le modèle --#\n",
    "logitFit = logit.fit(X_trainqn, Yb_train)"
   ]
  },
  {
   "cell_type": "code",
   "execution_count": 64,
   "metadata": {
    "collapsed": false
   },
   "outputs": [
    {
     "name": "stdout",
     "output_type": "stream",
     "text": [
      "Err. de test 0.155\n"
     ]
    },
    {
     "data": {
      "text/html": [
       "<div>\n",
       "<table border=\"1\" class=\"dataframe\">\n",
       "  <thead>\n",
       "    <tr style=\"text-align: right;\">\n",
       "      <th>Prédit</th>\n",
       "      <th>0</th>\n",
       "      <th>1</th>\n",
       "    </tr>\n",
       "    <tr>\n",
       "      <th>Observés</th>\n",
       "      <th></th>\n",
       "      <th></th>\n",
       "    </tr>\n",
       "  </thead>\n",
       "  <tbody>\n",
       "    <tr>\n",
       "      <th>0</th>\n",
       "      <td>119</td>\n",
       "      <td>13</td>\n",
       "    </tr>\n",
       "    <tr>\n",
       "      <th>1</th>\n",
       "      <td>18</td>\n",
       "      <td>50</td>\n",
       "    </tr>\n",
       "  </tbody>\n",
       "</table>\n",
       "</div>"
      ],
      "text/plain": [
       "Prédit     0   1\n",
       "Observés         \n",
       "0         119  13\n",
       "1          18  50"
      ]
     },
     "execution_count": 64,
     "metadata": {},
     "output_type": "execute_result"
    }
   ],
   "source": [
    "#-- Erreur de test --#\n",
    "print(\"Err. de test {Err}\".format(Err=(1-logitFit.score(X_testqn, Yb_test))))\n",
    "pred=logitFit.predict(X_testqn)\n",
    "pd.crosstab(Yb_test, pred, rownames=['Observés'], colnames=['Prédit'])"
   ]
  },
  {
   "cell_type": "markdown",
   "metadata": {},
   "source": [
    "Le résultat est bien meilleur."
   ]
  },
  {
   "cell_type": "markdown",
   "metadata": {},
   "source": [
    "### Courbe ROC\n",
    "\n",
    "Traçons enfin la courbe ROC correspondant à notre meilleur modèle de cette section: le modèle optimal (obtenu par validation croisée) en pénalisation LASSO sur les données quantitatives. Celui-ci est preféré à la pénalisation Ridge car ce type de modèle, plus parcimonieux, est plus intérprétable. "
   ]
  },
  {
   "cell_type": "code",
   "execution_count": 65,
   "metadata": {
    "collapsed": false
   },
   "outputs": [],
   "source": [
    "from sklearn import metrics\n",
    "\n",
    "le = preprocessing.LabelEncoder()\n",
    "\n",
    "Y_true = Yb_test\n",
    "Y_score = logit.decision_function(X_testqn)\n",
    "# note : \"decision_function predict confidence scores for samples.\"\n",
    "\n",
    "fpr, tpr, thresholds = metrics.roc_curve(Y_true, Y_score)"
   ]
  },
  {
   "cell_type": "code",
   "execution_count": 66,
   "metadata": {
    "collapsed": false
   },
   "outputs": [
    {
     "data": {
      "image/png": "[encoded data removed]",
      "text/plain": [
       "<matplotlib.figure.Figure at 0x7f074c1056d0>"
      ]
     },
     "metadata": {},
     "output_type": "display_data"
    }
   ],
   "source": [
    "#import matplotlib.pyplot as plt\n",
    "from sklearn import preprocessing\n",
    "plt.figure(figsize=(16, 12))\n",
    "\n",
    "plt.plot(fpr, tpr, color='darkorange', label='Regression logistique')\n",
    "\n",
    "plt.plot([0, 1], [0, 1], color='navy', linestyle='--')\n",
    "plt.xlim([0.0, 1.0])\n",
    "plt.ylim([0.0, 1.05])\n",
    "plt.xlabel('False Positive Rate')\n",
    "plt.ylabel('True Positive Rate')\n",
    "plt.title('Receiver operating characteristic example')\n",
    "plt.legend(loc=\"lower right\")\n",
    "plt.show()"
   ]
  },
  {
   "cell_type": "markdown",
   "metadata": {},
   "source": [
    "On donne également le score AUC associé:"
   ]
  },
  {
   "cell_type": "code",
   "execution_count": 67,
   "metadata": {
    "collapsed": false
   },
   "outputs": [
    {
     "data": {
      "text/plain": [
       "0.92312834224598939"
      ]
     },
     "execution_count": 67,
     "metadata": {},
     "output_type": "execute_result"
    }
   ],
   "source": [
    "from sklearn.metrics import roc_auc_score\n",
    "roc_auc_score(Y_true, Y_score)"
   ]
  },
  {
   "cell_type": "markdown",
   "metadata": {},
   "source": [
    "### Comparaison R vs Python\n",
    "\n",
    "Pour chacune des méthodes que nous étudierons, nous donnerons à partir de maintenant:\n",
    "* un comparaison des résultats vis à vis de ceux obtenus avec R \n",
    "* les différences de fonctionalités entre les deux langages\n",
    "\n",
    "Dans le cas présent de la régression logistique, R présente deux \"avantages\" vis à vis de scikit-learn:\n",
    "* La possibilité d'**utiliser des variables qualitatives sans avoir à passer par l'utilisation de paquets d'indicatrices** (ce qui est \"mieux\" en terme d'interprétabilité, d'autant plus que R offre la possibilité d'un résumé de l'information du modèle avec les coefficients du modèle et leur significativité notamment)\n",
    "* La possibilité, encore pas utilisable sous scikit-learn, d'appliquer des **algorithmes de sélection de modèles** avec les algorithmes \"Backward\", \"Stepwise\" et \"Forward\" pour optimiser les critères AIC ou BIC par exemple \n",
    "\n",
    "Comme expliqué précédement nous avons du opter pour deux stratégies différentes pour les deux langages. Dans les deux cas les modèles utilisant les variables quantitatives se sont montrés les meilleurs.\n",
    "\n",
    "Sous R nous obtenions une erreur de prévision sur l'échantillon test **comparable** à celle obtenue ici.\n",
    "Cependant, nous concluerons sur les performance des méthodes principalement dans la partie \"Comparaison\" des méthodes à la fin de ce calepin."
   ]
  },
  {
   "cell_type": "markdown",
   "metadata": {},
   "source": [
    "## Analyse discriminante\n",
    "\n",
    "Notre seconde famille de modèles sera **l'analyse discriminante**.\n",
    "\n",
    "Nous allons ici considérer **trois types de méthodes**, **paramètriques ou non**:\n",
    "\n",
    "Les deux première méthodes, paramètriques correspondent à des modèles de décision par règle Bayesienne dans le cadre d'un modèle normal.\n",
    "On considère en effet que chaque observation des $p=29$ variables(que nous noterons $x$) suit un vecteur gaussien (disons $N_p(\\mu_{CARVP}, \\Sigma_{CARVP}) $) de dimension p conditionellement à l'appartenance à chacune des deux classe Coui et Cnon.\n",
    "\n",
    "Ces deux modèles se distinguent par les hypothèses qu'ils considèrent:\n",
    "\n",
    "* **analyse discriminante quadratique (paramètrique):**\n",
    "\n",
    "Tout d'abord, l'analyse discriminante quadratique ne fait **aucune autre hypothèse**, et on considère que toutes les matrices de covariance associé à chaque vecteur gaussien sont **à priori différentes**. On estime $\\mu_{CARVP}$ par la **moyenne empirique au sein de chacune des deux catégories** Coui et Cnon (1 ou 0) et $\\Sigma_{CARVP}$ par la **matrice de covariance empirique correspondante**.\n",
    "\n",
    "* **analyse discriminante linéaire (paramètrique):**\n",
    "\n",
    "Dans ce cas on ajoute une **hypothèse d'homosédasticité** et on considère que tout les matrices de covariances sont égales.\n",
    "\n",
    "La dernière méthode utilisée est celle, non paramétrique des **k plus proches voisins**.\n",
    "\n",
    "\n",
    "\n",
    "Ces méthodes ne sont utilisables qu'à partir de **prédicteurs quantitatifs**."
   ]
  },
  {
   "cell_type": "markdown",
   "metadata": {},
   "source": [
    "### Estimation"
   ]
  },
  {
   "cell_type": "markdown",
   "metadata": {},
   "source": [
    "Commençons par estimer nos modèles suivant les trois méthodes considérées.\n",
    "\n",
    "Considérons tout d'abord la méthode d'**analyse discriminante linéaire**.\n",
    "\n",
    "On considère que les probabilité $\\pi_i$ associées à chacune des deux classes sont égales (par défault pas *d'a priori*)."
   ]
  },
  {
   "cell_type": "code",
   "execution_count": 68,
   "metadata": {
    "collapsed": false
   },
   "outputs": [],
   "source": [
    "#-- Importation des librairies --#\n",
    "from sklearn import discriminant_analysis\n",
    "from sklearn.discriminant_analysis import LinearDiscriminantAnalysis\n",
    "\n",
    "#-- Modèle d'analyse discriminante linéaire  --#\n",
    "AD_lin = LinearDiscriminantAnalysis()\n",
    "AD_linFit = AD_lin.fit(X_trainqn, Yb_train)"
   ]
  },
  {
   "cell_type": "markdown",
   "metadata": {},
   "source": [
    "Puis la méthode d'**analyse discriminante quadratique** :"
   ]
  },
  {
   "cell_type": "code",
   "execution_count": 69,
   "metadata": {
    "collapsed": false
   },
   "outputs": [],
   "source": [
    "#-- Importation des librairies --#\n",
    "from sklearn.discriminant_analysis import QuadraticDiscriminantAnalysis\n",
    "\n",
    "AD_quad = QuadraticDiscriminantAnalysis()\n",
    "AD_quadFit = AD_quad.fit(X_trainqn, Yb_train)"
   ]
  },
  {
   "cell_type": "markdown",
   "metadata": {},
   "source": [
    "** Remarque:** On pourrait également tenter d'optimiser un paramètre de \"shrinkage\" pour ces deux types de modèles. Cela pourrait être une autre piste d'amélioration potentielle."
   ]
  },
  {
   "cell_type": "markdown",
   "metadata": {},
   "source": [
    "Et enfin la méthode non paramètrique des **k plus proches voisins**:\n",
    "On cherche ici à **optimiser k** par validation croisée"
   ]
  },
  {
   "cell_type": "code",
   "execution_count": 70,
   "metadata": {
    "collapsed": false
   },
   "outputs": [
    {
     "data": {
      "text/plain": [
       "14"
      ]
     },
     "execution_count": 70,
     "metadata": {},
     "output_type": "execute_result"
    }
   ],
   "source": [
    "#-- Importation des librairies --#\n",
    "from sklearn.neighbors import KNeighborsClassifier\n",
    "\n",
    "#-- Optimisation de k par validation croisée --#\n",
    "param=[{\"n_neighbors\":list(range(1,20))}]\n",
    "knn=GridSearchCV(KNeighborsClassifier(),param,cv=5,n_jobs=-1)\n",
    "knnOpt=knn.fit(X_trainqn, Yb_train)\n",
    "# paramètre optimal\n",
    "knnOpt.best_params_[\"n_neighbors\"]"
   ]
  },
  {
   "cell_type": "code",
   "execution_count": 71,
   "metadata": {
    "collapsed": false
   },
   "outputs": [],
   "source": [
    "nkk=knnOpt.best_params_[\"n_neighbors\"]\n",
    "n_proc=-1\n",
    "\n",
    "#-- Le modèle optimal --#\n",
    "knn = KNeighborsClassifier(n_neighbors=nkk, weights='uniform', \n",
    "        algorithm='auto', leaf_size=30, p=2, metric='minkowski', \n",
    "        metric_params=None, n_jobs=n_proc)\n",
    "knnFit=knn.fit(X_trainqn, Yb_train) "
   ]
  },
  {
   "cell_type": "markdown",
   "metadata": {},
   "source": [
    "### Taux d’erreur sur l’échantillon test \n",
    "\n",
    "Pour chacune des trois méthodes nous calculons les erreurs sur les échantillons test. "
   ]
  },
  {
   "cell_type": "code",
   "execution_count": 72,
   "metadata": {
    "collapsed": false
   },
   "outputs": [
    {
     "name": "stdout",
     "output_type": "stream",
     "text": [
      "Err. de test 0.16: \n"
     ]
    },
    {
     "data": {
      "text/html": [
       "<div>\n",
       "<table border=\"1\" class=\"dataframe\">\n",
       "  <thead>\n",
       "    <tr style=\"text-align: right;\">\n",
       "      <th>Prédit</th>\n",
       "      <th>0</th>\n",
       "      <th>1</th>\n",
       "    </tr>\n",
       "    <tr>\n",
       "      <th>Observés</th>\n",
       "      <th></th>\n",
       "      <th></th>\n",
       "    </tr>\n",
       "  </thead>\n",
       "  <tbody>\n",
       "    <tr>\n",
       "      <th>0</th>\n",
       "      <td>124</td>\n",
       "      <td>8</td>\n",
       "    </tr>\n",
       "    <tr>\n",
       "      <th>1</th>\n",
       "      <td>24</td>\n",
       "      <td>44</td>\n",
       "    </tr>\n",
       "  </tbody>\n",
       "</table>\n",
       "</div>"
      ],
      "text/plain": [
       "Prédit     0   1\n",
       "Observés         \n",
       "0         124   8\n",
       "1          24  44"
      ]
     },
     "execution_count": 72,
     "metadata": {},
     "output_type": "execute_result"
    }
   ],
   "source": [
    "#-- analyse discriminante linéaire --#\n",
    "# Erreur de test\n",
    "print(\"Err. de test {Err}: \".format(Err=(1- AD_linFit.score(X_testqn, Yb_test))))\n",
    "# Table\n",
    "pred_AD_lin = AD_lin.predict(X_testqn)\n",
    "table = pd.crosstab(Yb_test, pred_AD_lin,rownames=['Observés'], colnames=['Prédit'])\n",
    "table"
   ]
  },
  {
   "cell_type": "code",
   "execution_count": 73,
   "metadata": {
    "collapsed": false
   },
   "outputs": [
    {
     "name": "stdout",
     "output_type": "stream",
     "text": [
      "Err. de test 0.19: \n"
     ]
    },
    {
     "data": {
      "text/html": [
       "<div>\n",
       "<table border=\"1\" class=\"dataframe\">\n",
       "  <thead>\n",
       "    <tr style=\"text-align: right;\">\n",
       "      <th>Prédit</th>\n",
       "      <th>0</th>\n",
       "      <th>1</th>\n",
       "    </tr>\n",
       "    <tr>\n",
       "      <th>Observés</th>\n",
       "      <th></th>\n",
       "      <th></th>\n",
       "    </tr>\n",
       "  </thead>\n",
       "  <tbody>\n",
       "    <tr>\n",
       "      <th>0</th>\n",
       "      <td>117</td>\n",
       "      <td>15</td>\n",
       "    </tr>\n",
       "    <tr>\n",
       "      <th>1</th>\n",
       "      <td>23</td>\n",
       "      <td>45</td>\n",
       "    </tr>\n",
       "  </tbody>\n",
       "</table>\n",
       "</div>"
      ],
      "text/plain": [
       "Prédit     0   1\n",
       "Observés         \n",
       "0         117  15\n",
       "1          23  45"
      ]
     },
     "execution_count": 73,
     "metadata": {},
     "output_type": "execute_result"
    }
   ],
   "source": [
    "#-- analyse discriminante quadratique --#\n",
    "# Erreur de test\n",
    "print(\"Err. de test {Err}: \".format(Err=(1- AD_quadFit.score(X_testqn, Yb_test))))\n",
    "# Table\n",
    "pred_AD_quad = AD_quad.predict(X_testqn)\n",
    "table=pd.crosstab(Yb_test, pred_AD_quad, rownames=['Observés'], colnames=['Prédit'])\n",
    "table"
   ]
  },
  {
   "cell_type": "code",
   "execution_count": 74,
   "metadata": {
    "collapsed": false
   },
   "outputs": [
    {
     "name": "stdout",
     "output_type": "stream",
     "text": [
      "Err. de test 0.3: \n"
     ]
    },
    {
     "data": {
      "text/html": [
       "<div>\n",
       "<table border=\"1\" class=\"dataframe\">\n",
       "  <thead>\n",
       "    <tr style=\"text-align: right;\">\n",
       "      <th>Prédit</th>\n",
       "      <th>0</th>\n",
       "      <th>1</th>\n",
       "    </tr>\n",
       "    <tr>\n",
       "      <th>Observés</th>\n",
       "      <th></th>\n",
       "      <th></th>\n",
       "    </tr>\n",
       "  </thead>\n",
       "  <tbody>\n",
       "    <tr>\n",
       "      <th>0</th>\n",
       "      <td>120</td>\n",
       "      <td>12</td>\n",
       "    </tr>\n",
       "    <tr>\n",
       "      <th>1</th>\n",
       "      <td>48</td>\n",
       "      <td>20</td>\n",
       "    </tr>\n",
       "  </tbody>\n",
       "</table>\n",
       "</div>"
      ],
      "text/plain": [
       "Prédit     0   1\n",
       "Observés         \n",
       "0         120  12\n",
       "1          48  20"
      ]
     },
     "execution_count": 74,
     "metadata": {},
     "output_type": "execute_result"
    }
   ],
   "source": [
    "#-- K-plus proches voisins --#\n",
    "# Erreur de test\n",
    "print(\"Err. de test {Err}: \".format(Err=(1-knnFit.score(X_testqn,Yb_test))))\n",
    "\n",
    "# Table\n",
    "pred = knnFit.predict(X_testqn)\n",
    "table=pd.crosstab(Yb_test, pred,  rownames=['Observés'], colnames=['Prédit'])\n",
    "table"
   ]
  },
  {
   "cell_type": "markdown",
   "metadata": {},
   "source": [
    "On séléctionne le **modèle d'analyse discriminante linéaire**, notre \"champion\" de cette famille de modèle.\n",
    "\n",
    "On remarque notamment ici que la méthode des k plus proches voisins donne de très mauvaise prévisions."
   ]
  },
  {
   "cell_type": "markdown",
   "metadata": {},
   "source": [
    "### Courbe ROC\n",
    "\n",
    "On trace la courbe ROC pour le modèle d'analye discriminante linéaire.\n",
    "\n",
    "On la superpose à celle obtenue pour le meilleur modèle de la famille des modèles de regression logistique."
   ]
  },
  {
   "cell_type": "code",
   "execution_count": 75,
   "metadata": {
    "collapsed": false
   },
   "outputs": [],
   "source": [
    "Y_score2 = AD_lin.decision_function(X_testqn)\n",
    "Y_score2 = AD_lin.predict_proba(X_testqn)\n",
    "# note : \"decision_function predict confidence scores for samples.\"\n",
    "\n",
    "fpr2, tpr2, thresholds2 = metrics.roc_curve(Y_true, Y_score2[:,1])"
   ]
  },
  {
   "cell_type": "code",
   "execution_count": 76,
   "metadata": {
    "collapsed": false,
    "scrolled": true
   },
   "outputs": [
    {
     "data": {
      "image/png": "[encoded data removed]",
      "text/plain": [
       "<matplotlib.figure.Figure at 0x7f074c0da490>"
      ]
     },
     "metadata": {},
     "output_type": "display_data"
    }
   ],
   "source": [
    "plt.figure(figsize=(16, 12))\n",
    "\n",
    "plt.plot(fpr, tpr, color='darkorange', label='Regression logistique')\n",
    "plt.plot(fpr2, tpr2, color='red', label='Analyse discriminante')\n",
    "\n",
    "\n",
    "plt.plot([0, 1], [0, 1], color='navy', linestyle='--')\n",
    "plt.xlim([0.0, 1.0])\n",
    "plt.ylim([0.0, 1.05])\n",
    "plt.xlabel('False Positive Rate')\n",
    "plt.ylabel('True Positive Rate')\n",
    "plt.title('Receiver operating characteristic example')\n",
    "plt.legend(loc=\"lower right\")\n",
    "plt.show()"
   ]
  },
  {
   "cell_type": "markdown",
   "metadata": {},
   "source": [
    "Les deux modèles semblent assez proche sous cette perspective."
   ]
  },
  {
   "cell_type": "markdown",
   "metadata": {},
   "source": [
    "Aire sous courbe:"
   ]
  },
  {
   "cell_type": "code",
   "execution_count": 77,
   "metadata": {
    "collapsed": false
   },
   "outputs": [
    {
     "name": "stdout",
     "output_type": "stream",
     "text": [
      "0.923128342246\n",
      "0.92513368984\n"
     ]
    }
   ],
   "source": [
    "print(roc_auc_score(Y_true, Y_score)) # Regression logistique \n",
    "print(roc_auc_score(Y_true, Y_score2[:,1])) # Analyse discriminante"
   ]
  },
  {
   "cell_type": "markdown",
   "metadata": {},
   "source": [
    "### Comparaison R vs Python\n",
    "\n",
    "De la même manière qu'ici l'analyse discriminante linéaire est la meilleurs méthode en terme d'erreur de prévision sous R. Les k plus proches voisins obtiennent également des résultats assez mauvais.\n",
    "\n",
    "A titre de comparaison nous obtenions avec la première méthode citée 42 mal classés contre 31 ici pour ce découpage de l'échantillon.  \n",
    "\n",
    "En terme de fonctionalité, nous ne notons rien de particulièrement différent entre les deux languages pour cette famille de méthodes.\n"
   ]
  },
  {
   "cell_type": "markdown",
   "metadata": {},
   "source": [
    "## Arbres binaires de décision\n",
    "\n",
    "Considérons des arbres binaires de décision (en discrimination bien évidement).\n",
    "\n",
    "Pour cette famille de modèle le paramètre de complexité à optimiser est le **nombre d'arbres *k* **. Pour ce faire il est en principe possible de réaliser une **procédure d'élagage** en subdivisant un arbre maximal (le plus \"rafiné\" possiblement réalisable) en sous arbres et en optimisant le dégré de subdivision optimal de cet arbre maximal. Cependant, **cette procédure n'est pas implémentée pour le package scikit-learn** (alors qu'elle est facilement utilisable sous R avec le package rpart par exemple).\n",
    "\n",
    "Nous allons donc ici essayer d'optimiser la **profondeur** des arbres par validation croisée.\n",
    "\n",
    "Nous considérerons des arbres estimés avec les deux jeux de prédicteurs, c'est à dire:\n",
    "\n",
    "* des arbres estimés avec les prédicteurs qualitatifs \n",
    "* des arbres estimés avec les prédicteurs quantitatifs \n"
   ]
  },
  {
   "cell_type": "markdown",
   "metadata": {},
   "source": [
    "### Estimation avec prédicteurs qualitatifs"
   ]
  },
  {
   "cell_type": "markdown",
   "metadata": {},
   "source": [
    "Commençons avec les prédicteurs qualitatifs.  \n",
    "\n",
    "On optimise comme prévu la profondeur des arbres (`max_depth`)."
   ]
  },
  {
   "cell_type": "code",
   "execution_count": 78,
   "metadata": {
    "collapsed": false
   },
   "outputs": [
    {
     "data": {
      "text/plain": [
       "4"
      ]
     },
     "execution_count": 78,
     "metadata": {},
     "output_type": "execute_result"
    }
   ],
   "source": [
    "from sklearn.tree import DecisionTreeClassifier\n",
    "from sklearn.model_selection import GridSearchCV\n",
    "\n",
    "#-- Optimisation de la profondeur de l'arbre --#\n",
    "param = [{\"max_depth\":list(range(1,20))}]\n",
    "Arbre_qual = GridSearchCV(DecisionTreeClassifier(),param,cv=10,n_jobs=-1)\n",
    "Arbre_qual_opt = Arbre_qual.fit(X_train, Yb_train)\n",
    "#-- paramètre optimal --#\n",
    "Arbre_qual_opt.best_params_[\"max_depth\"]"
   ]
  },
  {
   "cell_type": "markdown",
   "metadata": {},
   "source": [
    "**Note:** On choisi ici de considérer le **critère de Gini** (plutôt que d'entropie) comme critère d'homogénéité (utilisé notamment pour le choix des meilleurs divisions à chaque noeud)."
   ]
  },
  {
   "cell_type": "code",
   "execution_count": 79,
   "metadata": {
    "collapsed": false
   },
   "outputs": [
    {
     "name": "stdout",
     "output_type": "stream",
     "text": [
      "Err. de test 0.245: \n"
     ]
    }
   ],
   "source": [
    "#-- Arbre optimal --#\n",
    "profMax=Arbre_qual_opt.best_params_[\"max_depth\"]\n",
    "\n",
    "#-- arbre: paramètres et options par défaut --#\n",
    "Arbre_qual=DecisionTreeClassifier(criterion='gini', splitter='best', \n",
    "            max_depth=profMax, min_samples_split=2, min_samples_leaf=1, \n",
    "            min_weight_fraction_leaf=0.0, max_features=None, \n",
    "            random_state=None, max_leaf_nodes=None, class_weight=None, \n",
    "            presort=False)\n",
    "Arbre_qualFit=Arbre_qual.fit(X_train, Y_train) \n",
    "\n",
    "#-- Estimation de l'erreur de prévision --#\n",
    "print(\"Err. de test {Err}: \".format(Err=(1-Arbre_qualFit.score(X_test,Y_test))))"
   ]
  },
  {
   "cell_type": "code",
   "execution_count": 80,
   "metadata": {
    "collapsed": false
   },
   "outputs": [
    {
     "data": {
      "text/html": [
       "<div>\n",
       "<table border=\"1\" class=\"dataframe\">\n",
       "  <thead>\n",
       "    <tr style=\"text-align: right;\">\n",
       "      <th>Prédit</th>\n",
       "      <th>Cnon</th>\n",
       "      <th>Coui</th>\n",
       "    </tr>\n",
       "    <tr>\n",
       "      <th>Observés</th>\n",
       "      <th></th>\n",
       "      <th></th>\n",
       "    </tr>\n",
       "  </thead>\n",
       "  <tbody>\n",
       "    <tr>\n",
       "      <th>Cnon</th>\n",
       "      <td>116</td>\n",
       "      <td>16</td>\n",
       "    </tr>\n",
       "    <tr>\n",
       "      <th>Coui</th>\n",
       "      <td>33</td>\n",
       "      <td>35</td>\n",
       "    </tr>\n",
       "  </tbody>\n",
       "</table>\n",
       "</div>"
      ],
      "text/plain": [
       "Prédit   Cnon  Coui\n",
       "Observés            \n",
       "Cnon       116    16\n",
       "Coui        33    35"
      ]
     },
     "execution_count": 80,
     "metadata": {},
     "output_type": "execute_result"
    }
   ],
   "source": [
    "#-- prévision de l'échantillon test --#\n",
    "pred = Arbre_qualFit.predict(X_test)\n",
    "# matrice de confusion\n",
    "table=pd.crosstab(Y_test,pred, rownames=['Observés'], colnames=['Prédit'])\n",
    "table"
   ]
  },
  {
   "cell_type": "markdown",
   "metadata": {},
   "source": [
    "Nous obtenons donc des résultats assez décevants avec les prédicteurs qualitatifs!"
   ]
  },
  {
   "cell_type": "markdown",
   "metadata": {},
   "source": [
    "### Estimation avec prédicteurs quantitatifs\n",
    "\n",
    "Réalisons la même étude mais cette fois avec nos **prédicteurs quantitatifs**:"
   ]
  },
  {
   "cell_type": "code",
   "execution_count": 81,
   "metadata": {
    "collapsed": false
   },
   "outputs": [
    {
     "data": {
      "text/plain": [
       "9"
      ]
     },
     "execution_count": 81,
     "metadata": {},
     "output_type": "execute_result"
    }
   ],
   "source": [
    "#-- Optimisation de la profondeur de l'arbre --#\n",
    "param=[{\"max_depth\":list(range(1,20))}]\n",
    "Arbre_quant= GridSearchCV(DecisionTreeClassifier(),param,cv=10,n_jobs=-1)\n",
    "Arbre_quant_opt = Arbre_quant.fit(X_trainqn, Yb_train)\n",
    "#-- paramètre optimal --#\n",
    "Arbre_quant_opt.best_params_[\"max_depth\"]"
   ]
  },
  {
   "cell_type": "code",
   "execution_count": 82,
   "metadata": {
    "collapsed": false
   },
   "outputs": [
    {
     "name": "stdout",
     "output_type": "stream",
     "text": [
      "Err. de test: 0.13 \n"
     ]
    }
   ],
   "source": [
    "#-- Arbre \"optimal\" --#\n",
    "profMax=Arbre_quant_opt.best_params_[\"max_depth\"]\n",
    "#-- arbre: paramètres et options par défaut --#\n",
    "Arbre_quant=DecisionTreeClassifier(criterion='gini', splitter='best', \n",
    "            max_depth=profMax, min_samples_split=2, min_samples_leaf=1, \n",
    "            min_weight_fraction_leaf=0.0, max_features=None, \n",
    "            random_state=None, max_leaf_nodes=None, class_weight=None, \n",
    "            presort=False)\n",
    "Arbre_quantFit=Arbre_quant.fit(X_trainqn, Y_train) \n",
    "#-- Estimation de l'erreur de prévision --#\n",
    "print(\"Err. de test: {Err} \".format(Err=(1-Arbre_quantFit.score(X_testqn,Y_test))))"
   ]
  },
  {
   "cell_type": "code",
   "execution_count": 83,
   "metadata": {
    "collapsed": false
   },
   "outputs": [
    {
     "data": {
      "text/html": [
       "<div>\n",
       "<table border=\"1\" class=\"dataframe\">\n",
       "  <thead>\n",
       "    <tr style=\"text-align: right;\">\n",
       "      <th>Prédit</th>\n",
       "      <th>Cnon</th>\n",
       "      <th>Coui</th>\n",
       "    </tr>\n",
       "    <tr>\n",
       "      <th>Observés</th>\n",
       "      <th></th>\n",
       "      <th></th>\n",
       "    </tr>\n",
       "  </thead>\n",
       "  <tbody>\n",
       "    <tr>\n",
       "      <th>Cnon</th>\n",
       "      <td>124</td>\n",
       "      <td>8</td>\n",
       "    </tr>\n",
       "    <tr>\n",
       "      <th>Coui</th>\n",
       "      <td>18</td>\n",
       "      <td>50</td>\n",
       "    </tr>\n",
       "  </tbody>\n",
       "</table>\n",
       "</div>"
      ],
      "text/plain": [
       "Prédit   Cnon  Coui\n",
       "Observés            \n",
       "Cnon       124     8\n",
       "Coui        18    50"
      ]
     },
     "execution_count": 83,
     "metadata": {},
     "output_type": "execute_result"
    }
   ],
   "source": [
    "#-- prévision de l'échantillon test --#\n",
    "pred = Arbre_quantFit.predict(X_testqn)\n",
    "#-- matrice de confusion --#\n",
    "table=pd.crosstab(Y_test, pred, rownames=['Observés'], colnames=['Prédit'])\n",
    "table"
   ]
  },
  {
   "cell_type": "markdown",
   "metadata": {},
   "source": [
    "Les résultats sont bien meilleurs avec ces prédicteurs!\n",
    "\n",
    "### Autres critères à optimiser\n",
    "\n",
    "Nous avons ici choisi d'optimiser la profondeur de l'arbre, mais nous aurions aussi pu nous baser sur d'autres critères, comme par exemple la **taille minimum de l'échantillon contenu dans chaque noeud**.\n",
    "\n",
    "Essayons cette autre approche sur nos prédicteurs quantitatifs, à priori plus appropriés: "
   ]
  },
  {
   "cell_type": "code",
   "execution_count": 84,
   "metadata": {
    "collapsed": false
   },
   "outputs": [
    {
     "data": {
      "text/plain": [
       "7"
      ]
     },
     "execution_count": 84,
     "metadata": {},
     "output_type": "execute_result"
    }
   ],
   "source": [
    "#-- Optimisation de la profondeur de l'arbre --#\n",
    "param=[{\"min_samples_leaf\":list(range(1,20))}]\n",
    "Arbre_quant_taille= GridSearchCV(DecisionTreeClassifier(),param,cv=10,n_jobs=-1)\n",
    "Arbre_quant_taille_opt = Arbre_quant_taille.fit(X_trainqn, Yb_train)\n",
    "#-- paramètre optimal --#\n",
    "Arbre_quant_taille_opt.best_params_[\"min_samples_leaf\"]"
   ]
  },
  {
   "cell_type": "code",
   "execution_count": 85,
   "metadata": {
    "collapsed": false
   },
   "outputs": [
    {
     "name": "stdout",
     "output_type": "stream",
     "text": [
      "Err. de test: 0.125 \n"
     ]
    }
   ],
   "source": [
    "#-- Arbre \"optimal\" --#\n",
    "TailleMin=Arbre_quant_taille_opt.best_params_[\"min_samples_leaf\"]\n",
    "#-- arbre: paramètres et options par défaut --#\n",
    "Arbre_quant_taille=DecisionTreeClassifier(criterion='gini', splitter='best', \n",
    "            min_samples_split=2, min_samples_leaf=TailleMin, \n",
    "            min_weight_fraction_leaf=0.0, max_features=None, \n",
    "            random_state=None, max_leaf_nodes=None, class_weight=None, \n",
    "            presort=False)\n",
    "Arbre_quant_tailleFit=Arbre_quant_taille.fit(X_trainqn, Y_train) \n",
    "#-- Estimation de l'erreur de prévision --#\n",
    "print(\"Err. de test: {Err} \".format(Err=(1-Arbre_quant_tailleFit.score(X_testqn,Y_test))))"
   ]
  },
  {
   "cell_type": "code",
   "execution_count": 86,
   "metadata": {
    "collapsed": false
   },
   "outputs": [
    {
     "data": {
      "text/html": [
       "<div>\n",
       "<table border=\"1\" class=\"dataframe\">\n",
       "  <thead>\n",
       "    <tr style=\"text-align: right;\">\n",
       "      <th>Prédit</th>\n",
       "      <th>Cnon</th>\n",
       "      <th>Coui</th>\n",
       "    </tr>\n",
       "    <tr>\n",
       "      <th>Observés</th>\n",
       "      <th></th>\n",
       "      <th></th>\n",
       "    </tr>\n",
       "  </thead>\n",
       "  <tbody>\n",
       "    <tr>\n",
       "      <th>Cnon</th>\n",
       "      <td>125</td>\n",
       "      <td>7</td>\n",
       "    </tr>\n",
       "    <tr>\n",
       "      <th>Coui</th>\n",
       "      <td>18</td>\n",
       "      <td>50</td>\n",
       "    </tr>\n",
       "  </tbody>\n",
       "</table>\n",
       "</div>"
      ],
      "text/plain": [
       "Prédit   Cnon  Coui\n",
       "Observés            \n",
       "Cnon       125     7\n",
       "Coui        18    50"
      ]
     },
     "execution_count": 86,
     "metadata": {},
     "output_type": "execute_result"
    }
   ],
   "source": [
    "#-- prévision de l'échantillon test --#\n",
    "pred = Arbre_quant_tailleFit.predict(X_testqn)\n",
    "#-- matrice de confusion --#\n",
    "table=pd.crosstab(Y_test, pred, rownames=['Observés'], colnames=['Prédit'])\n",
    "table"
   ]
  },
  {
   "cell_type": "markdown",
   "metadata": {},
   "source": [
    "On obtient des résultats similaires.\n",
    "Notons d'ailleurs que le **taux de faux négatifs est très élevé**!"
   ]
  },
  {
   "cell_type": "markdown",
   "metadata": {},
   "source": [
    "### Courbe ROC\n",
    "\n",
    "Concluons en traçant une nouvelle fois notre courbe ROC correspondant au modèle établi à partir des prédicteurs quantitatifs par optimisation de la profondeur maximale."
   ]
  },
  {
   "cell_type": "code",
   "execution_count": 87,
   "metadata": {
    "collapsed": false
   },
   "outputs": [],
   "source": [
    "Y_score3 = Arbre_quant.predict_proba(X_testqn)[:, 1]\n",
    "# note : \"decision_function predict confidence scores for samples.\"\n",
    "\n",
    "fpr3, tpr3, thresholds3 = metrics.roc_curve(Y_true, Y_score3)"
   ]
  },
  {
   "cell_type": "code",
   "execution_count": 88,
   "metadata": {
    "collapsed": false
   },
   "outputs": [
    {
     "data": {
      "image/png": "[encoded data removed]",
      "text/plain": [
       "<matplotlib.figure.Figure at 0x7f074c0e4610>"
      ]
     },
     "metadata": {},
     "output_type": "display_data"
    }
   ],
   "source": [
    "plt.figure(figsize=(16, 12))\n",
    "\n",
    "plt.plot(fpr, tpr, color='darkorange', label='Regression logistique')\n",
    "plt.plot(fpr2, tpr2, color='red', label='Analyse discriminante')\n",
    "plt.plot(fpr3, tpr3, color='blue', label='Arbres binaires')\n",
    "\n",
    "\n",
    "plt.plot([0, 1], [0, 1], color='navy', linestyle='--')\n",
    "plt.xlim([0.0, 1.0])\n",
    "plt.ylim([0.0, 1.05])\n",
    "plt.xlabel('False Positive Rate')\n",
    "plt.ylabel('True Positive Rate')\n",
    "plt.title('Receiver operating characteristic example')\n",
    "plt.legend(loc=\"lower right\")\n",
    "plt.show()"
   ]
  },
  {
   "cell_type": "markdown",
   "metadata": {},
   "source": [
    "Grâce à cette représentation on peut de nouveau constater que le taux de faux négatif est élevé.\n",
    "\n",
    "**Aires sous courbe:**"
   ]
  },
  {
   "cell_type": "code",
   "execution_count": 89,
   "metadata": {
    "collapsed": false
   },
   "outputs": [
    {
     "name": "stdout",
     "output_type": "stream",
     "text": [
      "0.923128342246\n",
      "0.92513368984\n",
      "0.852829768271\n"
     ]
    }
   ],
   "source": [
    "print(roc_auc_score(Y_true, Y_score)) # Regression logistique \n",
    "print(roc_auc_score(Y_true, Y_score2[:,1])) # Analyse discriminante\n",
    "print(roc_auc_score(Y_true, Y_score3)) # Arbres binaires de décision"
   ]
  },
  {
   "cell_type": "markdown",
   "metadata": {},
   "source": [
    "### Comparaison R vs Python\n",
    "\n",
    "Nous notons ici un manque notable dans l'implémentation des arbres de binaires de décision par le package scikit-learn: l'**absence de procédure d'élagage**(\"pruning\"). Nous avons du ici optimiser simplement la profondeur de chaque arbre. "
   ]
  },
  {
   "cell_type": "markdown",
   "metadata": {},
   "source": [
    "## Agregation de modèles \n",
    "\n",
    "Nous allons dans cette partie nous intéresser à différentes méthodes d'aggrégation de modèles.\n",
    "\n",
    "Deux d'entre elles (le **bagging** et les **Random Forest**, la seconde étant une version \"aléarisées\" de la première) sont des méthodes de constructions aléatoires de familles de modèles, tandis que la dernière (le **boosting**) est un méthode adaptative. \n",
    "\n",
    "Nous utiliserons ici en pratique des **aggrégations d'abre de décision**, des modèles assez instables (pas d'intêret d'aggréger des modèles stables comme pour la régression logistiques par exemple)."
   ]
  },
  {
   "cell_type": "markdown",
   "metadata": {},
   "source": [
    "### Bagging\n",
    "\n",
    "Dans le cadre du bagging, tout d'abord, on tire $B$ fois des échantillons boostraps sur lesquels on estime à chaque itération un arbre de décision (donc B en tout).\n",
    "\n",
    "Une moyennes des probabilités de l'appartenance à l'une ou l'autre des modalités obtenues à l'extremité de chaque arbre (feuille) est finalement calculée pour associer une observation à une classe.\n",
    "\n",
    "Nous allons ici utiliser, de la même manière que dans le code R, successivement:\n",
    "\n",
    "* les prédicteurs quantitatifs uniquement\n",
    "* les prédicteurs qualitatifs uniquement\n",
    "\n",
    "#### Estimation"
   ]
  },
  {
   "cell_type": "code",
   "execution_count": 90,
   "metadata": {
    "collapsed": false
   },
   "outputs": [],
   "source": [
    "from sklearn import ensemble\n",
    "from sklearn.ensemble import BaggingClassifier"
   ]
  },
  {
   "cell_type": "markdown",
   "metadata": {},
   "source": [
    "Pour chaque modèle nous allons déterminer son **erreur  *out of bag* **. \n",
    "\n",
    "Celle-ci correspond, pour chaque observation à \"predire\" (dans un premier temps de l'échantillon d'apprentissage) uniquement par rapport aux arbres de la famille construits sur des échantillons boostraps ne comprenant ** *pas* ** cette observation.  \n",
    "\n",
    "Nous pouvons choisir le nombre d'estimateurs (ie d'arbres, et donc le nombre $B$ d'échantillon boostraps correspondants) à utiliser (10 par défault). \n",
    "\n",
    "Il est choisi ici de considérer des **arbres complets** (pas d'élagage ni de limitation en terme de nombre maximal de feuille). Cette aproche est celle en générale utilisée en pratique: on considère certes des estimateurs de grande variance, mais on réduit cette même variance par le principe même d'aggregation de modèle."
   ]
  },
  {
   "cell_type": "code",
   "execution_count": 91,
   "metadata": {
    "collapsed": false
   },
   "outputs": [
    {
     "name": "stdout",
     "output_type": "stream",
     "text": [
      "0.334878331402\n"
     ]
    }
   ],
   "source": [
    "vpBag = BaggingClassifier(base_estimator=DecisionTreeClassifier(), n_estimators=50, max_samples=1, max_features=1.0, bootstrap=True, \n",
    "                          bootstrap_features=False, oob_score = True, n_jobs=-1) \n",
    "\n",
    "#-- Score OOB avec prédicteurs qualitatifs --#\n",
    "vpBagFit = vpBag.fit(X_train, Yb_train)\n",
    "score = vpBag.oob_score_\n",
    "print(1-score)"
   ]
  },
  {
   "cell_type": "markdown",
   "metadata": {},
   "source": [
    "On obtient de mauvais résultat pour les prédicteurs qualitatifs."
   ]
  },
  {
   "cell_type": "markdown",
   "metadata": {},
   "source": [
    "On recommence donc pour les prédicteurs quantitatifs:"
   ]
  },
  {
   "cell_type": "code",
   "execution_count": 92,
   "metadata": {
    "collapsed": false
   },
   "outputs": [
    {
     "data": {
      "text/plain": [
       "0.10660486674391656"
      ]
     },
     "execution_count": 92,
     "metadata": {},
     "output_type": "execute_result"
    }
   ],
   "source": [
    "vpBagQn = BaggingClassifier(base_estimator=DecisionTreeClassifier(), n_estimators=50, max_samples=1.0, max_features=1.0, bootstrap=True, \n",
    "                            bootstrap_features=False, oob_score = True, n_jobs=-1) \n",
    "\n",
    "#-- Score OOB avec prédicteurs quantitatifs --#\n",
    "vpBagFitQn = vpBagQn.fit(X_trainqn, Yb_train, sample_weight=None)\n",
    "1-vpBagFitQn.oob_score_"
   ]
  },
  {
   "cell_type": "markdown",
   "metadata": {},
   "source": [
    "On a testé pour différents nombres d'abres estimé et on décide de fixer ce nombre à 50.\n",
    "On obtient une erreur out-of-bag bien meilleure dans ce cas!"
   ]
  },
  {
   "cell_type": "markdown",
   "metadata": {},
   "source": [
    "On séléctione donc un modèle avec 50 estimateurs (ie 50 échantillons boostraps, 50 arbres) et avec les prédicteurs quantitatifs uniquement."
   ]
  },
  {
   "cell_type": "markdown",
   "metadata": {},
   "source": [
    "#### Prévision de l'échantillon test:\n",
    "\n",
    "Ce modèle nous donne un faible erreur sur l'échantillon test."
   ]
  },
  {
   "cell_type": "code",
   "execution_count": 93,
   "metadata": {
    "collapsed": false
   },
   "outputs": [
    {
     "data": {
      "text/html": [
       "<div>\n",
       "<table border=\"1\" class=\"dataframe\">\n",
       "  <thead>\n",
       "    <tr style=\"text-align: right;\">\n",
       "      <th>Prédit</th>\n",
       "      <th>0</th>\n",
       "      <th>1</th>\n",
       "    </tr>\n",
       "    <tr>\n",
       "      <th>Observés</th>\n",
       "      <th></th>\n",
       "      <th></th>\n",
       "    </tr>\n",
       "  </thead>\n",
       "  <tbody>\n",
       "    <tr>\n",
       "      <th>Cnon</th>\n",
       "      <td>125</td>\n",
       "      <td>7</td>\n",
       "    </tr>\n",
       "    <tr>\n",
       "      <th>Coui</th>\n",
       "      <td>11</td>\n",
       "      <td>57</td>\n",
       "    </tr>\n",
       "  </tbody>\n",
       "</table>\n",
       "</div>"
      ],
      "text/plain": [
       "Prédit     0   1\n",
       "Observés         \n",
       "Cnon      125   7\n",
       "Coui       11  57"
      ]
     },
     "execution_count": 93,
     "metadata": {},
     "output_type": "execute_result"
    }
   ],
   "source": [
    "pred = vpBagFitQn.predict(X_testqn)\n",
    "table = pd.crosstab(Y_test, pred, rownames=['Observés'], colnames=['Prédit'])\n",
    "table"
   ]
  },
  {
   "cell_type": "markdown",
   "metadata": {},
   "source": [
    "#### Courbe ROC\n",
    "\n",
    "On compare à nouveau le tracé des courbes ROC et les aires AUC."
   ]
  },
  {
   "cell_type": "code",
   "execution_count": 94,
   "metadata": {
    "collapsed": false
   },
   "outputs": [],
   "source": [
    "Y_score4 = vpBagQn.predict_proba(X_testqn)[:, 1]\n",
    "# note : \"decision_function predict confidence scores for samples.\"\n",
    "\n",
    "fpr4, tpr4, thresholds4 = metrics.roc_curve(Y_true, Y_score4)"
   ]
  },
  {
   "cell_type": "code",
   "execution_count": 95,
   "metadata": {
    "collapsed": false
   },
   "outputs": [
    {
     "data": {
      "image/png": "[encoded data removed]",
      "text/plain": [
       "<matplotlib.figure.Figure at 0x7f0727e0ed50>"
      ]
     },
     "metadata": {},
     "output_type": "display_data"
    }
   ],
   "source": [
    "plt.figure(figsize=(16, 12))\n",
    "\n",
    "plt.plot(fpr, tpr, color='darkorange', label='Regression logistique')\n",
    "plt.plot(fpr2, tpr2, color='red', label='Analyse discriminante')\n",
    "plt.plot(fpr3, tpr3, color='blue', label='Arbres binaires')\n",
    "plt.plot(fpr4, tpr4, color='green', label='Bagging')\n",
    "\n",
    "\n",
    "plt.plot([0, 1], [0, 1], color='navy', linestyle='--')\n",
    "plt.xlim([0.0, 1.0])\n",
    "plt.ylim([0.0, 1.05])\n",
    "plt.xlabel('False Positive Rate')\n",
    "plt.ylabel('True Positive Rate')\n",
    "plt.title('Receiver operating characteristic example')\n",
    "plt.legend(loc=\"lower right\")\n",
    "plt.show()"
   ]
  },
  {
   "cell_type": "code",
   "execution_count": 96,
   "metadata": {
    "collapsed": false
   },
   "outputs": [
    {
     "name": "stdout",
     "output_type": "stream",
     "text": [
      "0.923128342246\n",
      "0.92513368984\n",
      "0.852829768271\n",
      "0.948919340463\n"
     ]
    }
   ],
   "source": [
    "print(roc_auc_score(Y_true, Y_score)) # Regression logistique \n",
    "print(roc_auc_score(Y_true, Y_score2[:,1])) # Analyse discriminante\n",
    "print(roc_auc_score(Y_true, Y_score3)) # Arbres binaires de décision\n",
    "print(roc_auc_score(Y_true, Y_score4)) # Bagging"
   ]
  },
  {
   "cell_type": "markdown",
   "metadata": {},
   "source": [
    " Notons les bons résultats associés au bagging.\n",
    "\n",
    "#### Comparaison R vs Python\n",
    "\n",
    "Le paramétrage est ici relativement similaire à celui effectué sous R.\n",
    "\n",
    "Nous obtenons des résultats légerement meilleurs (on dira assez similaires) sous Python que sous R (où l'on obtenenais une vingtaine de mal classés). \n",
    "\n",
    "De la même manière que précédement, nous trouvons qu'une nouvelles fois les prédicteurs quantitatifs donnent de meilleurs résultats dans les deux langages. \n",
    "\n"
   ]
  },
  {
   "cell_type": "markdown",
   "metadata": {},
   "source": [
    "### Boosting \n",
    "\n",
    "Considérons maintenant le boosting. Ce type d'aggrégation de modèle est **adaptatif**. Cela signifie qu'en plus de reduire la variance de notre estimateur en \"moyennant\" d'une certaine manière plusieurs estimateurs agrégé, on va en plus chercher à **réduire le biais**.\n",
    "\n",
    "Le principe général est à chaque étape d'associer un **poids** plus important aux observations mal prédites par l'estimateur précédent.\n",
    "\n",
    "Nous testerons ici deux types de boosting:\n",
    "\n",
    "* l'adaptative boosting\n",
    "* le \"gradient boosting\": dans ce cas précis on cherche à minimiser à chaque étape le gradient de la fonction de perte que l'on considère."
   ]
  },
  {
   "cell_type": "markdown",
   "metadata": {},
   "source": [
    "#### Adaptative boosting\n",
    "\n",
    "Commençons donc par l'\"adaptative boosting\" dans sa forme initiale. \n",
    "\n",
    "On fait ici varier la **pronfondeur maximale** des arbres utilisés et le **nombre d'arbre** en observant l'erreur d'apprentissage associée:  "
   ]
  },
  {
   "cell_type": "code",
   "execution_count": 97,
   "metadata": {
    "collapsed": true
   },
   "outputs": [],
   "source": [
    "from sklearn.ensemble import AdaBoostClassifier"
   ]
  },
  {
   "cell_type": "code",
   "execution_count": 98,
   "metadata": {
    "collapsed": true
   },
   "outputs": [],
   "source": [
    "vpAdBoost = AdaBoostClassifier(base_estimator=DecisionTreeClassifier(max_depth=3), n_estimators=20)\n",
    "vpAdBoostFit = vpAdBoost.fit(X_trainqn, Y_train)"
   ]
  },
  {
   "cell_type": "markdown",
   "metadata": {},
   "source": [
    "On fait varier la **pronfondeur d'arbre** (max_depth/prof) et **le nombre max d'arbre** (n_estimators)"
   ]
  },
  {
   "cell_type": "code",
   "execution_count": 99,
   "metadata": {
    "collapsed": false
   },
   "outputs": [
    {
     "data": {
      "text/plain": [
       "0.0"
      ]
     },
     "execution_count": 99,
     "metadata": {},
     "output_type": "execute_result"
    }
   ],
   "source": [
    "1-vpAdBoostFit.score(X_trainqn, Y_train)"
   ]
  },
  {
   "cell_type": "markdown",
   "metadata": {},
   "source": [
    "* **prof = 3, nb max d'arbre=20**: err. apprentissage= 0.0\n",
    "* **prof = 1, nb max d'arbre=50**: err. apprentissage= 0.062572421784472754\n",
    "* **prof = 1, nb max d'arbre=100**: err. apprentissage= 0.039397450753186569\n",
    "* **prof = 2, nb max d'arbre=50**: err. apprentissage= 0.0\n",
    "\n",
    "\"Il  suffit  en  général  de  prendre  un  nombre  d’itérations  suffisant  au regard de la complexité des arbres : 50 à 100 pour une profondeur réduite (1), 20 à 50 pour une profondeur supérieure (3). \" (ref. sujet)"
   ]
  },
  {
   "cell_type": "markdown",
   "metadata": {},
   "source": [
    "Ces méthodes d'aggregation ne sont que peu sensibles au sur-apprentissage: en effet même lorsque l'erreur d'apprentissage s'annule l'erreur sur l'échantillon test reste décroissante.\n",
    "\n",
    "A titre d'exemple donnons les erreurs sur l'échantillon test des modèles précédent (comme obtenu dans le script R proposé):"
   ]
  },
  {
   "cell_type": "code",
   "execution_count": 100,
   "metadata": {
    "collapsed": false
   },
   "outputs": [
    {
     "data": {
      "text/plain": [
       "0.10499999999999998"
      ]
     },
     "execution_count": 100,
     "metadata": {},
     "output_type": "execute_result"
    }
   ],
   "source": [
    "1-vpAdBoostFit.score(X_testqn, Y_test)"
   ]
  },
  {
   "cell_type": "markdown",
   "metadata": {},
   "source": [
    "* **prof = 3, nb max d'arbre=20**: err. test = 0.094999999999999973\n",
    "* **prof = 1, nb max d'arbre=50**: err. test =  0.099999999999999978\n",
    "* **prof = 1, nb max d'arbre=100**: err. test = 0.094999999999999973\n",
    "* **prof = 2, nb max d'arbre=50**: err. test = 0.10499999999999998\n",
    "\n",
    "Le cas des deux modèle avec un profondeur maximum de 1 illustre la faible sensibilité au sur-apprentissage: l'erreur de test diminue quand l'on passe de 50 à 100 itérations.\n"
   ]
  },
  {
   "cell_type": "markdown",
   "metadata": {},
   "source": [
    "#### Gradient boosting\n",
    "\n",
    "Dans un premier temps, considérons un modèle de gradient boosting avec les paramètres tels que définit dans le code R associé, et regardons, à titre indicatif, son erreur sur l'échantillon test associée:\n",
    "\n",
    "On règle par défault la **profondeur maximum** à 3, la **taille minimale de chaque noeud** à 5 observations. \n"
   ]
  },
  {
   "cell_type": "code",
   "execution_count": 101,
   "metadata": {
    "collapsed": true
   },
   "outputs": [],
   "source": [
    "from sklearn.ensemble import GradientBoostingClassifier"
   ]
  },
  {
   "cell_type": "code",
   "execution_count": 102,
   "metadata": {
    "collapsed": false
   },
   "outputs": [
    {
     "name": "stdout",
     "output_type": "stream",
     "text": [
      "Erreur de test: 0.0900\n"
     ]
    }
   ],
   "source": [
    "#-- Paramètrage --#\n",
    "params_0 = {'loss': 'exponential', 'n_estimators': 1000, 'max_depth': 3, 'learning_rate': 1, 'min_samples_split': 1}\n",
    "params_0 = {'loss': 'exponential', 'n_estimators': 100, 'max_depth': 3, 'learning_rate': 1, 'min_samples_leaf': 1, 'min_samples_split': 5}  \n",
    "\n",
    "vpBoost_0 = GradientBoostingClassifier(**params_0)\n",
    "# loss='exponential' pour algo adaboost, min_samples_split: nb mini d'observation à l'issue de chaque noeud \n",
    "# min_samples_split: le nb mini. d'obs. en fin d'abre (revoir pour être certain)\n",
    "# learning_rate <--> shrinkage\n",
    "\n",
    "#-- Ajustement du modèle --#\n",
    "vpBoost_0.fit(X_trainqn, Y_train)\n",
    "\n",
    "#-- Erreur de test --#\n",
    "acc = vpBoost_0.score(X_testqn, Y_test)\n",
    "print(\"Erreur de test: {:.4f}\".format(1-acc))"
   ]
  },
  {
   "cell_type": "markdown",
   "metadata": {},
   "source": [
    "On obtient donc une erreur assez faible d'environ 8/10% pour ce modèle non optimisé.\n",
    "\n",
    "##### Optimisation des paramètres du modèle:\n",
    "\n",
    "\n",
    "Optimisons mantenant le paramètre \"n_estimators\" qui correspond au **nombre d'arbres** estimés.\n",
    "Nous allons tout d'abord étudier des modèles sans **\"shrinkage\"** (ie des modèles avec le paramètre learning_rate fixé à 1), puis des modèles avec plus ou moins de shrinkage.\n",
    "\n",
    "Le shrinkage permet la \"régularisation\" du modèle, c'est à dire contribue à le rendre moins sensible au sur-apprentissage. Un valeur du coefficient de shrinkage (ou \"learning rate\") à 1 correspond justement à une absence de shrinkage. \n",
    "\n",
    "Ce paramètre va, autrement dit, faire en sorte de faire converger le gradient de la fonction de perte plus ou moins vite vers son minimum. \n",
    "\n",
    "Pour chacun de ces modèles nous allons donc determiner par validation croisée un nombre optimal d'arbres à estimer, puis, après avoir selectionné le meilleur modèle parmi les différentes configurations de \"shrinkage\", nous l'appliquerons une nouvelle fois à l'echantillon test pour étudier son erreur de test et pouvoir le comparer aux familles de modèles précédement étudiées.\n",
    "\n",
    "* **  Sans shrinkage: **\n",
    "\n",
    "Tout d'abord règlons le \"taux d'apprentissage\" (learning rate) à 1, et recherchons pour cette première configuration le nombre d'arbres optimal par validation croisée:"
   ]
  },
  {
   "cell_type": "code",
   "execution_count": 103,
   "metadata": {
    "collapsed": false
   },
   "outputs": [],
   "source": [
    "from sklearn.model_selection import train_test_split\n",
    "from sklearn.model_selection import KFold\n",
    "\n",
    "#-- On garde les même paramètre initiaux --#\n",
    "params_0 = {'loss': 'exponential', 'n_estimators': 100, 'max_depth': 3, 'learning_rate': 1, 'min_samples_split': 1}\n",
    "params_0 = {'loss': 'exponential', 'n_estimators': 30, 'max_depth': 3, 'learning_rate': 1, 'min_samples_leaf': 1, 'min_samples_split': 5} #, 'random_state': 3, , \n",
    "cv_boost = GradientBoostingClassifier(**params_0)\n",
    "cv_boost.fit(X_trainqn, Yb_train)\n",
    "\n",
    "n_estimators = params_0['n_estimators']\n",
    "x = np.arange(n_estimators) + 1\n",
    "\n",
    "#-- Fonction calculant l'erreur de test --#\n",
    "# mod: le modèle considéré, X_test/Y: l'échantillon de test considéré (prédicteur/réponse)\n",
    "def heldout_score(mod, Xtest, Ytest):\n",
    "    score = np.zeros((n_estimators,), dtype=np.float64)\n",
    "    for i, y_pred in enumerate(mod.staged_decision_function(Xtest)): # staged_decision_function: fct dec pour chaque iteration\n",
    "        score[i] = mod.loss_(Ytest, y_pred)\n",
    "    return score # vecteur avec les score correspondants à chaque parametrage (ie nb d'arbre)\n",
    "\n",
    "\n",
    "#-- \"K-Folds\" cross-validation (on prend par défault K=10) --#\n",
    "# On découpes en sous échantillons de test et d'apprentissage par méthode K-fold \n",
    "# qui sont réutilisés avec la fonction au dessus \n",
    "def cv_estimate(n_splits=10):\n",
    "    cv = KFold(n_splits = n_splits)\n",
    "    cv_boost = GradientBoostingClassifier(**params_0)\n",
    "    val_scores = np.zeros((n_estimators,), dtype=np.float64) # stocke les scores par estimateur \n",
    "    # La boucle suivante calcule l'erreur de cv\n",
    "    for train, test in cv.split(X_trainqn, Yb_train): # à chaque iter on sel. l'ech de test et celui d'app. selon K-Fold cv.\n",
    "        cv_boost.fit(X_trainqn.iloc[train], Yb_train[train]) # on ajuste le modèle\n",
    "        val_scores += heldout_score(cv_boost, X_trainqn.iloc[test], Yb_train[test]) # on calcule le score d'erreur cumulé grâce à heldout_score\n",
    "    val_scores /= n_splits # on divise par le nombre de fold de la cv pour avoir la moyenne des erreurs pour chaque estimateur\n",
    "    return val_scores\n",
    "\n",
    "cv_score = cv_estimate(10)\n",
    "train_score = heldout_score(cv_boost, X_trainqn, Yb_train)"
   ]
  },
  {
   "cell_type": "markdown",
   "metadata": {},
   "source": [
    "On a calculé ici et représentons sur le graph ci-dessous **l'évolution de l'erreur d'apprentissage (en noir)** et **l'erreur de validation croisée (en vert)** en fonction du nombre d'estimateur considéré:"
   ]
  },
  {
   "cell_type": "code",
   "execution_count": 104,
   "metadata": {
    "collapsed": false
   },
   "outputs": [
    {
     "name": "stdout",
     "output_type": "stream",
     "text": [
      "5\n"
     ]
    },
    {
     "data": {
      "text/plain": [
       "<matplotlib.lines.Line2D at 0x7f0727a9bb10>"
      ]
     },
     "execution_count": 104,
     "metadata": {},
     "output_type": "execute_result"
    },
    {
     "data": {
      "image/png": "[encoded data removed]",
      "text/plain": [
       "<matplotlib.figure.Figure at 0x7f074c0e6210>"
      ]
     },
     "metadata": {},
     "output_type": "display_data"
    }
   ],
   "source": [
    "best_iter_0 = x[np.argmin(cv_score)]\n",
    "print(best_iter_0)\n",
    "\n",
    "plt.plot(x, cv_score, label='CV loss', color='g')\n",
    "plt.plot(x, train_score, label='CV loss', color='k')\n",
    "plt.axvline(x=best_iter_0, color='b', linestyle='--')"
   ]
  },
  {
   "cell_type": "markdown",
   "metadata": {},
   "source": [
    "Le minimum du score de validation croisée:"
   ]
  },
  {
   "cell_type": "code",
   "execution_count": 105,
   "metadata": {
    "collapsed": false
   },
   "outputs": [
    {
     "data": {
      "text/plain": [
       "0.54771818250393112"
      ]
     },
     "execution_count": 105,
     "metadata": {},
     "output_type": "execute_result"
    }
   ],
   "source": [
    "cv_score[best_iter_0]"
   ]
  },
  {
   "cell_type": "markdown",
   "metadata": {},
   "source": [
    "Avec un \"learning rate\" à 0.1 maintenant:"
   ]
  },
  {
   "cell_type": "code",
   "execution_count": 106,
   "metadata": {
    "collapsed": true
   },
   "outputs": [],
   "source": [
    "from sklearn.model_selection import train_test_split\n",
    "from sklearn.model_selection import KFold\n",
    "\n",
    "#-- On garde les même paramètre initiaux --#\n",
    "params_0 = {'loss': 'exponential', 'n_estimators': 100, 'max_depth': 3, 'learning_rate': 1, 'min_samples_split': 1}\n",
    "params_0 = {'loss': 'exponential', 'n_estimators': 300, 'max_depth': 3, 'learning_rate': 0.1, 'min_samples_leaf': 1, 'min_samples_split': 5} #, 'random_state': 3, , \n",
    "cv_boost = GradientBoostingClassifier(**params_0)\n",
    "cv_boost.fit(X_trainqn, Yb_train)\n",
    "\n",
    "n_estimators = params_0['n_estimators']\n",
    "x = np.arange(n_estimators) + 1\n",
    "\n",
    "#-- Fonction calculant l'erreur de test --#\n",
    "# mod: le modèle considéré, X_test/Y: l'échantillon de test considéré (prédicteur/réponse)\n",
    "def heldout_score(mod, Xtest, Ytest):\n",
    "    score = np.zeros((n_estimators,), dtype=np.float64)\n",
    "    for i, y_pred in enumerate(mod.staged_decision_function(Xtest)): # staged_decision_function: fct dec pour chaque iteration\n",
    "        score[i] = mod.loss_(Ytest, y_pred)\n",
    "    return score # vecteur avec les score correspondants à chaque parametrage (ie nb d'arbre)\n",
    "\n",
    "\n",
    "#-- \"K-Folds\" cross-validation (on prend par défault K=10) --#\n",
    "# On découpes en sous échantillons de test et d'apprentissage par méthode K-fold \n",
    "# qui sont réutilisés avec la fonction au dessus \n",
    "def cv_estimate(n_splits=10):\n",
    "    cv = KFold(n_splits = n_splits)\n",
    "    cv_boost = GradientBoostingClassifier(**params_0)\n",
    "    val_scores = np.zeros((n_estimators,), dtype=np.float64) # stocke les scores par estimateur \n",
    "    # La boucle suivante calcule l'erreur de cv\n",
    "    for train, test in cv.split(X_trainqn, Yb_train): # à chaque iter on sel. l'ech de test et celui d'app. selon K-Fold cv.\n",
    "        cv_boost.fit(X_trainqn.iloc[train], Yb_train[train]) # on ajuste le modèle\n",
    "        val_scores += heldout_score(cv_boost, X_trainqn.iloc[test], Yb_train[test]) # on calcule le score d'erreur cumulé grâce à heldout_score\n",
    "    val_scores /= n_splits # on divise par le nombre de fold de la cv pour avoir la moyenne des erreurs pour chaque estimateur\n",
    "    return val_scores\n",
    "\n",
    "cv_score = cv_estimate(10)\n",
    "train_score = heldout_score(cv_boost, X_trainqn, Yb_train)"
   ]
  },
  {
   "cell_type": "code",
   "execution_count": 107,
   "metadata": {
    "collapsed": false
   },
   "outputs": [
    {
     "data": {
      "text/plain": [
       "[<matplotlib.lines.Line2D at 0x7f0712cd8190>]"
      ]
     },
     "execution_count": 107,
     "metadata": {},
     "output_type": "execute_result"
    },
    {
     "data": {
      "image/png": "[encoded data removed]",
      "text/plain": [
       "<matplotlib.figure.Figure at 0x7f0727b187d0>"
      ]
     },
     "metadata": {},
     "output_type": "display_data"
    }
   ],
   "source": [
    "best_iter_1 = x[np.argmin(cv_score)]\n",
    "\n",
    "plt.axvline(x=best_iter_1, color='b', linestyle='--')\n",
    "plt.plot(x, cv_score, label='CV loss', color='g')\n",
    "plt.plot(x, train_score, label='CV loss', color='k')"
   ]
  },
  {
   "cell_type": "markdown",
   "metadata": {},
   "source": [
    "Le minimum du score obtenu par validation croisée: "
   ]
  },
  {
   "cell_type": "code",
   "execution_count": 108,
   "metadata": {
    "collapsed": false
   },
   "outputs": [
    {
     "data": {
      "text/plain": [
       "0.44938821903266335"
      ]
     },
     "execution_count": 108,
     "metadata": {},
     "output_type": "execute_result"
    }
   ],
   "source": [
    "cv_score[best_iter_1]"
   ]
  },
  {
   "cell_type": "markdown",
   "metadata": {},
   "source": [
    "Et enfin avec un shrinkage de 0.01:"
   ]
  },
  {
   "cell_type": "code",
   "execution_count": 109,
   "metadata": {
    "collapsed": false
   },
   "outputs": [],
   "source": [
    "from sklearn.model_selection import train_test_split\n",
    "from sklearn.model_selection import KFold\n",
    "\n",
    "#-- On garde les même paramètre initiaux --#\n",
    "params_0 = {'loss': 'exponential', 'n_estimators': 100, 'max_depth': 3, 'learning_rate': 1, 'min_samples_split': 1}\n",
    "params_0 = {'loss': 'exponential', 'n_estimators': 1500, 'max_depth': 3, 'learning_rate': 0.01, 'min_samples_leaf': 1, 'min_samples_split': 5} \n",
    "cv_boost = GradientBoostingClassifier(**params_0)\n",
    "cv_boost.fit(X_trainqn, Yb_train)\n",
    "\n",
    "n_estimators = params_0['n_estimators']\n",
    "x = np.arange(n_estimators) + 1\n",
    "\n",
    "#-- Fonction calculant l'erreur de test --#\n",
    "# mod: le modèle considéré, X_test/Y: l'échantillon de test considéré (prédicteur/réponse)\n",
    "def heldout_score(mod, Xtest, Ytest):\n",
    "    score = np.zeros((n_estimators,), dtype=np.float64)\n",
    "    for i, y_pred in enumerate(mod.staged_decision_function(Xtest)): # staged_decision_function: fct dec pour chaque iteration\n",
    "        score[i] = mod.loss_(Ytest, y_pred)\n",
    "    return score # vecteur avec les score correspondants à chaque parametrage (ie nb d'arbre)\n",
    "\n",
    "\n",
    "#-- \"K-Folds\" cross-validation (on prend par défault K=10) --#\n",
    "# On découpes en sous échantillons de test et d'apprentissage par méthode K-fold \n",
    "# qui sont réutilisés avec la fonction au dessus \n",
    "def cv_estimate(n_splits=10):\n",
    "    cv = KFold(n_splits = n_splits)\n",
    "    cv_boost = GradientBoostingClassifier(**params_0)\n",
    "    val_scores = np.zeros((n_estimators,), dtype=np.float64) # stocke les scores par estimateur \n",
    "    # La boucle suivante calcule l'erreur de cv\n",
    "    for train, test in cv.split(X_trainqn, Yb_train): # à chaque iter on sel. l'ech de test et celui d'app. selon K-Fold cv.\n",
    "        cv_boost.fit(X_trainqn.iloc[train], Yb_train[train]) # on ajuste le modèle\n",
    "        val_scores += heldout_score(cv_boost, X_trainqn.iloc[test], Yb_train[test]) # on calcule le score d'erreur cumulé grâce à heldout_score\n",
    "    val_scores /= n_splits # on divise par le nombre de fold de la cv pour avoir la moyenne des erreurs pour chaque estimateur\n",
    "    return val_scores\n",
    "\n",
    "cv_score = cv_estimate(10)\n",
    "train_score = heldout_score(cv_boost, X_trainqn, Yb_train)"
   ]
  },
  {
   "cell_type": "code",
   "execution_count": 110,
   "metadata": {
    "collapsed": false
   },
   "outputs": [
    {
     "data": {
      "text/plain": [
       "[<matplotlib.lines.Line2D at 0x7f0712b3f290>]"
      ]
     },
     "execution_count": 110,
     "metadata": {},
     "output_type": "execute_result"
    },
    {
     "data": {
      "image/png": "[encoded data removed]",
      "text/plain": [
       "<matplotlib.figure.Figure at 0x7f0712d0c690>"
      ]
     },
     "metadata": {},
     "output_type": "display_data"
    }
   ],
   "source": [
    "best_iter_2 = x[np.argmin(cv_score)]\n",
    "plt.axvline(x=best_iter_2, color='b', linestyle='--')\n",
    "\n",
    "plt.plot(x, cv_score, label='CV loss', color='g')\n",
    "plt.plot(x, train_score, label='CV loss', color='k')\n"
   ]
  },
  {
   "cell_type": "markdown",
   "metadata": {},
   "source": [
    "On observe le score par validation croisée pour la meilleur itération:"
   ]
  },
  {
   "cell_type": "code",
   "execution_count": 111,
   "metadata": {
    "collapsed": false
   },
   "outputs": [
    {
     "data": {
      "text/plain": [
       "0.45033602138160778"
      ]
     },
     "execution_count": 111,
     "metadata": {},
     "output_type": "execute_result"
    }
   ],
   "source": [
    "cv_score[best_iter_2]"
   ]
  },
  {
   "cell_type": "markdown",
   "metadata": {},
   "source": [
    "Résumons les scores par validation croisée minimum (vis à vis du nombre d'estimateur) des trois pamamètrage en terme de shrinkage précédents: \n",
    "\n",
    "* **learning rate = 1 (sans shrinkage):** 0.54781073429049654 (5 itérations)\n",
    "* **learning rate = 0.1:** 0.44830326178527863 (57 itérations)\n",
    "* **learning rate = 0.01:** 0.44996687941384705 (544 itérations)\n",
    "\n",
    "On sélectionne a priori le second paramètrage (performances similaire en bien moins d'itération) et on évalue maintenant son **erreur de test**: \n",
    "\n",
    "Pour cela on crée la fonction \"test_score\" pour calculer (puis tracer) l'évolution de l'erreur de test en fonction du nombre d'estimateur: "
   ]
  },
  {
   "cell_type": "code",
   "execution_count": 112,
   "metadata": {
    "collapsed": false
   },
   "outputs": [],
   "source": [
    "def test_score(mod, Xtest, Ytest, Nest):\n",
    "    score = np.zeros((Nest), dtype=np.float64)\n",
    "    for i, y_pred in enumerate(mod.staged_predict(Xtest)): \n",
    "        table = pd.crosstab(Yb_test, y_pred) \n",
    "        if np.in1d(1,y_pred):\n",
    "            score[i] = 1- float(table[0][0] + table[1][1])/float(len(Yb_test))\n",
    "        else:\n",
    "            table = pd.crosstab(Yb_test, y_pred) \n",
    "            score[i] = 1- float(table[0][0])/float(len(Yb_test))\n",
    "    return score "
   ]
  },
  {
   "cell_type": "code",
   "execution_count": 113,
   "metadata": {
    "collapsed": false,
    "scrolled": true
   },
   "outputs": [
    {
     "data": {
      "text/plain": [
       "[<matplotlib.lines.Line2D at 0x7f074c0c1350>]"
      ]
     },
     "execution_count": 113,
     "metadata": {},
     "output_type": "execute_result"
    },
    {
     "data": {
      "image/png": "[encoded data removed]",
      "text/plain": [
       "<matplotlib.figure.Figure at 0x7f0712bbead0>"
      ]
     },
     "metadata": {},
     "output_type": "display_data"
    }
   ],
   "source": [
    "params_Opt = {'loss': 'exponential', 'n_estimators': 300, 'max_depth': 3, 'learning_rate': 0.1, 'min_samples_leaf': 1, 'min_samples_split': 5} \n",
    "cv_boost_Opt = GradientBoostingClassifier(**params_Opt)\n",
    "cv_boost_Opt.fit(X_trainqn, Yb_train)\n",
    "\n",
    "testscore = test_score(cv_boost_Opt, X_testqn, Yb_test, 300)\n",
    "\n",
    "x = np.arange(300)\n",
    "plt.plot(x, testscore, label='CV loss', color='k')"
   ]
  },
  {
   "cell_type": "markdown",
   "metadata": {},
   "source": [
    "On remarque qu'à partir de 50 itérations environ **l'erreur de test se stabilise**."
   ]
  },
  {
   "cell_type": "code",
   "execution_count": 114,
   "metadata": {
    "collapsed": false
   },
   "outputs": [
    {
     "name": "stdout",
     "output_type": "stream",
     "text": [
      "Erreur de test: 0.0850\n"
     ]
    }
   ],
   "source": [
    "cv_boost_opt = GradientBoostingClassifier(**params_Opt)\n",
    "cv_boost_opt.fit(X_trainqn, Y_train)\n",
    "\n",
    "\n",
    "print(\"Erreur de test: {:.4f}\".format(1-cv_boost_opt.score(X_testqn, Y_test)))"
   ]
  },
  {
   "cell_type": "code",
   "execution_count": 115,
   "metadata": {
    "collapsed": false
   },
   "outputs": [
    {
     "data": {
      "text/html": [
       "<div>\n",
       "<table border=\"1\" class=\"dataframe\">\n",
       "  <thead>\n",
       "    <tr style=\"text-align: right;\">\n",
       "      <th>Prédit</th>\n",
       "      <th>Cnon</th>\n",
       "      <th>Coui</th>\n",
       "    </tr>\n",
       "    <tr>\n",
       "      <th>Observés</th>\n",
       "      <th></th>\n",
       "      <th></th>\n",
       "    </tr>\n",
       "  </thead>\n",
       "  <tbody>\n",
       "    <tr>\n",
       "      <th>Cnon</th>\n",
       "      <td>126</td>\n",
       "      <td>6</td>\n",
       "    </tr>\n",
       "    <tr>\n",
       "      <th>Coui</th>\n",
       "      <td>11</td>\n",
       "      <td>57</td>\n",
       "    </tr>\n",
       "  </tbody>\n",
       "</table>\n",
       "</div>"
      ],
      "text/plain": [
       "Prédit   Cnon  Coui\n",
       "Observés            \n",
       "Cnon       126     6\n",
       "Coui        11    57"
      ]
     },
     "execution_count": 115,
     "metadata": {},
     "output_type": "execute_result"
    }
   ],
   "source": [
    "pred = cv_boost_opt.predict(X_testqn)\n",
    "table = pd.crosstab(Y_test, pred, rownames=['Observés'], colnames=['Prédit'])\n",
    "table"
   ]
  },
  {
   "cell_type": "markdown",
   "metadata": {},
   "source": [
    "**Remarque:** Nous avons ici tenté de reproidure la même démarche que sous R (avec les mêmes représentations graphiques), cependant il est plus rapide et facile d'utiliser la cross validation de scikit-learn (comme cela sera fait avec xgboost ci dessous)."
   ]
  },
  {
   "cell_type": "markdown",
   "metadata": {},
   "source": [
    "#### Utilisation du package Xgboost\n",
    "\n",
    "Testons une autre implémentation possible du boosting par descente de gradient avec le package **Xgboost**, utlisé régulièrement dans les concours de prédictions.\n",
    "\n",
    "Nous utiliserons ici l'**implémentation compatible avec scikit-learn** de cet algorithme de manière à l'utiliser de manière similaire (données en entrée, cross-validation...) à ce que nous avons put mettre en place pour les autres méthodes."
   ]
  },
  {
   "cell_type": "code",
   "execution_count": 116,
   "metadata": {
    "collapsed": false
   },
   "outputs": [
    {
     "name": "stderr",
     "output_type": "stream",
     "text": [
      "/home/bleger/Enthought/Canopy_64bit/User/lib/python2.7/site-packages/sklearn/cross_validation.py:44: DeprecationWarning: This module was deprecated in version 0.18 in favor of the model_selection module into which all the refactored classes and functions are moved. Also note that the interface of the new CV iterators are different from that of this module. This module will be removed in 0.20.\n",
      "  \"This module will be removed in 0.20.\", DeprecationWarning)\n"
     ]
    }
   ],
   "source": [
    "import xgboost as xgb\n",
    "#-- Pour pouvoir utiliser la validation croisée comme sous sklearn --#\n",
    "from xgboost.sklearn import XGBClassifier"
   ]
  },
  {
   "cell_type": "markdown",
   "metadata": {},
   "source": [
    "De très nombreux paramètres peuvent être étudiés et optimisés avec cette librairie (différents types de pénalisation sur le shrinkage, profondeur des arbres ...). \n",
    "\n",
    "On propose ici de simplement tenter d'optimiser le nombre d'arbres conjointement au coefficient de shrinkage  (de manière similaire à précédement): "
   ]
  },
  {
   "cell_type": "code",
   "execution_count": 201,
   "metadata": {
    "collapsed": false
   },
   "outputs": [
    {
     "name": "stderr",
     "output_type": "stream",
     "text": [
      "/home/bleger/Enthought/Canopy_64bit/User/lib/python2.7/site-packages/sklearn/model_selection/_search.py:667: DeprecationWarning: The grid_scores_ attribute was deprecated in version 0.18 in favor of the more elaborate cv_results_ attribute. The grid_scores_ attribute will not be available from 0.20\n",
      "  DeprecationWarning)\n"
     ]
    },
    {
     "data": {
      "text/plain": [
       "([mean: 0.77868, std: 0.04085, params: {'n_estimators': 1, 'learning_rate': 1},\n",
       "  mean: 0.88065, std: 0.02407, params: {'n_estimators': 201, 'learning_rate': 1},\n",
       "  mean: 0.87833, std: 0.03009, params: {'n_estimators': 401, 'learning_rate': 1},\n",
       "  mean: 0.87486, std: 0.02799, params: {'n_estimators': 601, 'learning_rate': 1},\n",
       "  mean: 0.86790, std: 0.02322, params: {'n_estimators': 801, 'learning_rate': 1},\n",
       "  mean: 0.87138, std: 0.02451, params: {'n_estimators': 1001, 'learning_rate': 1},\n",
       "  mean: 0.86790, std: 0.02601, params: {'n_estimators': 1201, 'learning_rate': 1},\n",
       "  mean: 0.86327, std: 0.02815, params: {'n_estimators': 1401, 'learning_rate': 1},\n",
       "  mean: 0.86790, std: 0.02648, params: {'n_estimators': 1601, 'learning_rate': 1},\n",
       "  mean: 0.86674, std: 0.02909, params: {'n_estimators': 1801, 'learning_rate': 1},\n",
       "  mean: 0.85747, std: 0.02452, params: {'n_estimators': 2001, 'learning_rate': 1},\n",
       "  mean: 0.85979, std: 0.02860, params: {'n_estimators': 2201, 'learning_rate': 1},\n",
       "  mean: 0.86674, std: 0.02596, params: {'n_estimators': 2401, 'learning_rate': 1},\n",
       "  mean: 0.86674, std: 0.02505, params: {'n_estimators': 2601, 'learning_rate': 1},\n",
       "  mean: 0.86559, std: 0.02498, params: {'n_estimators': 2801, 'learning_rate': 1},\n",
       "  mean: 0.77868, std: 0.04085, params: {'n_estimators': 1, 'learning_rate': 0.1},\n",
       "  mean: 0.90846, std: 0.02266, params: {'n_estimators': 201, 'learning_rate': 0.1},\n",
       "  mean: 0.90498, std: 0.03055, params: {'n_estimators': 401, 'learning_rate': 0.1},\n",
       "  mean: 0.90498, std: 0.03081, params: {'n_estimators': 601, 'learning_rate': 0.1},\n",
       "  mean: 0.90382, std: 0.02479, params: {'n_estimators': 801, 'learning_rate': 0.1},\n",
       "  mean: 0.90382, std: 0.02771, params: {'n_estimators': 1001, 'learning_rate': 0.1},\n",
       "  mean: 0.90267, std: 0.02439, params: {'n_estimators': 1201, 'learning_rate': 0.1},\n",
       "  mean: 0.89803, std: 0.02707, params: {'n_estimators': 1401, 'learning_rate': 0.1},\n",
       "  mean: 0.89571, std: 0.02801, params: {'n_estimators': 1601, 'learning_rate': 0.1},\n",
       "  mean: 0.89224, std: 0.02409, params: {'n_estimators': 1801, 'learning_rate': 0.1},\n",
       "  mean: 0.89108, std: 0.02423, params: {'n_estimators': 2001, 'learning_rate': 0.1},\n",
       "  mean: 0.89224, std: 0.02465, params: {'n_estimators': 2201, 'learning_rate': 0.1},\n",
       "  mean: 0.89224, std: 0.02468, params: {'n_estimators': 2401, 'learning_rate': 0.1},\n",
       "  mean: 0.89224, std: 0.02298, params: {'n_estimators': 2601, 'learning_rate': 0.1},\n",
       "  mean: 0.88528, std: 0.02537, params: {'n_estimators': 2801, 'learning_rate': 0.1},\n",
       "  mean: 0.77868, std: 0.04085, params: {'n_estimators': 1, 'learning_rate': 0.01},\n",
       "  mean: 0.80765, std: 0.02988, params: {'n_estimators': 201, 'learning_rate': 0.01},\n",
       "  mean: 0.84473, std: 0.02347, params: {'n_estimators': 401, 'learning_rate': 0.01},\n",
       "  mean: 0.85863, std: 0.03136, params: {'n_estimators': 601, 'learning_rate': 0.01},\n",
       "  mean: 0.87022, std: 0.02895, params: {'n_estimators': 801, 'learning_rate': 0.01},\n",
       "  mean: 0.88992, std: 0.02744, params: {'n_estimators': 1001, 'learning_rate': 0.01},\n",
       "  mean: 0.89108, std: 0.02937, params: {'n_estimators': 1201, 'learning_rate': 0.01},\n",
       "  mean: 0.89571, std: 0.02742, params: {'n_estimators': 1401, 'learning_rate': 0.01},\n",
       "  mean: 0.90267, std: 0.02590, params: {'n_estimators': 1601, 'learning_rate': 0.01},\n",
       "  mean: 0.90151, std: 0.02433, params: {'n_estimators': 1801, 'learning_rate': 0.01},\n",
       "  mean: 0.90614, std: 0.02705, params: {'n_estimators': 2001, 'learning_rate': 0.01},\n",
       "  mean: 0.90614, std: 0.02640, params: {'n_estimators': 2201, 'learning_rate': 0.01},\n",
       "  mean: 0.91194, std: 0.02517, params: {'n_estimators': 2401, 'learning_rate': 0.01},\n",
       "  mean: 0.91194, std: 0.02350, params: {'n_estimators': 2601, 'learning_rate': 0.01},\n",
       "  mean: 0.91078, std: 0.02546, params: {'n_estimators': 2801, 'learning_rate': 0.01}],\n",
       " {'learning_rate': 0.01, 'n_estimators': 2401},\n",
       " 0.91193511008111239)"
      ]
     },
     "execution_count": 201,
     "metadata": {},
     "output_type": "execute_result"
    }
   ],
   "source": [
    "param=[{\"learning_rate\":[1, 0.1, 0.01,0.001]}]\n",
    "param=[{\"n_estimators\":list(np.arange(1,3000, 400))}]\n",
    "\n",
    "param_test2 = {'learning_rate':[1, 0.1, 0.01],'n_estimators':list(np.arange(1,3000, 400))}\n",
    "\n",
    "xgb1 = GridSearchCV(XGBClassifier(max_depth=1, \n",
    " min_child_weight=6, gamma=0, subsample=0.8, colsample_bytree=0.8,\n",
    " objective= 'binary:logistic', nthread=4, scale_pos_weight=1),param_test2,cv=10,n_jobs=-1)\n",
    "\n",
    "xgb1.fit(X_trainqn, Yb_train)\n",
    "xgb1.grid_scores_, xgb1.best_params_, xgb1.best_score_"
   ]
  },
  {
   "cell_type": "code",
   "execution_count": 202,
   "metadata": {
    "collapsed": false
   },
   "outputs": [
    {
     "data": {
      "text/plain": [
       "{'learning_rate': 0.01, 'n_estimators': 2401}"
      ]
     },
     "execution_count": 202,
     "metadata": {},
     "output_type": "execute_result"
    }
   ],
   "source": [
    "xgb1.best_params_"
   ]
  },
  {
   "cell_type": "markdown",
   "metadata": {},
   "source": [
    "On considère donc ce modèle: "
   ]
  },
  {
   "cell_type": "code",
   "execution_count": 203,
   "metadata": {
    "collapsed": false
   },
   "outputs": [],
   "source": [
    "xgb1 = XGBClassifier(learning_rate =0.1,  max_depth=2, min_child_weight=6, gamma=0, subsample=0.8, \n",
    "                    colsample_bytree=0.8,objective= 'binary:logistic', nthread=4, scale_pos_weight=1, n_estimators= 151)\n",
    "\n",
    "xgb1Fit = xgb1.fit(X_trainqn, Yb_train)"
   ]
  },
  {
   "cell_type": "code",
   "execution_count": 204,
   "metadata": {
    "collapsed": false
   },
   "outputs": [
    {
     "name": "stdout",
     "output_type": "stream",
     "text": [
      "Erreur de test: 0.0750\n"
     ]
    }
   ],
   "source": [
    "print(\"Erreur de test: {:.4f}\".format(1-xgb1Fit.score(X_testqn, Yb_test)))"
   ]
  },
  {
   "cell_type": "code",
   "execution_count": 205,
   "metadata": {
    "collapsed": false
   },
   "outputs": [
    {
     "data": {
      "text/html": [
       "<div>\n",
       "<table border=\"1\" class=\"dataframe\">\n",
       "  <thead>\n",
       "    <tr style=\"text-align: right;\">\n",
       "      <th>Prédit</th>\n",
       "      <th>0</th>\n",
       "      <th>1</th>\n",
       "    </tr>\n",
       "    <tr>\n",
       "      <th>Observés</th>\n",
       "      <th></th>\n",
       "      <th></th>\n",
       "    </tr>\n",
       "  </thead>\n",
       "  <tbody>\n",
       "    <tr>\n",
       "      <th>Cnon</th>\n",
       "      <td>131</td>\n",
       "      <td>4</td>\n",
       "    </tr>\n",
       "    <tr>\n",
       "      <th>Coui</th>\n",
       "      <td>11</td>\n",
       "      <td>54</td>\n",
       "    </tr>\n",
       "  </tbody>\n",
       "</table>\n",
       "</div>"
      ],
      "text/plain": [
       "Prédit     0   1\n",
       "Observés         \n",
       "Cnon      131   4\n",
       "Coui       11  54"
      ]
     },
     "execution_count": 205,
     "metadata": {},
     "output_type": "execute_result"
    }
   ],
   "source": [
    "pred = xgb1Fit.predict(X_testqn)\n",
    "table = pd.crosstab(Y_test, pred, rownames=['Observés'], colnames=['Prédit'])\n",
    "table"
   ]
  },
  {
   "cell_type": "code",
   "execution_count": 141,
   "metadata": {
    "collapsed": true
   },
   "outputs": [],
   "source": [
    "param = {'bst:max_depth':2, 'bst:eta':1, 'silent':1, 'objective':'binary:logistic' }\n",
    "param['nthread'] = 4\n",
    "param['eval_metric'] = 'auc'\n",
    "plst = param.items()"
   ]
  },
  {
   "cell_type": "code",
   "execution_count": 142,
   "metadata": {
    "collapsed": false
   },
   "outputs": [],
   "source": [
    "num_round = 10\n",
    "bst = xgb.train(plst, dtrain, num_round)"
   ]
  },
  {
   "cell_type": "markdown",
   "metadata": {},
   "source": [
    "On peut également regarder l'importance des variables dans la classification d'une manière simialaire aux Random Forests."
   ]
  },
  {
   "cell_type": "code",
   "execution_count": 143,
   "metadata": {
    "collapsed": false
   },
   "outputs": [
    {
     "data": {
      "text/plain": [
       "<matplotlib.axes._subplots.AxesSubplot at 0x7f07119019d0>"
      ]
     },
     "execution_count": 143,
     "metadata": {},
     "output_type": "execute_result"
    },
    {
     "data": {
      "image/png": "[encoded data removed]",
      "text/plain": [
       "<matplotlib.figure.Figure at 0x7f0711a97d90>"
      ]
     },
     "metadata": {},
     "output_type": "display_data"
    }
   ],
   "source": [
    "xgb.plot_importance(xgb1)"
   ]
  },
  {
   "cell_type": "markdown",
   "metadata": {},
   "source": [
    "On remarque notamment que DMVTP (l'age du dernier mouvement) , RELAT (ancienneté de la relation client) et MOYRV (revenu moyen) semblent bien expliquer la discrimination dans les deux classes \"COUI\" et \"CNON\" de CARVP."
   ]
  },
  {
   "cell_type": "markdown",
   "metadata": {},
   "source": [
    "#### Courbes ROC:\n",
    "\n",
    "Traçons enfin les courbes ROC (à partir du modèle obtenu avec GradientBoostingClassifier):"
   ]
  },
  {
   "cell_type": "code",
   "execution_count": 144,
   "metadata": {
    "collapsed": false
   },
   "outputs": [],
   "source": [
    "Y_score5 = cv_boost_opt.decision_function(X_testqn)\n",
    "# note : \"decision_function predict confidence scores for samples.\"\n",
    "\n",
    "fpr5, tpr5, thresholds5 = metrics.roc_curve(Y_true, Y_score5)"
   ]
  },
  {
   "cell_type": "code",
   "execution_count": 145,
   "metadata": {
    "collapsed": false
   },
   "outputs": [
    {
     "data": {
      "image/png": "[encoded data removed]",
      "text/plain": [
       "<matplotlib.figure.Figure at 0x7f071153ed10>"
      ]
     },
     "metadata": {},
     "output_type": "display_data"
    }
   ],
   "source": [
    "plt.figure(figsize=(16, 12))\n",
    "\n",
    "plt.plot(fpr, tpr, color='darkorange', label='Regression logistique')\n",
    "plt.plot(fpr2, tpr2, color='red', label='Analyse discriminante')\n",
    "plt.plot(fpr3, tpr3, color='blue', label='Arbres binaires')\n",
    "plt.plot(fpr4, tpr4, color='green', label='Bagging')\n",
    "plt.plot(fpr5, tpr5, color='pink', label='Boosting')\n",
    "\n",
    "\n",
    "plt.plot([0, 1], [0, 1], color='navy', linestyle='--')\n",
    "plt.xlim([0.0, 1.0])\n",
    "plt.ylim([0.0, 1.05])\n",
    "plt.xlabel('False Positive Rate')\n",
    "plt.ylabel('True Positive Rate')\n",
    "plt.title('Receiver operating characteristic example')\n",
    "plt.legend(loc=\"lower right\")\n",
    "plt.show()"
   ]
  },
  {
   "cell_type": "code",
   "execution_count": null,
   "metadata": {
    "collapsed": false
   },
   "outputs": [],
   "source": [
    "print(roc_auc_score(Y_true, Y_score)) # Regression logistique \n",
    "print(roc_auc_score(Y_true, Y_score2[:,1])) # Analyse discriminante\n",
    "print(roc_auc_score(Y_true, Y_score3)) # Arbres binaires de décision\n",
    "print(roc_auc_score(Y_true, Y_score4)) # Bagging\n",
    "print(roc_auc_score(Y_true, Y_score5)) # Boosting"
   ]
  },
  {
   "cell_type": "markdown",
   "metadata": {},
   "source": [
    "Le boosting semble être pour le moment la meilleur famille de modèle."
   ]
  },
  {
   "cell_type": "markdown",
   "metadata": {},
   "source": [
    "#### Comparaison R vs Python\n",
    "\n",
    "Dans les deux langages nous avons testé différents algorithmes et stratégies.\n",
    "\n",
    "Le package **xgboost est disponible dans les deux langages** et pourrait donc être rajouté ici au scénario R et testé dans ce langage. \n",
    "\n",
    "Nous obtenions des résultats **sensiblement identitiques** du point de vue de l'erreur de prévision sur l'échantillon test avec une vingtaine de mals classés pour ce découpage de l'échantillon initial (voir même plutôt très légérement moins bon avec une petite vingtaine de mals classés), et ce également avec la méthode de \"gradient boosting\" de coefficient de shrinkage 0.1. \n",
    "\n",
    "Notons également que cette méthode nécessite sous scikit-learn un nombre d'iteration moindre pour optimiser l'erreur de validation à un coefficient de shrinkage donné (51 au lieu de 215 environ ici par exemple). "
   ]
  },
  {
   "cell_type": "markdown",
   "metadata": {},
   "source": [
    "### Random Forests\n",
    "\n",
    "La dernière famille d'agrégation de modèles que nous allons étudier est celle des **forêts aléatoires**. \n",
    "\n",
    "On se place ici dans un cadre similaire à celui du bagging. Les randoms forests (qui utilisent comme leur nom l'indique des arbres de décision comme famille d'estimateurs) introduisent une aléarisation dans la construction de arbres utilisés. A l'établissement de chaque noeud on tire en effet aléatoirement $m$ variables parmis les $p$ disponibles.\n",
    "\n"
   ]
  },
  {
   "cell_type": "code",
   "execution_count": 146,
   "metadata": {
    "collapsed": false
   },
   "outputs": [],
   "source": [
    "#-- Importation des librairies --# \n",
    "from sklearn.ensemble import RandomForestClassifier"
   ]
  },
  {
   "cell_type": "markdown",
   "metadata": {},
   "source": [
    "** Estimation: **\n",
    "\n",
    "Estimons tout d'abord notre modèle avec des paramètres fixés: on prend ici dans un premier temps 500 arbres et la valeur par défault (soit $\\sqrt{p}$ où p le nombre de prédicteurs considérés) pour le nombre de variables tirées aléatoirement pour la recherche de la division optimale d'un noeud (paramètre `max_features`).\n",
    "\n",
    "Le premier de ces deux paramètres n'ayant généralement que peu d'influence (notamment car cette méthode est **faiblement exposée au risque de surapprentissage**), on se concentrera en particulier sur l'optimisation de la seconde.\n",
    "\n",
    "On utilise (à l'instar du programme en R) **uniquement les prédicteurs quantitatifs**."
   ]
  },
  {
   "cell_type": "code",
   "execution_count": 147,
   "metadata": {
    "collapsed": true
   },
   "outputs": [],
   "source": [
    "#-- définition des paramètres --#\n",
    "forest = RandomForestClassifier(n_estimators=500, \n",
    "   criterion='gini', max_depth=None,\n",
    "   min_samples_split=2, min_samples_leaf=1, \n",
    "   max_features='auto', max_leaf_nodes=None,\n",
    "   bootstrap=True, oob_score=True)"
   ]
  },
  {
   "cell_type": "markdown",
   "metadata": {},
   "source": [
    "Calculons l'erreur **\"out-of-bag\"**: "
   ]
  },
  {
   "cell_type": "code",
   "execution_count": 148,
   "metadata": {
    "collapsed": false
   },
   "outputs": [
    {
     "name": "stdout",
     "output_type": "stream",
     "text": [
      "Erreur out-of-bag : 0.100811123986\n"
     ]
    }
   ],
   "source": [
    "#-- apprentissage --#\n",
    "forest = forest.fit(X_trainqn,Yb_train)\n",
    "print(\"Erreur out-of-bag : {err}\".format(err=1-forest.oob_score_))"
   ]
  },
  {
   "cell_type": "markdown",
   "metadata": {},
   "source": [
    "On s'intéresse également aux **coefficients d'importance** associés à chaque variable: on a choisi ici la décroisance du Gini (critère d'hétérogéniété)"
   ]
  },
  {
   "cell_type": "code",
   "execution_count": 149,
   "metadata": {
    "collapsed": false
   },
   "outputs": [
    {
     "data": {
      "text/html": [
       "<div>\n",
       "<table border=\"1\" class=\"dataframe\">\n",
       "  <thead>\n",
       "    <tr style=\"text-align: right;\">\n",
       "      <th></th>\n",
       "      <th>MDG</th>\n",
       "      <th>Variables</th>\n",
       "    </tr>\n",
       "  </thead>\n",
       "  <tbody>\n",
       "    <tr>\n",
       "      <th>3</th>\n",
       "      <td>0.131310</td>\n",
       "      <td>MOYRV</td>\n",
       "    </tr>\n",
       "    <tr>\n",
       "      <th>12</th>\n",
       "      <td>0.125711</td>\n",
       "      <td>DMVTP</td>\n",
       "    </tr>\n",
       "    <tr>\n",
       "      <th>11</th>\n",
       "      <td>0.107101</td>\n",
       "      <td>QCRED</td>\n",
       "    </tr>\n",
       "    <tr>\n",
       "      <th>0</th>\n",
       "      <td>0.077152</td>\n",
       "      <td>RELAT</td>\n",
       "    </tr>\n",
       "    <tr>\n",
       "      <th>14</th>\n",
       "      <td>0.064169</td>\n",
       "      <td>FACAN</td>\n",
       "    </tr>\n",
       "    <tr>\n",
       "      <th>10</th>\n",
       "      <td>0.055439</td>\n",
       "      <td>QSMOY</td>\n",
       "    </tr>\n",
       "    <tr>\n",
       "      <th>13</th>\n",
       "      <td>0.045791</td>\n",
       "      <td>BOPPN</td>\n",
       "    </tr>\n",
       "    <tr>\n",
       "      <th>25</th>\n",
       "      <td>0.044276</td>\n",
       "      <td>ITAVC</td>\n",
       "    </tr>\n",
       "    <tr>\n",
       "      <th>6</th>\n",
       "      <td>0.035041</td>\n",
       "      <td>GAGET</td>\n",
       "    </tr>\n",
       "    <tr>\n",
       "      <th>1</th>\n",
       "      <td>0.031438</td>\n",
       "      <td>AGER</td>\n",
       "    </tr>\n",
       "    <tr>\n",
       "      <th>8</th>\n",
       "      <td>0.029187</td>\n",
       "      <td>GAGEM</td>\n",
       "    </tr>\n",
       "    <tr>\n",
       "      <th>7</th>\n",
       "      <td>0.024951</td>\n",
       "      <td>GAGEC</td>\n",
       "    </tr>\n",
       "    <tr>\n",
       "      <th>27</th>\n",
       "      <td>0.024311</td>\n",
       "      <td>sexer</td>\n",
       "    </tr>\n",
       "    <tr>\n",
       "      <th>4</th>\n",
       "      <td>0.023303</td>\n",
       "      <td>TAVEP</td>\n",
       "    </tr>\n",
       "    <tr>\n",
       "      <th>23</th>\n",
       "      <td>0.021720</td>\n",
       "      <td>ZOCNB</td>\n",
       "    </tr>\n",
       "    <tr>\n",
       "      <th>26</th>\n",
       "      <td>0.019883</td>\n",
       "      <td>HAVEF</td>\n",
       "    </tr>\n",
       "    <tr>\n",
       "      <th>22</th>\n",
       "      <td>0.019620</td>\n",
       "      <td>YLVMT</td>\n",
       "    </tr>\n",
       "    <tr>\n",
       "      <th>9</th>\n",
       "      <td>0.019514</td>\n",
       "      <td>KVUNB</td>\n",
       "    </tr>\n",
       "    <tr>\n",
       "      <th>2</th>\n",
       "      <td>0.017722</td>\n",
       "      <td>OPGNB</td>\n",
       "    </tr>\n",
       "    <tr>\n",
       "      <th>20</th>\n",
       "      <td>0.016331</td>\n",
       "      <td>XLGMT</td>\n",
       "    </tr>\n",
       "    <tr>\n",
       "      <th>5</th>\n",
       "      <td>0.013584</td>\n",
       "      <td>ENDET</td>\n",
       "    </tr>\n",
       "    <tr>\n",
       "      <th>18</th>\n",
       "      <td>0.009698</td>\n",
       "      <td>UEMNB</td>\n",
       "    </tr>\n",
       "    <tr>\n",
       "      <th>15</th>\n",
       "      <td>0.008226</td>\n",
       "      <td>LGAGT</td>\n",
       "    </tr>\n",
       "    <tr>\n",
       "      <th>17</th>\n",
       "      <td>0.007649</td>\n",
       "      <td>VIEMT</td>\n",
       "    </tr>\n",
       "    <tr>\n",
       "      <th>21</th>\n",
       "      <td>0.007025</td>\n",
       "      <td>YLVNB</td>\n",
       "    </tr>\n",
       "    <tr>\n",
       "      <th>19</th>\n",
       "      <td>0.006462</td>\n",
       "      <td>XLGNB</td>\n",
       "    </tr>\n",
       "    <tr>\n",
       "      <th>28</th>\n",
       "      <td>0.006088</td>\n",
       "      <td>familr</td>\n",
       "    </tr>\n",
       "    <tr>\n",
       "      <th>24</th>\n",
       "      <td>0.003743</td>\n",
       "      <td>NPTAG</td>\n",
       "    </tr>\n",
       "    <tr>\n",
       "      <th>16</th>\n",
       "      <td>0.003553</td>\n",
       "      <td>VIENB</td>\n",
       "    </tr>\n",
       "  </tbody>\n",
       "</table>\n",
       "</div>"
      ],
      "text/plain": [
       "         MDG Variables\n",
       "3   0.131310     MOYRV\n",
       "12  0.125711     DMVTP\n",
       "11  0.107101     QCRED\n",
       "0   0.077152     RELAT\n",
       "14  0.064169     FACAN\n",
       "10  0.055439     QSMOY\n",
       "13  0.045791     BOPPN\n",
       "25  0.044276     ITAVC\n",
       "6   0.035041     GAGET\n",
       "1   0.031438      AGER\n",
       "8   0.029187     GAGEM\n",
       "7   0.024951     GAGEC\n",
       "27  0.024311     sexer\n",
       "4   0.023303     TAVEP\n",
       "23  0.021720     ZOCNB\n",
       "26  0.019883     HAVEF\n",
       "22  0.019620     YLVMT\n",
       "9   0.019514     KVUNB\n",
       "2   0.017722     OPGNB\n",
       "20  0.016331     XLGMT\n",
       "5   0.013584     ENDET\n",
       "18  0.009698     UEMNB\n",
       "15  0.008226     LGAGT\n",
       "17  0.007649     VIEMT\n",
       "21  0.007025     YLVNB\n",
       "19  0.006462     XLGNB\n",
       "28  0.006088    familr\n",
       "24  0.003743     NPTAG\n",
       "16  0.003553     VIENB"
      ]
     },
     "execution_count": 149,
     "metadata": {},
     "output_type": "execute_result"
    }
   ],
   "source": [
    "MDG = forest.feature_importances_\n",
    "Variables = X_trainqn.columns.values\n",
    "d = {'MDG': MDG,'Variables': Variables }\n",
    "df = pd.DataFrame(data=d)\n",
    "df.sort_values('MDG', ascending  = False)\n",
    "#sorted(MDG, reverse=True)"
   ]
  },
  {
   "cell_type": "markdown",
   "metadata": {},
   "source": [
    "On remarque qu'au sens de ce critère `MOYRV`, `QCRED` ou encore `DMVTP` sont parmis les variables les plus influente dans la classification, comme on avait pu le constater avec le boosting.\n",
    "\n",
    "\n",
    "** Optimisation: **\n",
    "\n",
    "On cherche maintenant à optimiser nos deux principaux paramètres de complexité:\n",
    "\n",
    "* le nombre d'arbres (`n_estimators`)\n",
    "* le nombre de variables tirées à chaque noeud (`max_features`)"
   ]
  },
  {
   "cell_type": "code",
   "execution_count": 150,
   "metadata": {
    "collapsed": false
   },
   "outputs": [
    {
     "name": "stdout",
     "output_type": "stream",
     "text": [
      "Meilleur nombre d'arbre obtenu par validation croisée: {'n_estimators': 301}\n"
     ]
    }
   ],
   "source": [
    "#-- Recherche du \"n_estimators\" optimal par validation croisée --#\n",
    "param=[{\"n_estimators\":list(range(1,500,50))}]\n",
    "forest_2 = GridSearchCV(RandomForestClassifier(),param,cv=5,n_jobs=-1)\n",
    "forest_2_opt = forest_2.fit(X_trainqn, Yb_train)\n",
    "\n",
    "best_n_est = forest_2_opt.best_params_\n",
    "print(\"Meilleur nombre d'arbre obtenu par validation croisée: {n}\".format(n=best_n_est))"
   ]
  },
  {
   "cell_type": "markdown",
   "metadata": {},
   "source": [
    "Cependant ce paramètre n'est, comme nous l'avons vu, pas le plus important à minimiser et n'a pas beaucoup d'influence. \n",
    "\n",
    "On optimise donc maintenant le `max_features`."
   ]
  },
  {
   "cell_type": "code",
   "execution_count": 151,
   "metadata": {
    "collapsed": false
   },
   "outputs": [
    {
     "name": "stdout",
     "output_type": "stream",
     "text": [
      "Meilleur nombre de variables utilisée à chaque noeud obtenu par validation croisée: {'max_features': 25}\n"
     ]
    }
   ],
   "source": [
    "#-- Recherche du \"max_features\" optimal par validation croisée --#\n",
    "param=[{\"max_features\":list(range(1,28,2))}]\n",
    "forest_3 = GridSearchCV(RandomForestClassifier(n_estimators=100),param,cv=5,n_jobs=-1)\n",
    "forest_3_opt = forest_3.fit(X_trainqn, Yb_train)\n",
    "\n",
    "best_max_feat = forest_3_opt.best_params_\n",
    "print(\"Meilleur nombre de variables utilisée à chaque noeud obtenu par validation croisée: {n}\".format(n=best_max_feat))"
   ]
  },
  {
   "cell_type": "markdown",
   "metadata": {},
   "source": [
    "On calcule l'erreur out-of-bag de ce modèle optimisé pour le paramètre `max_features`:"
   ]
  },
  {
   "cell_type": "code",
   "execution_count": 152,
   "metadata": {
    "collapsed": false
   },
   "outputs": [
    {
     "name": "stdout",
     "output_type": "stream",
     "text": [
      "Erreur out-of-bag : 0.0938586326767\n"
     ]
    }
   ],
   "source": [
    "forest_opt = RandomForestClassifier(n_estimators=100,criterion='gini', max_depth=None,min_samples_split=2, \n",
    "                min_samples_leaf=1, max_features=17,max_leaf_nodes=None,bootstrap=True, oob_score=True)\n",
    "\n",
    "#-- Erreur out-of-bag --#\n",
    "forest_opt_fit =forest_opt.fit(X_trainqn,Yb_train)\n",
    " \n",
    "print(\"Erreur out-of-bag : {err}\".format(err=1-forest_opt_fit.oob_score_))"
   ]
  },
  {
   "cell_type": "markdown",
   "metadata": {},
   "source": [
    "Nous remarquons que cette optimisation n'a pas une influence énorme mais conservons cependant ce paramètrage.\n",
    "\n",
    "** Erreur de test: **\n",
    "\n",
    "Calculons l'**erreur de prévision sur le test** pour ce modèle: "
   ]
  },
  {
   "cell_type": "code",
   "execution_count": 153,
   "metadata": {
    "collapsed": false
   },
   "outputs": [
    {
     "data": {
      "text/plain": [
       "0.07999999999999996"
      ]
     },
     "execution_count": 153,
     "metadata": {},
     "output_type": "execute_result"
    }
   ],
   "source": [
    "RF = RandomForestClassifier(n_estimators=500,criterion='gini', max_depth=None,min_samples_split=2, \n",
    "                min_samples_leaf=1, max_features=17,max_leaf_nodes=None,bootstrap=True, oob_score=True)\n",
    "RF_Fit = RF.fit(X_trainqn,Yb_train)\n",
    "\n",
    "#-- Erreur de test --#\n",
    "1-RF_Fit.score(X_testqn,Yb_test)\n",
    "\n"
   ]
  },
  {
   "cell_type": "code",
   "execution_count": 154,
   "metadata": {
    "collapsed": false
   },
   "outputs": [
    {
     "data": {
      "text/html": [
       "<div>\n",
       "<table border=\"1\" class=\"dataframe\">\n",
       "  <thead>\n",
       "    <tr style=\"text-align: right;\">\n",
       "      <th>Prédit</th>\n",
       "      <th>0</th>\n",
       "      <th>1</th>\n",
       "    </tr>\n",
       "    <tr>\n",
       "      <th>Observés</th>\n",
       "      <th></th>\n",
       "      <th></th>\n",
       "    </tr>\n",
       "  </thead>\n",
       "  <tbody>\n",
       "    <tr>\n",
       "      <th>0</th>\n",
       "      <td>126</td>\n",
       "      <td>6</td>\n",
       "    </tr>\n",
       "    <tr>\n",
       "      <th>1</th>\n",
       "      <td>10</td>\n",
       "      <td>58</td>\n",
       "    </tr>\n",
       "  </tbody>\n",
       "</table>\n",
       "</div>"
      ],
      "text/plain": [
       "Prédit     0   1\n",
       "Observés         \n",
       "0         126   6\n",
       "1          10  58"
      ]
     },
     "execution_count": 154,
     "metadata": {},
     "output_type": "execute_result"
    }
   ],
   "source": [
    "pred = RF_Fit.predict(X_testqn)\n",
    "pd.crosstab(Yb_test, pred, rownames=['Observés'], colnames=['Prédit']) "
   ]
  },
  {
   "cell_type": "markdown",
   "metadata": {},
   "source": [
    "** Courbes ROC:**"
   ]
  },
  {
   "cell_type": "code",
   "execution_count": 155,
   "metadata": {
    "collapsed": false
   },
   "outputs": [],
   "source": [
    "Y_score6 = RF.predict_proba(X_testqn)[:, 1]\n",
    "# note : \"decision_function predict confidence scores for samples.\"\n",
    "\n",
    "fpr6, tpr6, thresholds6 = metrics.roc_curve(Y_true, Y_score6)"
   ]
  },
  {
   "cell_type": "code",
   "execution_count": 156,
   "metadata": {
    "collapsed": false
   },
   "outputs": [
    {
     "data": {
      "image/png": "[encoded data removed]",
      "text/plain": [
       "<matplotlib.figure.Figure at 0x7f0711439e10>"
      ]
     },
     "metadata": {},
     "output_type": "display_data"
    }
   ],
   "source": [
    "plt.figure(figsize=(16, 12))\n",
    "\n",
    "plt.plot(fpr, tpr, color='darkorange', label='Regression logistique')\n",
    "plt.plot(fpr2, tpr2, color='red', label='Analyse discriminante')\n",
    "plt.plot(fpr3, tpr3, color='blue', label='Arbres binaires')\n",
    "plt.plot(fpr4, tpr4, color='green', label='Bagging')\n",
    "plt.plot(fpr5, tpr5, color='pink', label='Boosting')\n",
    "plt.plot(fpr6, tpr6, color='grey', linestyle='--', label='Random Forests')\n",
    "\n",
    "\n",
    "plt.plot([0, 1], [0, 1], color='navy', linestyle='--')\n",
    "plt.xlim([0.0, 1.0])\n",
    "plt.ylim([0.0, 1.05])\n",
    "plt.xlabel('False Positive Rate')\n",
    "plt.ylabel('True Positive Rate')\n",
    "plt.title('Receiver operating characteristic example')\n",
    "plt.legend(loc=\"lower right\")\n",
    "plt.show()"
   ]
  },
  {
   "cell_type": "code",
   "execution_count": 157,
   "metadata": {
    "collapsed": false
   },
   "outputs": [
    {
     "name": "stdout",
     "output_type": "stream",
     "text": [
      "AUC Regression Logistique: 0.9231\n",
      "AUC Analyse discriminante: 0.9251\n",
      "AUC Arbres binaires de décision: 0.8528\n",
      "Bagging: 0.9489\n",
      "Boosting: 0.9596\n",
      "Random_Forests: 0.9520\n"
     ]
    }
   ],
   "source": [
    "print(\"AUC Regression Logistique: {:.4f}\".format(roc_auc_score(Y_true, Y_score)))\n",
    "print(\"AUC Analyse discriminante: {:.4f}\".format(roc_auc_score(Y_true, Y_score2[:,1])))\n",
    "print(\"AUC Arbres binaires de décision: {:.4f}\".format(roc_auc_score(Y_true, Y_score3)))\n",
    "print(\"Bagging: {:.4f}\".format(roc_auc_score(Y_true, Y_score4)))\n",
    "print(\"Boosting: {:.4f}\".format(roc_auc_score(Y_true, Y_score5)))\n",
    "print(\"Random_Forests: {:.4f}\".format(roc_auc_score(Y_true, Y_score6)))  "
   ]
  },
  {
   "cell_type": "markdown",
   "metadata": {},
   "source": [
    "Les trois méthodes d'aggregation de modèle semblent plus performantes que les méthodes précédement étudiées."
   ]
  },
  {
   "cell_type": "markdown",
   "metadata": {},
   "source": [
    "#### Comparaison R vs Python:\n",
    "\n",
    "Nous obervons finalement assez peu de différences d'utilisation des Random Forest entre R et Python.\n",
    "\n",
    "Les résultats semblent à priori légerement moins bon sur R, mais, encore une fois, nous conclurons sur cet aspect de performances lors de comparaisons des modèles sur plusieurs découpages des échantillons de test et d'apprentissage."
   ]
  },
  {
   "cell_type": "markdown",
   "metadata": {},
   "source": [
    "## Marchines à vecteurs supports \n",
    "\n",
    "La dernière famille de modèles que nous étudions sont les **\"SVM\"** (Séparateur à vaste marge / Support vector machine).\n",
    "\n",
    "Nous optimiserons pour ce modèles le **coût de mauvais classement** (nommé ici **C**) et, dans le cadre du noyaux gaussien, le paramètre **\"gamma\"** de la gaussienne.\n",
    "\n",
    "Nous testerons en tout trois types de **noyaux**. \n",
    "\n",
    "Les **variables quantitatives** seront ici utilisées."
   ]
  },
  {
   "cell_type": "markdown",
   "metadata": {},
   "source": [
    "### Options par défault "
   ]
  },
  {
   "cell_type": "code",
   "execution_count": 158,
   "metadata": {
    "collapsed": false
   },
   "outputs": [],
   "source": [
    "from sklearn.svm import SVC"
   ]
  },
  {
   "cell_type": "markdown",
   "metadata": {},
   "source": [
    "On a besoin de données centrées et réduites pour cette méthode."
   ]
  },
  {
   "cell_type": "code",
   "execution_count": 159,
   "metadata": {
    "collapsed": true
   },
   "outputs": [],
   "source": [
    "from sklearn import preprocessing\n",
    "X_trainqn_CR = preprocessing.scale(X_trainqn)\n",
    "X_testqn_CR = preprocessing.scale(X_testqn)"
   ]
  },
  {
   "cell_type": "code",
   "execution_count": 160,
   "metadata": {
    "collapsed": false
   },
   "outputs": [],
   "source": [
    "# Verification que le param par défault correspondent à ceux de R faite\n",
    "svm_0 = SVC(C=1.0, gamma = 'auto', kernel='rbf', probability= False, shrinking = True, tol=0.001, coef0=0, degree=3)\n",
    "svm_0Fit = svm_0.fit(X_trainqn_CR, Yb_train)"
   ]
  },
  {
   "cell_type": "code",
   "execution_count": 161,
   "metadata": {
    "collapsed": false
   },
   "outputs": [
    {
     "name": "stdout",
     "output_type": "stream",
     "text": [
      "[250 239]\n"
     ]
    }
   ],
   "source": [
    "#-- Nombre de support vecteur --#\n",
    "print(svm_0Fit.n_support_)"
   ]
  },
  {
   "cell_type": "code",
   "execution_count": 162,
   "metadata": {
    "collapsed": false
   },
   "outputs": [
    {
     "name": "stdout",
     "output_type": "stream",
     "text": [
      "0.14\n"
     ]
    },
    {
     "data": {
      "text/html": [
       "<div>\n",
       "<table border=\"1\" class=\"dataframe\">\n",
       "  <thead>\n",
       "    <tr style=\"text-align: right;\">\n",
       "      <th>Prédit</th>\n",
       "      <th>0</th>\n",
       "      <th>1</th>\n",
       "    </tr>\n",
       "    <tr>\n",
       "      <th>Observés</th>\n",
       "      <th></th>\n",
       "      <th></th>\n",
       "    </tr>\n",
       "  </thead>\n",
       "  <tbody>\n",
       "    <tr>\n",
       "      <th>0</th>\n",
       "      <td>120</td>\n",
       "      <td>12</td>\n",
       "    </tr>\n",
       "    <tr>\n",
       "      <th>1</th>\n",
       "      <td>16</td>\n",
       "      <td>52</td>\n",
       "    </tr>\n",
       "  </tbody>\n",
       "</table>\n",
       "</div>"
      ],
      "text/plain": [
       "Prédit     0   1\n",
       "Observés         \n",
       "0         120  12\n",
       "1          16  52"
      ]
     },
     "execution_count": 162,
     "metadata": {},
     "output_type": "execute_result"
    }
   ],
   "source": [
    "print(1-svm_0Fit.score(X_testqn_CR,Yb_test))\n",
    "pred = svm_0Fit.predict(X_testqn_CR)\n",
    "table = pd.crosstab(Yb_test, pred, rownames=['Observés'], colnames=['Prédit'])\n",
    "table"
   ]
  },
  {
   "cell_type": "markdown",
   "metadata": {},
   "source": [
    "### Choix de Gamma et C par CV:\n",
    "\n",
    "Cherchons maitenant à optimiser les deux paramètres \"C\" et \"gamma\".\n",
    "\n",
    "Nous allons ici, de la même manière que sous R, optimiser les deux paramètres simultanément:"
   ]
  },
  {
   "cell_type": "code",
   "execution_count": 163,
   "metadata": {
    "collapsed": false
   },
   "outputs": [],
   "source": [
    "#-- Definition \"à taton\" d'une grille pour la cross-validation --#\n",
    "gr = np.concatenate(([0.001, 0.005, 0.007], np.arange(0.01,0.23, 0.01)), axis=0)"
   ]
  },
  {
   "cell_type": "code",
   "execution_count": 164,
   "metadata": {
    "collapsed": false
   },
   "outputs": [
    {
     "name": "stdout",
     "output_type": "stream",
     "text": [
      "The best parameters are {'C': 8.0, 'gamma': 0.0050000000000000001} with a score of 0.80\n"
     ]
    }
   ],
   "source": [
    "from sklearn.model_selection import GridSearchCV\n",
    "C_range = 2.**np.arange(-2,5)  # valeur dans le code R: 2.**np.arange(-2,5)\n",
    "gamma_range = gr    # valeur dans le code R: 2.**np.arange(-8,-4)orangered\n",
    "param_grid = dict(gamma=gamma_range, C=C_range)\n",
    "grid = GridSearchCV(SVC(), param_grid=param_grid)\n",
    "gridFit = grid.fit(X_trainqn_CR, Yb_train)\n",
    "print(\"The best parameters are %s with a score of %0.2f\"\n",
    "      % (grid.best_params_, grid.best_score_))"
   ]
  },
  {
   "cell_type": "markdown",
   "metadata": {},
   "source": [
    "Nous pouvons utiliser la représentation graphique ci-dessous pour afiner notre grille au fur-et-à mesure.\n",
    "En effet, la cellule précédente (cross validation sur la grille) étant longue à executer nous avons favorisé une approche \"pas-à-pas\" de la manière que dans le script R.  "
   ]
  },
  {
   "cell_type": "code",
   "execution_count": 165,
   "metadata": {
    "collapsed": false
   },
   "outputs": [],
   "source": [
    "scores = gridFit.cv_results_['mean_test_score'].reshape(len(C_range), len(gamma_range))"
   ]
  },
  {
   "cell_type": "code",
   "execution_count": 166,
   "metadata": {
    "collapsed": false
   },
   "outputs": [
    {
     "data": {
      "image/png": "[encoded data removed]",
      "text/plain": [
       "<matplotlib.figure.Figure at 0x7f07112293d0>"
      ]
     },
     "metadata": {},
     "output_type": "display_data"
    }
   ],
   "source": [
    "from matplotlib.colors import Normalize\n",
    "\n",
    "class MidpointNormalize(Normalize):\n",
    "    def __init__(self, vmin=None, vmax=None, midpoint=None, clip=False):\n",
    "        self.midpoint = midpoint\n",
    "        Normalize.__init__(self, vmin, vmax, clip)\n",
    "\n",
    "    def __call__(self, value, clip=None):\n",
    "        x, y = [self.vmin, self.midpoint, self.vmax], [0, 0.5, 1]\n",
    "        return np.ma.masked_array(np.interp(value, x, y))\n",
    "\n",
    "plt.figure(figsize=(16, 12))\n",
    "plt.subplots_adjust(left=.2, right=0.95, bottom=0.15, top=0.95)\n",
    "plt.imshow(scores, interpolation='nearest', cmap=plt.cm.hot,\n",
    "           norm=MidpointNormalize(vmin=0.4, midpoint=0.7))\n",
    "plt.xlabel('gamma')\n",
    "plt.ylabel('C')\n",
    "plt.colorbar()\n",
    "plt.xticks(np.arange(len(gamma_range)), gamma_range, rotation=45)\n",
    "plt.yticks(np.arange(len(C_range)), C_range)\n",
    "plt.title('Validation accuracy')\n",
    "plt.show()"
   ]
  },
  {
   "cell_type": "code",
   "execution_count": 167,
   "metadata": {
    "collapsed": false
   },
   "outputs": [],
   "source": [
    "C_opt = grid.best_params_['C']\n",
    "gamma_opt = grid.best_params_['gamma']"
   ]
  },
  {
   "cell_type": "code",
   "execution_count": 168,
   "metadata": {
    "collapsed": false
   },
   "outputs": [
    {
     "data": {
      "text/plain": [
       "0.14000000000000001"
      ]
     },
     "execution_count": 168,
     "metadata": {},
     "output_type": "execute_result"
    }
   ],
   "source": [
    "svm_opt = SVC(C=C_opt, cache_size=200, class_weight=None, gamma=gamma_opt, kernel='rbf', verbose=False)\n",
    "svm_optFit = svm_opt.fit(X_trainqn_CR, Yb_train)\n",
    "\n",
    "#-- Erreur de test --#\n",
    "1-svm_optFit.score(X_testqn_CR,Yb_test)"
   ]
  },
  {
   "cell_type": "code",
   "execution_count": 169,
   "metadata": {
    "collapsed": false
   },
   "outputs": [
    {
     "data": {
      "text/html": [
       "<div>\n",
       "<table border=\"1\" class=\"dataframe\">\n",
       "  <thead>\n",
       "    <tr style=\"text-align: right;\">\n",
       "      <th>Prédit</th>\n",
       "      <th>0</th>\n",
       "      <th>1</th>\n",
       "    </tr>\n",
       "    <tr>\n",
       "      <th>Observés</th>\n",
       "      <th></th>\n",
       "      <th></th>\n",
       "    </tr>\n",
       "  </thead>\n",
       "  <tbody>\n",
       "    <tr>\n",
       "      <th>0</th>\n",
       "      <td>120</td>\n",
       "      <td>12</td>\n",
       "    </tr>\n",
       "    <tr>\n",
       "      <th>1</th>\n",
       "      <td>16</td>\n",
       "      <td>52</td>\n",
       "    </tr>\n",
       "  </tbody>\n",
       "</table>\n",
       "</div>"
      ],
      "text/plain": [
       "Prédit     0   1\n",
       "Observés         \n",
       "0         120  12\n",
       "1          16  52"
      ]
     },
     "execution_count": 169,
     "metadata": {},
     "output_type": "execute_result"
    }
   ],
   "source": [
    "#-- Matrice de confusion --#\n",
    "pred = svm_opt.predict(X_testqn_CR)\n",
    "table=pd.crosstab(Yb_test, pred, rownames=['Observés'], colnames=['Prédit'] )\n",
    "table"
   ]
  },
  {
   "cell_type": "markdown",
   "metadata": {},
   "source": [
    "### Test avec d'autres noyaux \n",
    "\n",
    "On teste desormais avec d'autres types de noyaux.\n",
    "\n",
    "Les paramètres sont **grossièrement optimisés**  (on n'étudiera ici que le paramètre `C` . Une optimisation (non réalisée dans le code référence sur R) plus \"fine\" seraient une piste de développement de cette étude.\n",
    "\n",
    "* **Noyaux polynomial** "
   ]
  },
  {
   "cell_type": "code",
   "execution_count": 170,
   "metadata": {
    "collapsed": false
   },
   "outputs": [
    {
     "name": "stdout",
     "output_type": "stream",
     "text": [
      "The best parameters are {'C': 8.0, 'gamma': 0.0050000000000000001} with a score of 0.80\n"
     ]
    }
   ],
   "source": [
    "C_range = 2.**np.arange(-2,5)\n",
    "param=[{\"C\":list(2.**np.arange(-2,5))}]\n",
    "svm_poly = GridSearchCV(SVC(kernel='poly'), param_grid=param)\n",
    "svm_polyFit = svm_poly.fit(X_trainqn_CR, Yb_train)\n",
    "print(\"The best parameters are %s with a score of %0.2f\"\n",
    "      % (grid.best_params_, grid.best_score_))"
   ]
  },
  {
   "cell_type": "code",
   "execution_count": 171,
   "metadata": {
    "collapsed": false
   },
   "outputs": [
    {
     "data": {
      "text/plain": [
       "0.22499999999999998"
      ]
     },
     "execution_count": 171,
     "metadata": {},
     "output_type": "execute_result"
    }
   ],
   "source": [
    "#-- Erreur de test --#\n",
    "1-svm_polyFit.score(X_testqn_CR,Yb_test)"
   ]
  },
  {
   "cell_type": "code",
   "execution_count": 172,
   "metadata": {
    "collapsed": false
   },
   "outputs": [
    {
     "data": {
      "text/html": [
       "<div>\n",
       "<table border=\"1\" class=\"dataframe\">\n",
       "  <thead>\n",
       "    <tr style=\"text-align: right;\">\n",
       "      <th>Prédit</th>\n",
       "      <th>0</th>\n",
       "      <th>1</th>\n",
       "    </tr>\n",
       "    <tr>\n",
       "      <th>Observés</th>\n",
       "      <th></th>\n",
       "      <th></th>\n",
       "    </tr>\n",
       "  </thead>\n",
       "  <tbody>\n",
       "    <tr>\n",
       "      <th>0</th>\n",
       "      <td>117</td>\n",
       "      <td>15</td>\n",
       "    </tr>\n",
       "    <tr>\n",
       "      <th>1</th>\n",
       "      <td>30</td>\n",
       "      <td>38</td>\n",
       "    </tr>\n",
       "  </tbody>\n",
       "</table>\n",
       "</div>"
      ],
      "text/plain": [
       "Prédit     0   1\n",
       "Observés         \n",
       "0         117  15\n",
       "1          30  38"
      ]
     },
     "execution_count": 172,
     "metadata": {},
     "output_type": "execute_result"
    }
   ],
   "source": [
    "#-- Matrice de confusion --#\n",
    "pred = svm_poly.predict(X_testqn_CR)\n",
    "table=pd.crosstab(Yb_test, pred , rownames=['Observés'], colnames=['Prédit'])\n",
    "table"
   ]
  },
  {
   "cell_type": "markdown",
   "metadata": {},
   "source": [
    "* **Noyaux Sigmoïdal**"
   ]
  },
  {
   "cell_type": "code",
   "execution_count": 173,
   "metadata": {
    "collapsed": false
   },
   "outputs": [
    {
     "name": "stdout",
     "output_type": "stream",
     "text": [
      "The best parameters are {'C': 8.0, 'gamma': 0.0050000000000000001} with a score of 0.80\n"
     ]
    }
   ],
   "source": [
    "C_range = 2.**np.arange(-2,5)\n",
    "param=[{\"C\":list(2.**np.arange(-2,5))}]\n",
    "svm_sigmo = GridSearchCV(SVC(kernel='sigmoid'), param_grid=param)\n",
    "svm_sigmoFit = svm_sigmo.fit(X_trainqn_CR, Yb_train)\n",
    "print(\"The best parameters are %s with a score of %0.2f\"\n",
    "      % (grid.best_params_, grid.best_score_))"
   ]
  },
  {
   "cell_type": "code",
   "execution_count": 174,
   "metadata": {
    "collapsed": false
   },
   "outputs": [
    {
     "data": {
      "text/plain": [
       "0.20999999999999996"
      ]
     },
     "execution_count": 174,
     "metadata": {},
     "output_type": "execute_result"
    }
   ],
   "source": [
    "#-- Erreur de test --#\n",
    "1-svm_sigmoFit.score(X_testqn_CR,Yb_test)"
   ]
  },
  {
   "cell_type": "code",
   "execution_count": 175,
   "metadata": {
    "collapsed": false
   },
   "outputs": [
    {
     "data": {
      "text/html": [
       "<div>\n",
       "<table border=\"1\" class=\"dataframe\">\n",
       "  <thead>\n",
       "    <tr style=\"text-align: right;\">\n",
       "      <th>Prédit</th>\n",
       "      <th>0</th>\n",
       "      <th>1</th>\n",
       "    </tr>\n",
       "    <tr>\n",
       "      <th>Observés</th>\n",
       "      <th></th>\n",
       "      <th></th>\n",
       "    </tr>\n",
       "  </thead>\n",
       "  <tbody>\n",
       "    <tr>\n",
       "      <th>0</th>\n",
       "      <td>119</td>\n",
       "      <td>13</td>\n",
       "    </tr>\n",
       "    <tr>\n",
       "      <th>1</th>\n",
       "      <td>29</td>\n",
       "      <td>39</td>\n",
       "    </tr>\n",
       "  </tbody>\n",
       "</table>\n",
       "</div>"
      ],
      "text/plain": [
       "Prédit     0   1\n",
       "Observés         \n",
       "0         119  13\n",
       "1          29  39"
      ]
     },
     "execution_count": 175,
     "metadata": {},
     "output_type": "execute_result"
    },
    {
     "data": {
      "text/plain": [
       "<matplotlib.figure.Figure at 0x7f07110aee10>"
      ]
     },
     "metadata": {},
     "output_type": "display_data"
    }
   ],
   "source": [
    "# Les SVM présentant des erreurs atypiques sont laissés de côté.\n",
    "plt.figure()\n",
    "#-- Matrice de confusion --#\n",
    "pred = svm_sigmo.predict(X_testqn_CR)\n",
    "table=pd.crosstab(Yb_test, pred ,rownames=['Observés'], colnames=['Prédit'])\n",
    "table"
   ]
  },
  {
   "cell_type": "markdown",
   "metadata": {},
   "source": [
    "Ces résultats sont bien entendu donnés ici à titre indicatif."
   ]
  },
  {
   "cell_type": "markdown",
   "metadata": {},
   "source": [
    "### Courbes ROC "
   ]
  },
  {
   "cell_type": "code",
   "execution_count": 176,
   "metadata": {
    "collapsed": false
   },
   "outputs": [],
   "source": [
    "Y_score7 = svm_optFit.decision_function(X_testqn_CR)\n",
    "# note : \"decision_function predict confidence scores for samples.\"\n",
    "\n",
    "fpr7, tpr7, thresholds7 = metrics.roc_curve(Y_true, Y_score7)"
   ]
  },
  {
   "cell_type": "code",
   "execution_count": 177,
   "metadata": {
    "collapsed": false
   },
   "outputs": [
    {
     "data": {
      "image/png": "[encoded data removed]",
      "text/plain": [
       "<matplotlib.figure.Figure at 0x7f071112c9d0>"
      ]
     },
     "metadata": {},
     "output_type": "display_data"
    }
   ],
   "source": [
    "plt.figure(figsize=(16, 12))\n",
    "\n",
    "plt.plot(fpr, tpr, color='darkorange', label='Regression logistique')\n",
    "plt.plot(fpr2, tpr2, color='red', label='Analyse discriminante')\n",
    "plt.plot(fpr3, tpr3, color='blue', label='Arbres binaires')\n",
    "plt.plot(fpr4, tpr4, color='green', label='Bagging')\n",
    "plt.plot(fpr5, tpr5, color='pink', label='Boosting')\n",
    "plt.plot(fpr6, tpr6, color='grey', linestyle='--', label='Random Forests')\n",
    "plt.plot(fpr7, tpr7, color='yellow', label='SVM')\n",
    "\n",
    "plt.plot([0, 1], [0, 1], color='navy', linestyle='--')\n",
    "plt.xlim([0.0, 1.0])\n",
    "plt.ylim([0.0, 1.05])\n",
    "plt.xlabel('False Positive Rate')\n",
    "plt.ylabel('True Positive Rate')\n",
    "plt.title('Receiver operating characteristic example')\n",
    "plt.legend(loc=\"lower right\")\n",
    "\n",
    "\n",
    "plt.show()"
   ]
  },
  {
   "cell_type": "code",
   "execution_count": 178,
   "metadata": {
    "collapsed": false
   },
   "outputs": [
    {
     "name": "stdout",
     "output_type": "stream",
     "text": [
      "AUC Regression Logistique: 0.9231\n",
      "AUC Analyse discriminante: 0.9251\n",
      "AUC Arbres binaires de décision: 0.8528\n",
      "Bagging: 0.9489\n",
      "Boosting: 0.9596\n",
      "Random_Forests: 0.9520\n",
      "SVM: 0.9357\n"
     ]
    }
   ],
   "source": [
    "print(\"AUC Regression Logistique: {:.4f}\".format(roc_auc_score(Y_true, Y_score))) # Regression logistique \n",
    "print(\"AUC Analyse discriminante: {:.4f}\".format(roc_auc_score(Y_true, Y_score2[:,1]))) # Analyse discriminante\n",
    "print(\"AUC Arbres binaires de décision: {:.4f}\".format(roc_auc_score(Y_true, Y_score3))) # Arbres binaires de décision\n",
    "print(\"Bagging: {:.4f}\".format(roc_auc_score(Y_true, Y_score4))) # Bagging\n",
    "print(\"Boosting: {:.4f}\".format(roc_auc_score(Y_true, Y_score5))) # Boosting\n",
    "print(\"Random_Forests: {:.4f}\".format(roc_auc_score(Y_true, Y_score6))) # Random_Forests\n",
    "print(\"SVM: {:.4f}\".format(roc_auc_score(Y_true, Y_score7))) # SVM"
   ]
  },
  {
   "cell_type": "markdown",
   "metadata": {},
   "source": [
    "#### Comparaisons R vs Python\n",
    "\n",
    "Rien de notable à signaler pour les SVM en terme de fonctionalité si ce n'est la possibilité d'avoir des représentation graphiques par courbe de niveau sous R pour l'optimisation de deux paramètres simultanément. Nous avons ici tenté de reproduire un outil similaire. "
   ]
  },
  {
   "cell_type": "markdown",
   "metadata": {},
   "source": [
    "## Comparaison des méthodes \n",
    "\n",
    "Nous avons desormais étudié l'ensemble des méthodes que nous souhaitions considérer. \n",
    "\n",
    "Nous avons déjà à disposition des outils de comparaisons de chaque famille de modèle (de leurs \"champions\" respectifs) grâce:\n",
    "\n",
    "* aux **erreurs de prévision sur les échantillons test** \n",
    "* aux **courbes ROC et au aires AUC associées**\n",
    "\n",
    "Cependant, afin d'avoir des critères de comparaisons plus \"robustes\", l'idée est de réaliser plusieurs découpages différents des échantillons d'apprentissage et de test afin de réestimer et regler la complexité de nos modèles puis de calculer les erreurs de prévision sur l'échantillon test.\n",
    "\n"
   ]
  },
  {
   "cell_type": "raw",
   "metadata": {},
   "source": [
    "### Code préalable, passer à la lecture"
   ]
  },
  {
   "cell_type": "code",
   "execution_count": 179,
   "metadata": {
    "collapsed": true
   },
   "outputs": [],
   "source": [
    "x = np.arange(n_estimators) + 1\n",
    "cv_score = cv_estimate(10)\n",
    "best_iter_2 = x[np.argmin(cv_score)]"
   ]
  },
  {
   "cell_type": "code",
   "execution_count": 180,
   "metadata": {
    "collapsed": true
   },
   "outputs": [],
   "source": [
    "params_0 = {'loss': 'exponential', 'n_estimators': 300, 'max_depth': 3, 'learning_rate': 0.1, 'min_samples_leaf': 1, 'min_samples_split': 5} #, 'random_state': 3, , \n",
    "cv_boost = GradientBoostingClassifier(**params_0)"
   ]
  },
  {
   "cell_type": "code",
   "execution_count": 181,
   "metadata": {
    "collapsed": true
   },
   "outputs": [],
   "source": [
    "n_estimators = params_0['n_estimators']\n",
    "x = np.arange(n_estimators) + 1\n",
    "\n",
    "#-- Fonction calculant l'erreur de test --#\n",
    "# mod: le modèle considéré, X_test/Y: l'échantillon de test considéré (prédicteur/réponse)\n",
    "def heldout_score(mod, Xtest, Ytest):\n",
    "    score = np.zeros((n_estimators,), dtype=np.float64)\n",
    "    for i, y_pred in enumerate(mod.staged_decision_function(Xtest)): # staged_decision_function: fct dec pour chaque iteration\n",
    "        score[i] = mod.loss_(Ytest, y_pred)\n",
    "    return score # vecteur avec les score correspondants à chaque parametrage (ie nb d'arbre)\n",
    "\n",
    "\n",
    "#-- \"K-Folds\" cross-validation (on prend par défault K=10) --#\n",
    "# On découpes en sous échantillons de test et d'apprentissage par méthode K-fold \n",
    "# qui sont réutilisés avec la fonction au dessus \n",
    "def cv_estimate(n_splits=10):\n",
    "    cv = KFold(n_splits = n_splits)\n",
    "    cv_boost = GradientBoostingClassifier(**params_0)\n",
    "    val_scores = np.zeros((n_estimators,), dtype=np.float64) # stocke les scores par estimateur \n",
    "    # La boucle suivante calcule l'erreur de cv\n",
    "    for train, test in cv.split(X_trainqn, Yb_train): # à chaque iter on sel. l'ech de test et celui d'app. selon K-Fold cv.\n",
    "        cv_boost.fit(X_trainqn.iloc[train], Yb_train[train]) # on ajuste le modèle\n",
    "        val_scores += heldout_score(cv_boost, X_trainqn.iloc[test], Yb_train[test]) # on calcule le score d'erreur cumulé grâce à heldout_score\n",
    "    val_scores /= n_splits # on divise par le nombre de fold de la cv pour avoir la moyenne des erreurs pour chaque estimateur\n",
    "    return val_scores"
   ]
  },
  {
   "cell_type": "markdown",
   "metadata": {},
   "source": [
    "### Réalisation de la \"boucle\"\n",
    "\n",
    "On compare en utilisants principalement les \"champions\" de chaques familles de modèles. Afin de conserver des temps d'execution raisonables nous simplifions égalements certaines procédures d'optimisation de paramètre de complexité des paramètres.\n",
    "\n",
    "Nous considérons donc ici:\n",
    "\n",
    "| Modèle   |      Parametre     |      Grille     |   Prédicteurs    |\n",
    "|----------|:-------------:|------------:|------------:|\n",
    "| **Régression logistique** par pénalisation Lasso |  pénalisation L1 | (0.5,1,5,10,12,15,30) | quantitatifs| \n",
    "| **Analyse Discriminante ** (cadre \"Normal\") linéaire|  - | - | quantitatifs| \n",
    "| **Arbres de décision ** |  profondeur maximale | de 2 à 20 | quantitatifs| \n",
    "| **Bagging ** |  - | - | quantitatifs| \n",
    "| **Boosting ** version adaptative boosting \"standard\" |  profondeur maximale | de 3 à 20 | quantitatifs| \n",
    "| **Gradient boosing ** (shrinkage de 0.1) |  nombre d'estimateurs/iterations | de 1 à 300 | quantitatifs| \n",
    "| **Gradient boosing ** avec XGboost |  nombre d'estimateurs et shrinkage | resp. (0.1, 0.01, 0.001) et de 1 à 3000 | quantitatifs| \n",
    "| **Random forests**  |  profondeur maximale | de 3 à 20 | quantitatifs| \n",
    "| **SVMs** à noyaux gaussien  |  Paramètre gamma, coût de mauvais classement |  (0.4,0.5,0.6,0.8,1,1.4) pour C | quantitatifs centrés reduits| \n",
    "\n",
    "On porte ici une attention particulière au boosting (trois types d'implementation) notamment car cette méthode fut l'une des plus \"performantes\" jusqu'à présent."
   ]
  },
  {
   "cell_type": "code",
   "execution_count": 210,
   "metadata": {
    "collapsed": false
   },
   "outputs": [
    {
     "name": "stdout",
     "output_type": "stream",
     "text": [
      "('Temps execution en mn :', 5.084060783333333)\n"
     ]
    }
   ],
   "source": [
    "from sklearn.utils import check_random_state\n",
    "import time\n",
    "check_random_state(157)\n",
    "tps0=time.clock()\n",
    "#-- Nombre d'itérations --#\n",
    "B=30\n",
    "\n",
    "# grille pour la SVM\n",
    "gr = np.concatenate(([0.001, 0.005, 0.007], np.arange(0.01,0.23, 0.01)), axis=0)\n",
    "param_test2 = {'learning_rate':[1, 0.1, 0.01],'n_estimators':list(np.arange(1,3000, 400))}\n",
    "\n",
    "\n",
    "\n",
    "#-- définition des grilles de paramètres --# \n",
    "# simplifié pour le moment \n",
    "listMethGrid=[[logit,{\"C\":[0.5,1,5,10,12,15,30]}], # pén. lasso (cv sur la péna.)\n",
    "              [AD_lin,{\"C\":[1]}], # pas d'opti., version linéaire\n",
    "              [Arbre_quant,{\"max_depth\":list(range(1,20))}], # sur la prof. max avec pred. quant.\n",
    "              [vpBagQn,{\"C\":[1]}], # Bagging avec pred. quant. (pas d'opti.)\n",
    "              [vpAdBoost,{\"C\":[1]}], # Adaboost (20 est., 3 de prof. et pas d'opti.# Les SVM présentant des erreurs atypiques sont laissés de côté.\n",
    "              [cv_boost,{\"C\":[1]}], \n",
    "              [xgb1,param_test2], \n",
    "              [RF, {\"max_features\":list(range(1,15,2))}],\n",
    "              [svm_opt,{\"C\":[0.4,0.5,0.6,0.8,1,1.4], \"gamma\": gr}]    \n",
    "             ]\n",
    "            \n",
    "# Initialisation à 0 des erreurs pour chaque méthode (colonne) et chaque itération (ligne)\n",
    "arrayErreur=np.empty((B,9))\n",
    "for i in range(B):   \n",
    "    #-- Extraction apprentissage et test totaux --#\n",
    "    X_train_tot,X_test_tot,Y_train,Y_test=train_test_split(X,Y,test_size=200)\n",
    "    #-- Extraction du premier jeu de données composé des var. qualitatives --#\n",
    "    X_train_1 = X_train_tot[varqual]\n",
    "    X_test_1 = X_test_tot[varqual]\n",
    "    #-- obtention des indicatrices associées à chacunes des modalités --#\n",
    "    X_train = pd.get_dummies(X_train_1)\n",
    "    X_test = pd.get_dummies(X_test_1)\n",
    "    \n",
    "    \n",
    "    #-- Extraction du premier jeu de données composé des var. quantitatives --#\n",
    "    #-- Recodage pour éch. d'app. --#\n",
    "    sexer = le.fit_transform(X_train_tot.SEXEQ) \n",
    "    familr = le.fit_transform(X_train_tot.FAMIQ)\n",
    "    #-- Recodage pour éch. de test. --#\n",
    "    sexer_t = le.fit_transform(X_test_tot.SEXEQ) \n",
    "    familr_t = le.fit_transform(X_test_tot.FAMIQ)\n",
    "    #-On extrait le jeu de données qui nous interesse --#\n",
    "    X_trainqn=X_train_tot[varquant]\n",
    "    X_testqn=X_test_tot[varquant]\n",
    "    #-- On rajoute les deux variables sexer et familr --#\n",
    "    X_trainqn[\"sexer\"] = sexer\n",
    "    X_trainqn[\"familr\"] = familr\n",
    "    X_testqn[\"sexer\"] = sexer_t\n",
    "    X_testqn[\"familr\"] = familr_t\n",
    "    \n",
    "    #-- Pour les SVM --#\n",
    "    X_trainqn_CR = preprocessing.scale(X_trainqn)\n",
    "    X_testqn_CR = preprocessing.scale(X_testqn)\n",
    "        \n",
    "    Yb_train = le.fit_transform(Y_train)\n",
    "    Yb_test = le.fit_transform(Y_test)\n",
    "\n",
    "    #-- optimisation de chaque méthode et calcul de l'erreur sur le test: on distingues certaines méthodes --#\n",
    "    for j,(method, grid_list) in enumerate(listMethGrid):\n",
    "            \n",
    "        if (method == svm_opt): # les SVM utilisent les données re-normalisées\n",
    "            methodGrid=GridSearchCV(method,grid_list,cv=10,n_jobs=-1).fit(X_trainqn_CR, Yb_train)\n",
    "            methodOpt = methodGrid.best_estimator_\n",
    "            methFit=methodOpt.fit(X_trainqn_CR, Yb_train)\n",
    "            arrayErreur[i,j]=1-methFit.score(X_testqn_CR,Yb_test)\n",
    "            \n",
    "        elif (method == AD_lin or method == vpBagQn or method == vpAdBoost): # méthodes ou aucune optimisation n'as été faite\n",
    "            methFit = method.fit(X_trainqn, Yb_train)   \n",
    "            arrayErreur[i,j]=1-methFit.score(X_testqn,Yb_test)\n",
    "            \n",
    "        elif (method == cv_boost): # le gradient boosting \n",
    "            n_estimators = 300\n",
    "            x = np.arange(n_estimators) + 1\n",
    "            cv_score = cv_estimate(10)\n",
    "            best_iter = x[np.argmin(cv_score)] # le meilleur nombre d'itération\n",
    "            params_0 = {'loss': 'exponential', 'n_estimators': best_iter, 'max_depth': 3, 'learning_rate': 0.1, 'min_samples_leaf': 1, 'min_samples_split': 5} #, 'random_state': 3, , \n",
    "            cv_boostOpt = GradientBoostingClassifier(**params_0)\n",
    "            methFit=cv_boostOpt.fit(X_trainqn, Yb_train)\n",
    "            arrayErreur[i,j]=1-methFit.score(X_testqn,Yb_test)\n",
    "\n",
    "            \n",
    "        else:   # le reste des méthodes        \n",
    "            methodGrid=GridSearchCV(method,grid_list,cv=10,n_jobs=-1).fit(X_trainqn, Yb_train)\n",
    "            methodOpt = methodGrid.best_estimator_    \n",
    "\n",
    "            methFit=methodOpt.fit(X_trainqn, Yb_train)\n",
    "            arrayErreur[i,j]=1-methFit.score(X_testqn,Yb_test)            \n",
    "\n",
    "\n",
    "tps1=time.clock()\n",
    "print(\"Temps execution en mn :\",(tps1 - tps0)/60)\n",
    "dataframeErreur=pd.DataFrame(arrayErreur,columns=[\"Logit\", \"AD_lin\", \"ABD\", \"vp_bagQn\", \"vpAdBoost\", \"cv_boost\", \"xgboost\", \"RF\", \"SVM\"])    "
   ]
  },
  {
   "cell_type": "markdown",
   "metadata": {},
   "source": [
    "On obtiens les resultats suivants après 1h05 d'execution:"
   ]
  },
  {
   "cell_type": "code",
   "execution_count": 212,
   "metadata": {
    "collapsed": false
   },
   "outputs": [
    {
     "data": {
      "text/html": [
       "<div>\n",
       "<table border=\"1\" class=\"dataframe\">\n",
       "  <thead>\n",
       "    <tr style=\"text-align: right;\">\n",
       "      <th></th>\n",
       "      <th>Logit</th>\n",
       "      <th>AD_lin</th>\n",
       "      <th>ABD</th>\n",
       "      <th>vp_bagQn</th>\n",
       "      <th>vpAdBoost</th>\n",
       "      <th>cv_boost</th>\n",
       "      <th>xgboost</th>\n",
       "      <th>RF</th>\n",
       "      <th>SVM</th>\n",
       "    </tr>\n",
       "  </thead>\n",
       "  <tbody>\n",
       "    <tr>\n",
       "      <th>0</th>\n",
       "      <td>0.170</td>\n",
       "      <td>0.195</td>\n",
       "      <td>0.105</td>\n",
       "      <td>0.090</td>\n",
       "      <td>0.150</td>\n",
       "      <td>0.095</td>\n",
       "      <td>0.090</td>\n",
       "      <td>0.080</td>\n",
       "      <td>0.145</td>\n",
       "    </tr>\n",
       "    <tr>\n",
       "      <th>1</th>\n",
       "      <td>0.175</td>\n",
       "      <td>0.150</td>\n",
       "      <td>0.085</td>\n",
       "      <td>0.070</td>\n",
       "      <td>0.130</td>\n",
       "      <td>0.065</td>\n",
       "      <td>0.050</td>\n",
       "      <td>0.060</td>\n",
       "      <td>0.160</td>\n",
       "    </tr>\n",
       "    <tr>\n",
       "      <th>2</th>\n",
       "      <td>0.175</td>\n",
       "      <td>0.155</td>\n",
       "      <td>0.110</td>\n",
       "      <td>0.095</td>\n",
       "      <td>0.125</td>\n",
       "      <td>0.080</td>\n",
       "      <td>0.080</td>\n",
       "      <td>0.090</td>\n",
       "      <td>0.160</td>\n",
       "    </tr>\n",
       "    <tr>\n",
       "      <th>3</th>\n",
       "      <td>0.140</td>\n",
       "      <td>0.130</td>\n",
       "      <td>0.125</td>\n",
       "      <td>0.085</td>\n",
       "      <td>0.120</td>\n",
       "      <td>0.070</td>\n",
       "      <td>0.070</td>\n",
       "      <td>0.060</td>\n",
       "      <td>0.135</td>\n",
       "    </tr>\n",
       "    <tr>\n",
       "      <th>4</th>\n",
       "      <td>0.170</td>\n",
       "      <td>0.165</td>\n",
       "      <td>0.130</td>\n",
       "      <td>0.070</td>\n",
       "      <td>0.090</td>\n",
       "      <td>0.070</td>\n",
       "      <td>0.060</td>\n",
       "      <td>0.095</td>\n",
       "      <td>0.190</td>\n",
       "    </tr>\n",
       "    <tr>\n",
       "      <th>5</th>\n",
       "      <td>0.205</td>\n",
       "      <td>0.190</td>\n",
       "      <td>0.160</td>\n",
       "      <td>0.145</td>\n",
       "      <td>0.135</td>\n",
       "      <td>0.120</td>\n",
       "      <td>0.125</td>\n",
       "      <td>0.135</td>\n",
       "      <td>0.175</td>\n",
       "    </tr>\n",
       "    <tr>\n",
       "      <th>6</th>\n",
       "      <td>0.220</td>\n",
       "      <td>0.215</td>\n",
       "      <td>0.130</td>\n",
       "      <td>0.140</td>\n",
       "      <td>0.145</td>\n",
       "      <td>0.105</td>\n",
       "      <td>0.090</td>\n",
       "      <td>0.105</td>\n",
       "      <td>0.205</td>\n",
       "    </tr>\n",
       "    <tr>\n",
       "      <th>7</th>\n",
       "      <td>0.200</td>\n",
       "      <td>0.205</td>\n",
       "      <td>0.140</td>\n",
       "      <td>0.090</td>\n",
       "      <td>0.170</td>\n",
       "      <td>0.090</td>\n",
       "      <td>0.075</td>\n",
       "      <td>0.125</td>\n",
       "      <td>0.200</td>\n",
       "    </tr>\n",
       "    <tr>\n",
       "      <th>8</th>\n",
       "      <td>0.220</td>\n",
       "      <td>0.215</td>\n",
       "      <td>0.150</td>\n",
       "      <td>0.090</td>\n",
       "      <td>0.155</td>\n",
       "      <td>0.095</td>\n",
       "      <td>0.090</td>\n",
       "      <td>0.085</td>\n",
       "      <td>0.205</td>\n",
       "    </tr>\n",
       "    <tr>\n",
       "      <th>9</th>\n",
       "      <td>0.175</td>\n",
       "      <td>0.165</td>\n",
       "      <td>0.140</td>\n",
       "      <td>0.105</td>\n",
       "      <td>0.130</td>\n",
       "      <td>0.095</td>\n",
       "      <td>0.095</td>\n",
       "      <td>0.115</td>\n",
       "      <td>0.165</td>\n",
       "    </tr>\n",
       "    <tr>\n",
       "      <th>10</th>\n",
       "      <td>0.170</td>\n",
       "      <td>0.175</td>\n",
       "      <td>0.160</td>\n",
       "      <td>0.125</td>\n",
       "      <td>0.155</td>\n",
       "      <td>0.105</td>\n",
       "      <td>0.100</td>\n",
       "      <td>0.125</td>\n",
       "      <td>0.205</td>\n",
       "    </tr>\n",
       "    <tr>\n",
       "      <th>11</th>\n",
       "      <td>0.190</td>\n",
       "      <td>0.175</td>\n",
       "      <td>0.110</td>\n",
       "      <td>0.095</td>\n",
       "      <td>0.140</td>\n",
       "      <td>0.095</td>\n",
       "      <td>0.080</td>\n",
       "      <td>0.085</td>\n",
       "      <td>0.190</td>\n",
       "    </tr>\n",
       "    <tr>\n",
       "      <th>12</th>\n",
       "      <td>0.220</td>\n",
       "      <td>0.215</td>\n",
       "      <td>0.140</td>\n",
       "      <td>0.095</td>\n",
       "      <td>0.125</td>\n",
       "      <td>0.090</td>\n",
       "      <td>0.080</td>\n",
       "      <td>0.125</td>\n",
       "      <td>0.235</td>\n",
       "    </tr>\n",
       "    <tr>\n",
       "      <th>13</th>\n",
       "      <td>0.220</td>\n",
       "      <td>0.235</td>\n",
       "      <td>0.165</td>\n",
       "      <td>0.105</td>\n",
       "      <td>0.190</td>\n",
       "      <td>0.095</td>\n",
       "      <td>0.075</td>\n",
       "      <td>0.105</td>\n",
       "      <td>0.210</td>\n",
       "    </tr>\n",
       "    <tr>\n",
       "      <th>14</th>\n",
       "      <td>0.220</td>\n",
       "      <td>0.200</td>\n",
       "      <td>0.155</td>\n",
       "      <td>0.090</td>\n",
       "      <td>0.120</td>\n",
       "      <td>0.090</td>\n",
       "      <td>0.080</td>\n",
       "      <td>0.105</td>\n",
       "      <td>0.195</td>\n",
       "    </tr>\n",
       "    <tr>\n",
       "      <th>15</th>\n",
       "      <td>0.210</td>\n",
       "      <td>0.205</td>\n",
       "      <td>0.125</td>\n",
       "      <td>0.115</td>\n",
       "      <td>0.100</td>\n",
       "      <td>0.070</td>\n",
       "      <td>0.075</td>\n",
       "      <td>0.115</td>\n",
       "      <td>0.185</td>\n",
       "    </tr>\n",
       "    <tr>\n",
       "      <th>16</th>\n",
       "      <td>0.190</td>\n",
       "      <td>0.200</td>\n",
       "      <td>0.105</td>\n",
       "      <td>0.090</td>\n",
       "      <td>0.105</td>\n",
       "      <td>0.085</td>\n",
       "      <td>0.090</td>\n",
       "      <td>0.100</td>\n",
       "      <td>0.195</td>\n",
       "    </tr>\n",
       "    <tr>\n",
       "      <th>17</th>\n",
       "      <td>0.180</td>\n",
       "      <td>0.195</td>\n",
       "      <td>0.090</td>\n",
       "      <td>0.065</td>\n",
       "      <td>0.135</td>\n",
       "      <td>0.080</td>\n",
       "      <td>0.070</td>\n",
       "      <td>0.090</td>\n",
       "      <td>0.185</td>\n",
       "    </tr>\n",
       "    <tr>\n",
       "      <th>18</th>\n",
       "      <td>0.200</td>\n",
       "      <td>0.190</td>\n",
       "      <td>0.115</td>\n",
       "      <td>0.130</td>\n",
       "      <td>0.145</td>\n",
       "      <td>0.095</td>\n",
       "      <td>0.105</td>\n",
       "      <td>0.115</td>\n",
       "      <td>0.225</td>\n",
       "    </tr>\n",
       "    <tr>\n",
       "      <th>19</th>\n",
       "      <td>0.135</td>\n",
       "      <td>0.120</td>\n",
       "      <td>0.115</td>\n",
       "      <td>0.095</td>\n",
       "      <td>0.095</td>\n",
       "      <td>0.070</td>\n",
       "      <td>0.075</td>\n",
       "      <td>0.100</td>\n",
       "      <td>0.145</td>\n",
       "    </tr>\n",
       "    <tr>\n",
       "      <th>20</th>\n",
       "      <td>0.165</td>\n",
       "      <td>0.160</td>\n",
       "      <td>0.130</td>\n",
       "      <td>0.110</td>\n",
       "      <td>0.130</td>\n",
       "      <td>0.090</td>\n",
       "      <td>0.085</td>\n",
       "      <td>0.085</td>\n",
       "      <td>0.150</td>\n",
       "    </tr>\n",
       "    <tr>\n",
       "      <th>21</th>\n",
       "      <td>0.205</td>\n",
       "      <td>0.205</td>\n",
       "      <td>0.105</td>\n",
       "      <td>0.090</td>\n",
       "      <td>0.140</td>\n",
       "      <td>0.100</td>\n",
       "      <td>0.080</td>\n",
       "      <td>0.130</td>\n",
       "      <td>0.205</td>\n",
       "    </tr>\n",
       "    <tr>\n",
       "      <th>22</th>\n",
       "      <td>0.175</td>\n",
       "      <td>0.160</td>\n",
       "      <td>0.130</td>\n",
       "      <td>0.095</td>\n",
       "      <td>0.105</td>\n",
       "      <td>0.090</td>\n",
       "      <td>0.080</td>\n",
       "      <td>0.115</td>\n",
       "      <td>0.185</td>\n",
       "    </tr>\n",
       "    <tr>\n",
       "      <th>23</th>\n",
       "      <td>0.140</td>\n",
       "      <td>0.145</td>\n",
       "      <td>0.105</td>\n",
       "      <td>0.085</td>\n",
       "      <td>0.085</td>\n",
       "      <td>0.060</td>\n",
       "      <td>0.050</td>\n",
       "      <td>0.060</td>\n",
       "      <td>0.130</td>\n",
       "    </tr>\n",
       "    <tr>\n",
       "      <th>24</th>\n",
       "      <td>0.250</td>\n",
       "      <td>0.250</td>\n",
       "      <td>0.110</td>\n",
       "      <td>0.105</td>\n",
       "      <td>0.130</td>\n",
       "      <td>0.085</td>\n",
       "      <td>0.105</td>\n",
       "      <td>0.105</td>\n",
       "      <td>0.215</td>\n",
       "    </tr>\n",
       "    <tr>\n",
       "      <th>25</th>\n",
       "      <td>0.210</td>\n",
       "      <td>0.205</td>\n",
       "      <td>0.150</td>\n",
       "      <td>0.100</td>\n",
       "      <td>0.130</td>\n",
       "      <td>0.060</td>\n",
       "      <td>0.095</td>\n",
       "      <td>0.120</td>\n",
       "      <td>0.215</td>\n",
       "    </tr>\n",
       "    <tr>\n",
       "      <th>26</th>\n",
       "      <td>0.185</td>\n",
       "      <td>0.185</td>\n",
       "      <td>0.115</td>\n",
       "      <td>0.070</td>\n",
       "      <td>0.130</td>\n",
       "      <td>0.080</td>\n",
       "      <td>0.070</td>\n",
       "      <td>0.070</td>\n",
       "      <td>0.170</td>\n",
       "    </tr>\n",
       "    <tr>\n",
       "      <th>27</th>\n",
       "      <td>0.190</td>\n",
       "      <td>0.190</td>\n",
       "      <td>0.120</td>\n",
       "      <td>0.125</td>\n",
       "      <td>0.145</td>\n",
       "      <td>0.100</td>\n",
       "      <td>0.095</td>\n",
       "      <td>0.095</td>\n",
       "      <td>0.185</td>\n",
       "    </tr>\n",
       "    <tr>\n",
       "      <th>28</th>\n",
       "      <td>0.135</td>\n",
       "      <td>0.145</td>\n",
       "      <td>0.095</td>\n",
       "      <td>0.085</td>\n",
       "      <td>0.125</td>\n",
       "      <td>0.080</td>\n",
       "      <td>0.070</td>\n",
       "      <td>0.090</td>\n",
       "      <td>0.120</td>\n",
       "    </tr>\n",
       "    <tr>\n",
       "      <th>29</th>\n",
       "      <td>0.180</td>\n",
       "      <td>0.185</td>\n",
       "      <td>0.165</td>\n",
       "      <td>0.105</td>\n",
       "      <td>0.135</td>\n",
       "      <td>0.085</td>\n",
       "      <td>0.085</td>\n",
       "      <td>0.095</td>\n",
       "      <td>0.195</td>\n",
       "    </tr>\n",
       "  </tbody>\n",
       "</table>\n",
       "</div>"
      ],
      "text/plain": [
       "    Logit  AD_lin    ABD  vp_bagQn  vpAdBoost  cv_boost  xgboost     RF    SVM\n",
       "0   0.170   0.195  0.105     0.090      0.150     0.095    0.090  0.080  0.145\n",
       "1   0.175   0.150  0.085     0.070      0.130     0.065    0.050  0.060  0.160\n",
       "2   0.175   0.155  0.110     0.095      0.125     0.080    0.080  0.090  0.160\n",
       "3   0.140   0.130  0.125     0.085      0.120     0.070    0.070  0.060  0.135\n",
       "4   0.170   0.165  0.130     0.070      0.090     0.070    0.060  0.095  0.190\n",
       "5   0.205   0.190  0.160     0.145      0.135     0.120    0.125  0.135  0.175\n",
       "6   0.220   0.215  0.130     0.140      0.145     0.105    0.090  0.105  0.205\n",
       "7   0.200   0.205  0.140     0.090      0.170     0.090    0.075  0.125  0.200\n",
       "8   0.220   0.215  0.150     0.090      0.155     0.095    0.090  0.085  0.205\n",
       "9   0.175   0.165  0.140     0.105      0.130     0.095    0.095  0.115  0.165\n",
       "10  0.170   0.175  0.160     0.125      0.155     0.105    0.100  0.125  0.205\n",
       "11  0.190   0.175  0.110     0.095      0.140     0.095    0.080  0.085  0.190\n",
       "12  0.220   0.215  0.140     0.095      0.125     0.090    0.080  0.125  0.235\n",
       "13  0.220   0.235  0.165     0.105      0.190     0.095    0.075  0.105  0.210\n",
       "14  0.220   0.200  0.155     0.090      0.120     0.090    0.080  0.105  0.195\n",
       "15  0.210   0.205  0.125     0.115      0.100     0.070    0.075  0.115  0.185\n",
       "16  0.190   0.200  0.105     0.090      0.105     0.085    0.090  0.100  0.195\n",
       "17  0.180   0.195  0.090     0.065      0.135     0.080    0.070  0.090  0.185\n",
       "18  0.200   0.190  0.115     0.130      0.145     0.095    0.105  0.115  0.225\n",
       "19  0.135   0.120  0.115     0.095      0.095     0.070    0.075  0.100  0.145\n",
       "20  0.165   0.160  0.130     0.110      0.130     0.090    0.085  0.085  0.150\n",
       "21  0.205   0.205  0.105     0.090      0.140     0.100    0.080  0.130  0.205\n",
       "22  0.175   0.160  0.130     0.095      0.105     0.090    0.080  0.115  0.185\n",
       "23  0.140   0.145  0.105     0.085      0.085     0.060    0.050  0.060  0.130\n",
       "24  0.250   0.250  0.110     0.105      0.130     0.085    0.105  0.105  0.215\n",
       "25  0.210   0.205  0.150     0.100      0.130     0.060    0.095  0.120  0.215\n",
       "26  0.185   0.185  0.115     0.070      0.130     0.080    0.070  0.070  0.170\n",
       "27  0.190   0.190  0.120     0.125      0.145     0.100    0.095  0.095  0.185\n",
       "28  0.135   0.145  0.095     0.085      0.125     0.080    0.070  0.090  0.120\n",
       "29  0.180   0.185  0.165     0.105      0.135     0.085    0.085  0.095  0.195"
      ]
     },
     "execution_count": 212,
     "metadata": {},
     "output_type": "execute_result"
    }
   ],
   "source": [
    "dataframeErreur"
   ]
  },
  {
   "cell_type": "markdown",
   "metadata": {},
   "source": [
    "On observa la distribution des erreurs en traçants les boxplots associés aux erreurs de chaque méthode:"
   ]
  },
  {
   "cell_type": "code",
   "execution_count": 213,
   "metadata": {
    "collapsed": false
   },
   "outputs": [
    {
     "data": {
      "image/png": "[encoded data removed]",
      "text/plain": [
       "<matplotlib.figure.Figure at 0x7f07110ae390>"
      ]
     },
     "metadata": {},
     "output_type": "display_data"
    }
   ],
   "source": [
    "#-- Distribution des erreurs de prévisions --#    \n",
    "plt.figure(figsize=(8, 6))\n",
    "dataframeErreur.boxplot(return_type='dict')\n",
    "plt.show()"
   ]
  },
  {
   "cell_type": "code",
   "execution_count": 214,
   "metadata": {
    "collapsed": false
   },
   "outputs": [
    {
     "data": {
      "text/plain": [
       "Logit        0.187333\n",
       "AD_lin       0.184167\n",
       "ABD          0.126000\n",
       "vp_bagQn     0.098500\n",
       "vpAdBoost    0.130500\n",
       "cv_boost     0.086333\n",
       "xgboost      0.082333\n",
       "RF           0.099333\n",
       "SVM          0.182667\n",
       "dtype: float64"
      ]
     },
     "execution_count": 214,
     "metadata": {},
     "output_type": "execute_result"
    }
   ],
   "source": [
    "dataframeErreur.mean()"
   ]
  },
  {
   "cell_type": "markdown",
   "metadata": {},
   "source": [
    "Nous remarquons ici que les **méthodes d'aggregation de modèles** semblent être les plus performantes du point de vu de l'erreur de prévision sur l'échantillon test. Parmis elle le boosting se distingue avec des résultats assez convaincants avec notamment l'algorithme XGboost.\n",
    "\n",
    "Les arbres binaires de décision suivent de près, tandis que les SVM, la regression logistique et l'analyse discriminante obtiennent des résultats moins bons. \n",
    "\n",
    "Les courbes ROC peuvent également être tracées à condition de stocker les attributs `decision_function` de chaque modèle, ce qui n'as pas été fait ici dans le but de ne pas ralonger les temps d'execution déjà relativement long."
   ]
  },
  {
   "cell_type": "markdown",
   "metadata": {},
   "source": [
    "### Comparaison avec les résultats de R\n",
    "\n",
    "Nous obtenons des resultats **sensiblement similaires** grâce à l'étude déroulée sous R (après 50 itérations lors de l'étape de comparaison des modèles) avec comme meilleur erreur moyenne 9.05% pour le boosting.\n",
    "<center>\n",
    "<img src=\"https://github.com/MerwannSelmani/Apprentissage-Stat/blob/master/R_boxplot.png?raw=true\" style=\"display: inline\"/>\n",
    "</center>"
   ]
  },
  {
   "cell_type": "markdown",
   "metadata": {},
   "source": [
    "## Conclusion générale \n",
    "\n",
    "### Choix du modèle pour la réalisation de score d'appétence \n",
    "\n",
    "Le modèle priviligié ici serait donc ici le boosting (ou éventuellement d'autres méthodes d'aggrégation de modèle). Même si l'interprétabilité pour ce modèles est moins triviale que pour d'autres, il propose cependant la possibilité de connaitre les variables les plus influentes dans la classification. \n",
    "\n",
    "\n",
    "### Note sur ce calepin\n",
    "\n",
    "Ce calepin reste bien entendu pas exhaustif et présente différentes stratégies dont certaines pourraient être afinées/améliorées. "
   ]
  },
  {
   "cell_type": "markdown",
   "metadata": {},
   "source": [
    "## <a href=\"https://www.python.org/\"><img src=\"https://upload.wikimedia.org/wikipedia/commons/thumb/f/f8/Python_logo_and_wordmark.svg/390px-Python_logo_and_wordmark.svg.png\" style=\"max-width: 120px; display: inline\" alt=\"R\"/></a> vs  <a href=\"https://cran.r-project.org/\"><img src=\"https://cran.r-project.org/Rlogo.svg\" style=\"max-width: 40px; display: inline\" alt=\"R\"/></a> :\n",
    "\n",
    "\n",
    "Nous avons donc lors de ce projet utilisé conjointement deux langages pour réaliser cette étude. Concluons donc sur les avantages et inconvénients relatifs des deux approches.\n",
    "\n",
    "Nous avons pu constater que la practicité de la librairie scikit-learn que nous avons majoritairement utilisé pour l'implémentation des méthodes étudiées. En effet son utilisation est facilitée par une syntaxe analogue dans chaque cas, ainsi qu'une implentation facile d'utilisation de la validation croisée (et donc la mise en place d'une boucle sur les échantillons d'apprentissage et de test lors de la comparaison des modèles). \n",
    "\n",
    "Cette librairie est par ailleurs bien documentée avec un détail assez explicite des paramètres des fonctions et de nombreux exemples illustratifs (ce qui n'est pas toujours le cas de tout les packages R utilisés dans ce travail).\n",
    "\n",
    "Cependant, cette librairie présente quelques manques notables, commme l'absence de l'élagage des arbres de décision notamment. \n",
    "\n",
    "Certaines difficultés liées à l'installation des packages sur les différents logiciels d'exploitation peuvent également être gênants (par exemple l'installation de XGboost sous windows, ou de MCA sous linux...).\n",
    "\n",
    "Concernant R, le package caret est un outil très pratique permettant de retrouver plusieurs des avantages présent sous scikit-learn avec une synthaxe générique pour les différentes méthodes d'apprentissage notamment. Son utilisation pourrait être une bonne piste d'amélioration pour la version R de cette étude.\n",
    "\n",
    "Enfin, d'un point de vu des temps d'exécution, nous avons également put remarque l'avantage de Python vis à vis du langage R."
   ]
  },
  {
   "cell_type": "code",
   "execution_count": null,
   "metadata": {
    "collapsed": true
   },
   "outputs": [],
   "source": []
  }
 ],
 "metadata": {
  "anaconda-cloud": {},
  "kernelspec": {
   "display_name": "Python [default]",
   "language": "python",
   "name": "python2"
  },
  "language_info": {
   "codemirror_mode": {
    "name": "ipython",
    "version": 2
   },
   "file_extension": ".py",
   "mimetype": "text/x-python",
   "name": "python",
   "nbconvert_exporter": "python",
   "pygments_lexer": "ipython2",
   "version": "2.7.12"
  }
 },
 "nbformat": 4,
 "nbformat_minor": 0
}
